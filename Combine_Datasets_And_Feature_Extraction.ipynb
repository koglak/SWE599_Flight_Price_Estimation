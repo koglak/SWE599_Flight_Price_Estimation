{
 "cells": [
  {
   "cell_type": "code",
   "execution_count": 1,
   "id": "e0340750",
   "metadata": {},
   "outputs": [],
   "source": [
    "import pandas as pd\n",
    "import glob\n",
    "import os\n",
    "import numpy as np\n",
    "import datetime as datetime"
   ]
  },
  {
   "cell_type": "code",
   "execution_count": 2,
   "id": "f96c5609",
   "metadata": {},
   "outputs": [
    {
     "data": {
      "text/plain": [
       "139051"
      ]
     },
     "execution_count": 2,
     "metadata": {},
     "output_type": "execute_result"
    }
   ],
   "source": [
    "# merging the files\n",
    "joined_files = os.path.join(r\"C:\\Users\\kogla\\OneDrive\\Masaüstü\\SWE599\\dataset\", \"*.csv\")\n",
    "\n",
    "# A list of all joined files is returned\n",
    "joined_list = glob.glob(joined_files)\n",
    "\n",
    "# Finally, the files are joined\n",
    "df = pd.concat(map(pd.read_csv, joined_list), ignore_index=True).drop('Unnamed: 0', axis=1)\n",
    "\n",
    "df.shape[0]"
   ]
  },
  {
   "cell_type": "code",
   "execution_count": 3,
   "id": "7f38b021",
   "metadata": {},
   "outputs": [],
   "source": [
    "df[['departure_date','departure_week_day']] = df['departure_date'].str.split(\",\",expand=True)"
   ]
  },
  {
   "cell_type": "code",
   "execution_count": 4,
   "id": "06c9615d",
   "metadata": {},
   "outputs": [],
   "source": [
    "df['departure_date'] = df['departure_date'].str.replace(' Ara ', '/12/')\n",
    "df['departure_date'] = df['departure_date'].str.replace(' Kas ', '/11/')\n",
    "df['departure_date'] = df['departure_date'].str.replace(' Eki ', '/10/')\n",
    "df['departure_date'] = df['departure_date'].str.replace(' Eyl ', '/09/')\n",
    "df['departure_date'] = df['departure_date'].str.replace(' Ağu ', '/08/')\n",
    "df['departure_date'] = df['departure_date'].str.replace(' Tem ', '/07/')\n",
    "df['departure_date'] = df['departure_date'].str.replace(' Haz ', '/06/')\n",
    "df['departure_date'] = df['departure_date'].str.replace(' May ', '/05/')\n",
    "df['departure_date'] = df['departure_date'].str.replace(' Nis ', '/04/')\n",
    "df['departure_date'] = df['departure_date'].str.replace(' Mar ', '/03/')\n",
    "df['departure_date'] = df['departure_date'].str.replace(' Şub ', '/02/')\n",
    "df['departure_date'] = df['departure_date'].str.replace(' Oca ', '/01/')\n",
    "df['departure_date'] = df['departure_date'].str.replace(' ', '')"
   ]
  },
  {
   "cell_type": "code",
   "execution_count": 5,
   "id": "67014d21",
   "metadata": {},
   "outputs": [],
   "source": [
    "df[['checked_date','checked_time']] = df['checked_date'].str.split(\" \",expand=True)"
   ]
  },
  {
   "cell_type": "code",
   "execution_count": 6,
   "id": "8ed4af5b",
   "metadata": {},
   "outputs": [],
   "source": [
    "# str to datetime conversion for dates DD-MM-YY\n",
    "df['departure_date'] = pd.to_datetime(df['departure_date'], format='%d/%m/%Y')\n",
    "df['checked_date'] = pd.to_datetime(df['checked_date'], format='%d/%m/%Y')\n",
    "\n",
    "# str to datetime conversion for time HH:MM:SS\n",
    "df['departure_time'] = pd.to_datetime(df['departure_time'],format= '%H:%M' ).dt.time\n",
    "df['arrival_time'] = pd.to_datetime(df['arrival_time'],format= '%H:%M' ).dt.time\n",
    "df['checked_time'] = pd.to_datetime(df['checked_time'],format= '%H:%M' ).dt.time"
   ]
  },
  {
   "cell_type": "code",
   "execution_count": 7,
   "id": "e196e3b6",
   "metadata": {},
   "outputs": [],
   "source": [
    "# price str to float conversion\n",
    "df.columns = df.columns.str.replace('price', 'price_try')\n",
    "df['price_try'] = df['price_try'].str.replace('.', '', regex=False)\n",
    "df['price_try'] = df['price_try'].str.replace(\",\", \".\", regex=False)\n",
    "df[\"price_try\"] = pd.to_numeric(df[\"price_try\"], downcast=\"float\")\n",
    "df[\"price_try\"]=df[\"price_try\"].apply(lambda row: round(row,2))"
   ]
  },
  {
   "cell_type": "code",
   "execution_count": 8,
   "id": "0ae992a6",
   "metadata": {},
   "outputs": [],
   "source": [
    "# weekday name extraction for checked date and departure date (Monday, Tuesday...)\n",
    "df['departure_week_day'] = df['departure_date'].dt.day_name()\n",
    "df['checked_week_day'] = df['checked_date'].dt.day_name()\n",
    "\n",
    "# month & day extraction\n",
    "df['departure_day'] = df.departure_date.apply(lambda x: x.day)\n",
    "df['departure_month'] = df.departure_date.apply(lambda x: x.month)\n"
   ]
  },
  {
   "cell_type": "code",
   "execution_count": 9,
   "id": "fe0d2c98",
   "metadata": {},
   "outputs": [],
   "source": [
    "# feature extraction\n",
    "# calculation remaining days to flight\n",
    "df['remaining_day_to_flight'] = (df['departure_date'] - df['checked_date']).dt.days"
   ]
  },
  {
   "cell_type": "code",
   "execution_count": 10,
   "id": "89e4384c",
   "metadata": {},
   "outputs": [],
   "source": [
    "def arrival_city_name(row):\n",
    "    if row == \"ADB\" :\n",
    "        return 'Izmir'\n",
    "    elif row == \"ESB\" :\n",
    "        return 'Ankara'\n",
    "    elif row== \"AYT\" :\n",
    "        return 'Antalya'\n",
    "    elif row == \"ADA\" :\n",
    "        return 'Adana'\n",
    "    elif row == \"BJV\" :\n",
    "        return 'Bodrum Milas'\n",
    "    elif row == \"DLM\" :\n",
    "        return 'Dalaman'\n",
    "    elif row == \"TZX\" :\n",
    "        return 'Trabzon'\n",
    "    elif row == \"GZT\" :\n",
    "        return 'Gaziantep'\n",
    "    elif row == \"DIY\" :\n",
    "        return 'Diyarbakir'\n",
    "    elif row == \"HTY\" :\n",
    "        return 'Hatay'\n",
    "    elif row == \"KSY\" :\n",
    "        return 'Kars'\n",
    "    elif row == \"ERZ\" :\n",
    "        return 'Erzurum'\n",
    "    elif row == \"MQM\" :\n",
    "        return 'Mardin'\n",
    "    else:\n",
    "        return none"
   ]
  },
  {
   "cell_type": "code",
   "execution_count": 11,
   "id": "f7a0f0a7",
   "metadata": {},
   "outputs": [],
   "source": [
    "def departure_airport_name(row):\n",
    "    if row == \"SAW\" :\n",
    "        return 'Sabiha Gökçen Airport'\n",
    "    elif row == \"IST\" :\n",
    "        return 'Istanbul Airport'\n",
    "    else:\n",
    "        return none"
   ]
  },
  {
   "cell_type": "code",
   "execution_count": 12,
   "id": "d75bbd15",
   "metadata": {},
   "outputs": [],
   "source": [
    "# create to column for city names\n",
    "df[\"arrival_city\"]=df[\"arrival_airport\"].apply(lambda row: arrival_city_name(row))\n",
    "df[\"departure_airport_name\"]=df[\"departure_airport\"].apply(lambda row: departure_airport_name(row))"
   ]
  },
  {
   "cell_type": "code",
   "execution_count": 13,
   "id": "d532254b",
   "metadata": {},
   "outputs": [],
   "source": [
    "# feature extraction\n",
    "# calculate day part info for flight departure time\n",
    "df['departure_hour'] = df.departure_time.apply(lambda x: x.hour)\n",
    "conditions = [df.departure_hour.between(0, 4), df.departure_hour.between(4, 8), df.departure_hour.between(8, 12), df.departure_hour.between(12,16), df.departure_hour.between(16,20), df.departure_hour.between(20,24)]\n",
    "choices = ['Late Night', 'Early Morning', 'Morning', 'Noon', 'Evening', 'Night']\n",
    "df['part_of_day'] = np.select(conditions, choices)"
   ]
  },
  {
   "cell_type": "code",
   "execution_count": 14,
   "id": "671e1a4f",
   "metadata": {},
   "outputs": [],
   "source": [
    "# feature extraction\n",
    "# find if flight date is end of month or weekend\n",
    "df['is_weekend'] = np.where((pd.to_datetime(df['departure_date'],format='%Y-%m-%d').dt.dayofweek) < 5,0,1) \n",
    "df[\"is_weekend\"]=df[\"is_weekend\"].apply(lambda row: \"Weekend\" if row else \"Weekday\")\n",
    "df[\"part_of_month\"]=df[\"departure_day\"].apply(lambda row: \"Beginning\" if row<=10 else (\"Middle\" if row<=20 else \"End\"))"
   ]
  },
  {
   "cell_type": "code",
   "execution_count": 15,
   "id": "e7981861",
   "metadata": {},
   "outputs": [],
   "source": [
    "#duration calculation as minutes\n",
    "def durationConversion(row):\n",
    "    if \"dk\" in row:\n",
    "        row=row.replace(\"dk\",\"\").split(\"sa\")\n",
    "        return int(row[0])*60 + int(row[1])\n",
    "    else:\n",
    "        row=row.replace(\"sa\", \"\")\n",
    "        return int(row)*60"
   ]
  },
  {
   "cell_type": "code",
   "execution_count": 16,
   "id": "6cba6d24",
   "metadata": {},
   "outputs": [],
   "source": [
    "# duration calculation as total minutes\n",
    "df[\"duration(min)\"]=df[\"duration\"].apply(lambda row: durationConversion(row))"
   ]
  },
  {
   "cell_type": "code",
   "execution_count": 17,
   "id": "a292e964",
   "metadata": {},
   "outputs": [],
   "source": [
    "df=df.drop(['checked_date', 'duration', 'checked_time'], axis=1)"
   ]
  },
  {
   "cell_type": "code",
   "execution_count": 18,
   "id": "1fc737fe",
   "metadata": {},
   "outputs": [
    {
     "data": {
      "text/html": [
       "<div>\n",
       "<style scoped>\n",
       "    .dataframe tbody tr th:only-of-type {\n",
       "        vertical-align: middle;\n",
       "    }\n",
       "\n",
       "    .dataframe tbody tr th {\n",
       "        vertical-align: top;\n",
       "    }\n",
       "\n",
       "    .dataframe thead th {\n",
       "        text-align: right;\n",
       "    }\n",
       "</style>\n",
       "<table border=\"1\" class=\"dataframe\">\n",
       "  <thead>\n",
       "    <tr style=\"text-align: right;\">\n",
       "      <th></th>\n",
       "      <th>company</th>\n",
       "      <th>departure_airport</th>\n",
       "      <th>arrival_airport</th>\n",
       "      <th>departure_time</th>\n",
       "      <th>arrival_time</th>\n",
       "      <th>departure_date</th>\n",
       "      <th>price_try</th>\n",
       "      <th>departure_week_day</th>\n",
       "      <th>checked_week_day</th>\n",
       "      <th>departure_day</th>\n",
       "      <th>departure_month</th>\n",
       "      <th>remaining_day_to_flight</th>\n",
       "      <th>arrival_city</th>\n",
       "      <th>departure_airport_name</th>\n",
       "      <th>departure_hour</th>\n",
       "      <th>part_of_day</th>\n",
       "      <th>is_weekend</th>\n",
       "      <th>part_of_month</th>\n",
       "      <th>duration(min)</th>\n",
       "    </tr>\n",
       "  </thead>\n",
       "  <tbody>\n",
       "    <tr>\n",
       "      <th>0</th>\n",
       "      <td>AnadoluJet</td>\n",
       "      <td>SAW</td>\n",
       "      <td>ADB</td>\n",
       "      <td>07:30:00</td>\n",
       "      <td>08:40:00</td>\n",
       "      <td>2022-11-14</td>\n",
       "      <td>506.99</td>\n",
       "      <td>Monday</td>\n",
       "      <td>Tuesday</td>\n",
       "      <td>14</td>\n",
       "      <td>11</td>\n",
       "      <td>13</td>\n",
       "      <td>Izmir</td>\n",
       "      <td>Sabiha Gökçen Airport</td>\n",
       "      <td>7</td>\n",
       "      <td>Early Morning</td>\n",
       "      <td>Weekday</td>\n",
       "      <td>Middle</td>\n",
       "      <td>70</td>\n",
       "    </tr>\n",
       "    <tr>\n",
       "      <th>1</th>\n",
       "      <td>AnadoluJet</td>\n",
       "      <td>SAW</td>\n",
       "      <td>ADB</td>\n",
       "      <td>09:20:00</td>\n",
       "      <td>10:30:00</td>\n",
       "      <td>2022-11-14</td>\n",
       "      <td>506.99</td>\n",
       "      <td>Monday</td>\n",
       "      <td>Tuesday</td>\n",
       "      <td>14</td>\n",
       "      <td>11</td>\n",
       "      <td>13</td>\n",
       "      <td>Izmir</td>\n",
       "      <td>Sabiha Gökçen Airport</td>\n",
       "      <td>9</td>\n",
       "      <td>Morning</td>\n",
       "      <td>Weekday</td>\n",
       "      <td>Middle</td>\n",
       "      <td>70</td>\n",
       "    </tr>\n",
       "    <tr>\n",
       "      <th>2</th>\n",
       "      <td>AnadoluJet</td>\n",
       "      <td>SAW</td>\n",
       "      <td>ADB</td>\n",
       "      <td>20:55:00</td>\n",
       "      <td>22:05:00</td>\n",
       "      <td>2022-11-14</td>\n",
       "      <td>506.99</td>\n",
       "      <td>Monday</td>\n",
       "      <td>Tuesday</td>\n",
       "      <td>14</td>\n",
       "      <td>11</td>\n",
       "      <td>13</td>\n",
       "      <td>Izmir</td>\n",
       "      <td>Sabiha Gökçen Airport</td>\n",
       "      <td>20</td>\n",
       "      <td>Evening</td>\n",
       "      <td>Weekday</td>\n",
       "      <td>Middle</td>\n",
       "      <td>70</td>\n",
       "    </tr>\n",
       "    <tr>\n",
       "      <th>3</th>\n",
       "      <td>Pegasus</td>\n",
       "      <td>SAW</td>\n",
       "      <td>ADB</td>\n",
       "      <td>23:35:00</td>\n",
       "      <td>00:45:00</td>\n",
       "      <td>2022-11-14</td>\n",
       "      <td>539.99</td>\n",
       "      <td>Monday</td>\n",
       "      <td>Tuesday</td>\n",
       "      <td>14</td>\n",
       "      <td>11</td>\n",
       "      <td>13</td>\n",
       "      <td>Izmir</td>\n",
       "      <td>Sabiha Gökçen Airport</td>\n",
       "      <td>23</td>\n",
       "      <td>Night</td>\n",
       "      <td>Weekday</td>\n",
       "      <td>Middle</td>\n",
       "      <td>70</td>\n",
       "    </tr>\n",
       "    <tr>\n",
       "      <th>4</th>\n",
       "      <td>Pegasus</td>\n",
       "      <td>SAW</td>\n",
       "      <td>ADB</td>\n",
       "      <td>09:10:00</td>\n",
       "      <td>10:20:00</td>\n",
       "      <td>2022-11-14</td>\n",
       "      <td>542.99</td>\n",
       "      <td>Monday</td>\n",
       "      <td>Tuesday</td>\n",
       "      <td>14</td>\n",
       "      <td>11</td>\n",
       "      <td>13</td>\n",
       "      <td>Izmir</td>\n",
       "      <td>Sabiha Gökçen Airport</td>\n",
       "      <td>9</td>\n",
       "      <td>Morning</td>\n",
       "      <td>Weekday</td>\n",
       "      <td>Middle</td>\n",
       "      <td>70</td>\n",
       "    </tr>\n",
       "  </tbody>\n",
       "</table>\n",
       "</div>"
      ],
      "text/plain": [
       "      company departure_airport arrival_airport departure_time arrival_time  \\\n",
       "0  AnadoluJet               SAW             ADB       07:30:00     08:40:00   \n",
       "1  AnadoluJet               SAW             ADB       09:20:00     10:30:00   \n",
       "2  AnadoluJet               SAW             ADB       20:55:00     22:05:00   \n",
       "3     Pegasus               SAW             ADB       23:35:00     00:45:00   \n",
       "4     Pegasus               SAW             ADB       09:10:00     10:20:00   \n",
       "\n",
       "  departure_date  price_try departure_week_day checked_week_day  \\\n",
       "0     2022-11-14     506.99             Monday          Tuesday   \n",
       "1     2022-11-14     506.99             Monday          Tuesday   \n",
       "2     2022-11-14     506.99             Monday          Tuesday   \n",
       "3     2022-11-14     539.99             Monday          Tuesday   \n",
       "4     2022-11-14     542.99             Monday          Tuesday   \n",
       "\n",
       "   departure_day  departure_month  remaining_day_to_flight arrival_city  \\\n",
       "0             14               11                       13        Izmir   \n",
       "1             14               11                       13        Izmir   \n",
       "2             14               11                       13        Izmir   \n",
       "3             14               11                       13        Izmir   \n",
       "4             14               11                       13        Izmir   \n",
       "\n",
       "  departure_airport_name  departure_hour    part_of_day is_weekend  \\\n",
       "0  Sabiha Gökçen Airport               7  Early Morning    Weekday   \n",
       "1  Sabiha Gökçen Airport               9        Morning    Weekday   \n",
       "2  Sabiha Gökçen Airport              20        Evening    Weekday   \n",
       "3  Sabiha Gökçen Airport              23          Night    Weekday   \n",
       "4  Sabiha Gökçen Airport               9        Morning    Weekday   \n",
       "\n",
       "  part_of_month  duration(min)  \n",
       "0        Middle             70  \n",
       "1        Middle             70  \n",
       "2        Middle             70  \n",
       "3        Middle             70  \n",
       "4        Middle             70  "
      ]
     },
     "execution_count": 18,
     "metadata": {},
     "output_type": "execute_result"
    }
   ],
   "source": [
    "df.head()"
   ]
  },
  {
   "cell_type": "code",
   "execution_count": 19,
   "id": "1a20cdbd",
   "metadata": {
    "scrolled": true
   },
   "outputs": [
    {
     "data": {
      "text/plain": [
       "company                    False\n",
       "departure_airport          False\n",
       "arrival_airport            False\n",
       "departure_time             False\n",
       "arrival_time               False\n",
       "departure_date             False\n",
       "price_try                  False\n",
       "departure_week_day         False\n",
       "checked_week_day           False\n",
       "departure_day              False\n",
       "departure_month            False\n",
       "remaining_day_to_flight    False\n",
       "arrival_city               False\n",
       "departure_airport_name     False\n",
       "departure_hour             False\n",
       "part_of_day                False\n",
       "is_weekend                 False\n",
       "part_of_month              False\n",
       "duration(min)              False\n",
       "dtype: bool"
      ]
     },
     "execution_count": 19,
     "metadata": {},
     "output_type": "execute_result"
    }
   ],
   "source": [
    "# check if null values\n",
    "df.isnull().any()"
   ]
  },
  {
   "cell_type": "code",
   "execution_count": 20,
   "id": "638eb95d",
   "metadata": {},
   "outputs": [
    {
     "data": {
      "text/plain": [
       "139051"
      ]
     },
     "execution_count": 20,
     "metadata": {},
     "output_type": "execute_result"
    }
   ],
   "source": [
    "df.shape[0]"
   ]
  },
  {
   "cell_type": "code",
   "execution_count": 21,
   "id": "505ba693",
   "metadata": {},
   "outputs": [
    {
     "data": {
      "text/plain": [
       "9538"
      ]
     },
     "execution_count": 21,
     "metadata": {},
     "output_type": "execute_result"
    }
   ],
   "source": [
    "df.duplicated().sum()"
   ]
  },
  {
   "cell_type": "code",
   "execution_count": 22,
   "id": "11e52fd4",
   "metadata": {},
   "outputs": [],
   "source": [
    "df = df.drop_duplicates()"
   ]
  },
  {
   "cell_type": "code",
   "execution_count": 23,
   "id": "d6f55c57",
   "metadata": {},
   "outputs": [
    {
     "data": {
      "text/plain": [
       "129513"
      ]
     },
     "execution_count": 23,
     "metadata": {},
     "output_type": "execute_result"
    }
   ],
   "source": [
    "df.shape[0]"
   ]
  },
  {
   "cell_type": "code",
   "execution_count": 24,
   "id": "0ea567f7",
   "metadata": {},
   "outputs": [
    {
     "name": "stdout",
     "output_type": "stream",
     "text": [
      "<class 'pandas.core.frame.DataFrame'>\n",
      "Int64Index: 129513 entries, 0 to 139050\n",
      "Data columns (total 19 columns):\n",
      " #   Column                   Non-Null Count   Dtype         \n",
      "---  ------                   --------------   -----         \n",
      " 0   company                  129513 non-null  object        \n",
      " 1   departure_airport        129513 non-null  object        \n",
      " 2   arrival_airport          129513 non-null  object        \n",
      " 3   departure_time           129513 non-null  object        \n",
      " 4   arrival_time             129513 non-null  object        \n",
      " 5   departure_date           129513 non-null  datetime64[ns]\n",
      " 6   price_try                129513 non-null  float64       \n",
      " 7   departure_week_day       129513 non-null  object        \n",
      " 8   checked_week_day         129513 non-null  object        \n",
      " 9   departure_day            129513 non-null  int64         \n",
      " 10  departure_month          129513 non-null  int64         \n",
      " 11  remaining_day_to_flight  129513 non-null  int64         \n",
      " 12  arrival_city             129513 non-null  object        \n",
      " 13  departure_airport_name   129513 non-null  object        \n",
      " 14  departure_hour           129513 non-null  int64         \n",
      " 15  part_of_day              129513 non-null  object        \n",
      " 16  is_weekend               129513 non-null  object        \n",
      " 17  part_of_month            129513 non-null  object        \n",
      " 18  duration(min)            129513 non-null  int64         \n",
      "dtypes: datetime64[ns](1), float64(1), int64(5), object(12)\n",
      "memory usage: 19.8+ MB\n"
     ]
    }
   ],
   "source": [
    "df.info()"
   ]
  },
  {
   "cell_type": "code",
   "execution_count": 25,
   "id": "7e815e18",
   "metadata": {},
   "outputs": [],
   "source": [
    "# save csv file\n",
    "df.to_csv(r'C:\\Users\\kogla\\OneDrive\\SWE599-Flight-Ticket-Price-Estimation-Project\\merged.csv')"
   ]
  }
 ],
 "metadata": {
  "kernelspec": {
   "display_name": "Python 3 (ipykernel)",
   "language": "python",
   "name": "python3"
  },
  "language_info": {
   "codemirror_mode": {
    "name": "ipython",
    "version": 3
   },
   "file_extension": ".py",
   "mimetype": "text/x-python",
   "name": "python",
   "nbconvert_exporter": "python",
   "pygments_lexer": "ipython3",
   "version": "3.9.13"
  }
 },
 "nbformat": 4,
 "nbformat_minor": 5
}
