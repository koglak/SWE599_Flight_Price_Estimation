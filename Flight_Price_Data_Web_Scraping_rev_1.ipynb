{
 "cells": [
  {
   "cell_type": "code",
   "execution_count": 72,
   "id": "fb2839d0",
   "metadata": {},
   "outputs": [],
   "source": [
    "from selenium import webdriver\n",
    "from selenium.webdriver.common.by import By\n",
    "from selenium.webdriver.common.keys import Keys\n",
    "import selenium.common.exceptions as selexcept\n",
    "from selenium.webdriver.chrome.service import Service\n",
    "from webdriver_manager.chrome import ChromeDriverManager\n",
    "\n",
    "# Pandas imports using Pandas for structuring our data\n",
    "import pandas as pd\n",
    "from datetime import datetime\n",
    "import os.path\n",
    "import re\n",
    "import sys\n",
    "import glob\n",
    "import time\n"
   ]
  },
  {
   "cell_type": "code",
   "execution_count": 234,
   "id": "d68e0d57",
   "metadata": {},
   "outputs": [
    {
     "name": "stderr",
     "output_type": "stream",
     "text": [
      "C:\\Users\\kogla\\AppData\\Local\\Temp\\ipykernel_8480\\1102185464.py:1: UserWarning: Parsing dates in DD/MM/YYYY format when dayfirst=False (the default) was specified. This may lead to inconsistently parsed dates! Specify a format to ensure consistent parsing.\n",
      "  date_list = pd.date_range(start='14.11.2022',end='14.12.2022').strftime('%d.%m.%Y').tolist()\n"
     ]
    }
   ],
   "source": [
    "date_list = pd.date_range(start='14.11.2022',end='14.12.2022').strftime('%d.%m.%Y').tolist()"
   ]
  },
  {
   "cell_type": "code",
   "execution_count": 237,
   "id": "52fae434",
   "metadata": {},
   "outputs": [],
   "source": [
    "airports=[[\"izmir\", \"adnan-menderes-havalimani\",\"adb\"],\n",
    "          [\"ankara\", \"esenboga-havalimani\",\"esb\"],\n",
    "          [\"antalya\",\"havalimani\",\"ayt\"],\n",
    "          [\"adana\",\"sakir-pasa-havalimani\",\"ada\"],\n",
    "          [\"bodrum\",\"milas-havalimani\",\"bjv\"],\n",
    "          [\"dalaman\",\"havalimani\",\"dlm\"],\n",
    "          [\"trabzon\",\"havalimani\",\"tzx\"],\n",
    "          [\"gaziantep\",\"oguzeli-havalimani\",\"gzt\"],\n",
    "          [\"diyarbakir\",\"havalimani\",\"diy\"],\n",
    "          [\"van\",\"ferit-melen-havalimani\",\"van\"],\n",
    "          [\"erzurum\",\"havalimani\",\"erz\"],\n",
    "          [\"hatay\",\"havalimani\",\"hty\"],\n",
    "]"
   ]
  },
  {
   "cell_type": "code",
   "execution_count": 232,
   "id": "fb576102",
   "metadata": {},
   "outputs": [
    {
     "name": "stdout",
     "output_type": "stream",
     "text": [
      "637\n",
      "https://www.enuygun.com/ucak-bileti/istanbul-samsun-carsamba-havalimani-ista-szf/?gidis=17.12.2022&yetiskin=1&sinif=ekonomi&save=1&geotrip=domestic&trip=domestic\n",
      "adana-14-11-2022\n"
     ]
    }
   ],
   "source": [
    "URLs=[]\n",
    "file_name=[]\n",
    "for date_len in range(0,len(date_list)):\n",
    "    for dep in range(0,len(airports)):\n",
    "        url= \"https://www.enuygun.com/ucak-bileti/istanbul-\"+ airports[arr][0]+\"-\"+airports[arr][1]+\"-ista-\"+airports[arr][2]+\"/?gidis=\"+date_list[date_len]+\"&yetiskin=1&sinif=ekonomi&save=1&geotrip=domestic&trip=domestic\"\n",
    "        URLs.append(url)\n",
    "        file_name.append(airports[dep][0]+\"-\"+date_list[0].replace(\".\",\"-\"))"
   ]
  },
  {
   "cell_type": "code",
   "execution_count": null,
   "id": "d06b1dc9",
   "metadata": {},
   "outputs": [],
   "source": [
    "for num in range(0,len(URLs)):\n",
    "    \n",
    "    #run driver on Chrome\n",
    "    driver = webdriver.Chrome(service=Service(ChromeDriverManager().install()))\n",
    "    driver.get(URLs[num])\n",
    "    \n",
    "    #get flights\n",
    "    flights= driver.find_elements(By.CLASS_NAME, \"flight-summary-infos\")\n",
    "    flights_list=[]\n",
    "\n",
    "    #push each flight info to flights_list\n",
    "    for flight in flights: \n",
    "        checked_date=datetime.now().strftime(\"%d/%m/%Y %H:%M\")\n",
    "        company= flight.find_elements(By.CLASS_NAME, \"summary-marketing-airlines\")[0].text\n",
    "        departure_airport= flight.find_elements(By.CLASS_NAME, \"itemAirport\")[0].text\n",
    "        arrival_airport= flight.find_elements(By.CLASS_NAME, \"itemAirport\")[2].text\n",
    "        departure_time= flight.find_elements(By.CLASS_NAME, \"flight-departure-time\")[0].text\n",
    "        arrival_time= flight.find_elements(By.CLASS_NAME, \"flight-arrival-time\")[0].text\n",
    "        departure_date= flight.find_elements(By.XPATH, \"//*[@id='SearchRoot']/div/div[1]/div/div[1]/div\")[0].text.split('|')[1]\n",
    "        duration= flight.find_elements(By.XPATH, \"//*[@id='SearchRoot']/div/div[2]/div[2]/div/div[2]/div[1]/div/div[2]/div[1]/div/div[1]/div[2]/div/div[3]/div[2]/span\")[0].text\n",
    "        price= flight.find_elements(By.CLASS_NAME, \"money-int\")[0].text + flight.find_elements(By.CLASS_NAME, \"money-decimal\")[0].text\n",
    "\n",
    "        flight_item={\n",
    "            'checked_date':checked_date,\n",
    "            'company':company,\n",
    "            'departure_airport':departure_airport,\n",
    "            'arrival_airport': arrival_airport,\n",
    "            'departure_time': departure_time,\n",
    "            'arrival_time': arrival_time,\n",
    "            'departure_date':departure_date,\n",
    "            'duration': duration,\n",
    "            'price':price,\n",
    "        }\n",
    "\n",
    "        flights_list.append(flight_item)\n",
    "    \n",
    "        #convert dataframe\n",
    "        df=pd.DataFrame(flights_list)\n",
    "        #save to local file\n",
    "        df.to_csv(r'C:\\Users\\kogla\\OneDrive\\Masaüstü\\SWE599\\dataset\\{}.csv'.format(file_name[num]), index = True, header=True)\n",
    "\n"
   ]
  }
 ],
 "metadata": {
  "kernelspec": {
   "display_name": "Python 3 (ipykernel)",
   "language": "python",
   "name": "python3"
  },
  "language_info": {
   "codemirror_mode": {
    "name": "ipython",
    "version": 3
   },
   "file_extension": ".py",
   "mimetype": "text/x-python",
   "name": "python",
   "nbconvert_exporter": "python",
   "pygments_lexer": "ipython3",
   "version": "3.10.7"
  }
 },
 "nbformat": 4,
 "nbformat_minor": 5
}
