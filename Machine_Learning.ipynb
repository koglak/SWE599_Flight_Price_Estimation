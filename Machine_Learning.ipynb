{
 "cells": [
  {
   "cell_type": "code",
   "execution_count": 1,
   "id": "12c3bc19",
   "metadata": {},
   "outputs": [],
   "source": [
    "import pandas as pd\n",
    "import numpy as np\n",
    "from numpy import mean\n",
    "from numpy import std\n",
    "\n",
    "import matplotlib.pyplot as plt\n",
    "\n",
    "from sklearn.model_selection import train_test_split\n",
    "\n",
    "from sklearn.preprocessing import StandardScaler\n",
    "\n",
    "from sklearn.metrics import mean_squared_error as mse\n",
    "from sklearn.metrics import r2_score\n",
    "from sklearn.metrics import confusion_matrix\n",
    "from sklearn.metrics import explained_variance_score\n",
    "\n",
    "from math import sqrt\n",
    "\n",
    "from sklearn.model_selection import GridSearchCV\n",
    "from sklearn.model_selection import RandomizedSearchCV\n",
    "\n",
    "from sklearn.neighbors import KNeighborsRegressor\n",
    "from sklearn.linear_model import Ridge\n",
    "from sklearn.linear_model import Lasso\n",
    "from sklearn.tree import DecisionTreeRegressor\n",
    "from sklearn.ensemble import RandomForestRegressor\n",
    "from sklearn.svm import SVR\n",
    "\n",
    "from xgboost import XGBRegressor"
   ]
  },
  {
   "cell_type": "code",
   "execution_count": 2,
   "id": "1488b012",
   "metadata": {},
   "outputs": [
    {
     "data": {
      "text/html": [
       "<div>\n",
       "<style scoped>\n",
       "    .dataframe tbody tr th:only-of-type {\n",
       "        vertical-align: middle;\n",
       "    }\n",
       "\n",
       "    .dataframe tbody tr th {\n",
       "        vertical-align: top;\n",
       "    }\n",
       "\n",
       "    .dataframe thead th {\n",
       "        text-align: right;\n",
       "    }\n",
       "</style>\n",
       "<table border=\"1\" class=\"dataframe\">\n",
       "  <thead>\n",
       "    <tr style=\"text-align: right;\">\n",
       "      <th></th>\n",
       "      <th>company</th>\n",
       "      <th>departure_airport</th>\n",
       "      <th>arrival_airport</th>\n",
       "      <th>departure_time</th>\n",
       "      <th>arrival_time</th>\n",
       "      <th>departure_date</th>\n",
       "      <th>price_try</th>\n",
       "      <th>departure_week_day</th>\n",
       "      <th>checked_week_day</th>\n",
       "      <th>departure_day</th>\n",
       "      <th>departure_month</th>\n",
       "      <th>remaining_day_to_flight</th>\n",
       "      <th>arrival_city</th>\n",
       "      <th>departure_airport_name</th>\n",
       "      <th>departure_hour</th>\n",
       "      <th>part_of_day</th>\n",
       "      <th>is_weekend</th>\n",
       "      <th>part_of_month</th>\n",
       "      <th>duration(min)</th>\n",
       "    </tr>\n",
       "  </thead>\n",
       "  <tbody>\n",
       "    <tr>\n",
       "      <th>0</th>\n",
       "      <td>AnadoluJet</td>\n",
       "      <td>SAW</td>\n",
       "      <td>ADB</td>\n",
       "      <td>07:30:00</td>\n",
       "      <td>08:40:00</td>\n",
       "      <td>2022-11-14</td>\n",
       "      <td>506.99</td>\n",
       "      <td>Monday</td>\n",
       "      <td>Tuesday</td>\n",
       "      <td>14</td>\n",
       "      <td>11</td>\n",
       "      <td>13</td>\n",
       "      <td>Izmir</td>\n",
       "      <td>Sabiha Gökçen Airport</td>\n",
       "      <td>7</td>\n",
       "      <td>Early Morning</td>\n",
       "      <td>Weekday</td>\n",
       "      <td>Middle</td>\n",
       "      <td>70</td>\n",
       "    </tr>\n",
       "    <tr>\n",
       "      <th>1</th>\n",
       "      <td>AnadoluJet</td>\n",
       "      <td>SAW</td>\n",
       "      <td>ADB</td>\n",
       "      <td>09:20:00</td>\n",
       "      <td>10:30:00</td>\n",
       "      <td>2022-11-14</td>\n",
       "      <td>506.99</td>\n",
       "      <td>Monday</td>\n",
       "      <td>Tuesday</td>\n",
       "      <td>14</td>\n",
       "      <td>11</td>\n",
       "      <td>13</td>\n",
       "      <td>Izmir</td>\n",
       "      <td>Sabiha Gökçen Airport</td>\n",
       "      <td>9</td>\n",
       "      <td>Morning</td>\n",
       "      <td>Weekday</td>\n",
       "      <td>Middle</td>\n",
       "      <td>70</td>\n",
       "    </tr>\n",
       "    <tr>\n",
       "      <th>2</th>\n",
       "      <td>AnadoluJet</td>\n",
       "      <td>SAW</td>\n",
       "      <td>ADB</td>\n",
       "      <td>20:55:00</td>\n",
       "      <td>22:05:00</td>\n",
       "      <td>2022-11-14</td>\n",
       "      <td>506.99</td>\n",
       "      <td>Monday</td>\n",
       "      <td>Tuesday</td>\n",
       "      <td>14</td>\n",
       "      <td>11</td>\n",
       "      <td>13</td>\n",
       "      <td>Izmir</td>\n",
       "      <td>Sabiha Gökçen Airport</td>\n",
       "      <td>20</td>\n",
       "      <td>Evening</td>\n",
       "      <td>Weekday</td>\n",
       "      <td>Middle</td>\n",
       "      <td>70</td>\n",
       "    </tr>\n",
       "    <tr>\n",
       "      <th>3</th>\n",
       "      <td>Pegasus</td>\n",
       "      <td>SAW</td>\n",
       "      <td>ADB</td>\n",
       "      <td>23:35:00</td>\n",
       "      <td>00:45:00</td>\n",
       "      <td>2022-11-14</td>\n",
       "      <td>539.99</td>\n",
       "      <td>Monday</td>\n",
       "      <td>Tuesday</td>\n",
       "      <td>14</td>\n",
       "      <td>11</td>\n",
       "      <td>13</td>\n",
       "      <td>Izmir</td>\n",
       "      <td>Sabiha Gökçen Airport</td>\n",
       "      <td>23</td>\n",
       "      <td>Night</td>\n",
       "      <td>Weekday</td>\n",
       "      <td>Middle</td>\n",
       "      <td>70</td>\n",
       "    </tr>\n",
       "    <tr>\n",
       "      <th>4</th>\n",
       "      <td>Pegasus</td>\n",
       "      <td>SAW</td>\n",
       "      <td>ADB</td>\n",
       "      <td>09:10:00</td>\n",
       "      <td>10:20:00</td>\n",
       "      <td>2022-11-14</td>\n",
       "      <td>542.99</td>\n",
       "      <td>Monday</td>\n",
       "      <td>Tuesday</td>\n",
       "      <td>14</td>\n",
       "      <td>11</td>\n",
       "      <td>13</td>\n",
       "      <td>Izmir</td>\n",
       "      <td>Sabiha Gökçen Airport</td>\n",
       "      <td>9</td>\n",
       "      <td>Morning</td>\n",
       "      <td>Weekday</td>\n",
       "      <td>Middle</td>\n",
       "      <td>70</td>\n",
       "    </tr>\n",
       "  </tbody>\n",
       "</table>\n",
       "</div>"
      ],
      "text/plain": [
       "      company departure_airport arrival_airport departure_time arrival_time  \\\n",
       "0  AnadoluJet               SAW             ADB       07:30:00     08:40:00   \n",
       "1  AnadoluJet               SAW             ADB       09:20:00     10:30:00   \n",
       "2  AnadoluJet               SAW             ADB       20:55:00     22:05:00   \n",
       "3     Pegasus               SAW             ADB       23:35:00     00:45:00   \n",
       "4     Pegasus               SAW             ADB       09:10:00     10:20:00   \n",
       "\n",
       "  departure_date  price_try departure_week_day checked_week_day  \\\n",
       "0     2022-11-14     506.99             Monday          Tuesday   \n",
       "1     2022-11-14     506.99             Monday          Tuesday   \n",
       "2     2022-11-14     506.99             Monday          Tuesday   \n",
       "3     2022-11-14     539.99             Monday          Tuesday   \n",
       "4     2022-11-14     542.99             Monday          Tuesday   \n",
       "\n",
       "   departure_day  departure_month  remaining_day_to_flight arrival_city  \\\n",
       "0             14               11                       13        Izmir   \n",
       "1             14               11                       13        Izmir   \n",
       "2             14               11                       13        Izmir   \n",
       "3             14               11                       13        Izmir   \n",
       "4             14               11                       13        Izmir   \n",
       "\n",
       "  departure_airport_name  departure_hour    part_of_day is_weekend  \\\n",
       "0  Sabiha Gökçen Airport               7  Early Morning    Weekday   \n",
       "1  Sabiha Gökçen Airport               9        Morning    Weekday   \n",
       "2  Sabiha Gökçen Airport              20        Evening    Weekday   \n",
       "3  Sabiha Gökçen Airport              23          Night    Weekday   \n",
       "4  Sabiha Gökçen Airport               9        Morning    Weekday   \n",
       "\n",
       "  part_of_month  duration(min)  \n",
       "0        Middle             70  \n",
       "1        Middle             70  \n",
       "2        Middle             70  \n",
       "3        Middle             70  \n",
       "4        Middle             70  "
      ]
     },
     "execution_count": 2,
     "metadata": {},
     "output_type": "execute_result"
    }
   ],
   "source": [
    "df=pd.read_csv(r'C:\\Users\\kogla\\OneDrive\\SWE599-Flight-Ticket-Price-Estimation-Project\\merged.csv').drop(\"Unnamed: 0\", axis=1)\n",
    "df.head()"
   ]
  },
  {
   "cell_type": "code",
   "execution_count": 3,
   "id": "40cce7ae",
   "metadata": {},
   "outputs": [],
   "source": [
    "# departure_airport and departure_airport_name columns include same info. \n",
    "# arrival_airport and arrival_city columns include same info. Drop arrival_airport.\n",
    "# departure_date is held as departure_day, departure_month\n",
    "# departure_time is held as departure_hour\n",
    "# arrival_time info is not neccessary\n",
    "\n",
    "df=df.drop(['departure_airport', 'arrival_airport', 'departure_date','departure_time', 'arrival_time'], axis=1)"
   ]
  },
  {
   "cell_type": "code",
   "execution_count": 4,
   "id": "387c19dc",
   "metadata": {},
   "outputs": [
    {
     "name": "stdout",
     "output_type": "stream",
     "text": [
      "<class 'pandas.core.frame.DataFrame'>\n",
      "RangeIndex: 129513 entries, 0 to 129512\n",
      "Data columns (total 14 columns):\n",
      " #   Column                   Non-Null Count   Dtype   \n",
      "---  ------                   --------------   -----   \n",
      " 0   company                  129513 non-null  category\n",
      " 1   price_try                129513 non-null  int64   \n",
      " 2   departure_week_day       129513 non-null  category\n",
      " 3   checked_week_day         129513 non-null  category\n",
      " 4   departure_day            129513 non-null  int64   \n",
      " 5   departure_month          129513 non-null  int64   \n",
      " 6   remaining_day_to_flight  129513 non-null  int64   \n",
      " 7   arrival_city             129513 non-null  category\n",
      " 8   departure_airport_name   129513 non-null  category\n",
      " 9   departure_hour           129513 non-null  int64   \n",
      " 10  part_of_day              129513 non-null  category\n",
      " 11  is_weekend               129513 non-null  category\n",
      " 12  part_of_month            129513 non-null  category\n",
      " 13  duration(min)            129513 non-null  int64   \n",
      "dtypes: category(8), int64(6)\n",
      "memory usage: 6.9 MB\n"
     ]
    }
   ],
   "source": [
    "# assign types of each column\n",
    "df['company'] = df.company.astype('category')\n",
    "df['departure_airport_name'] = df.departure_airport_name.astype('category')\n",
    "df['arrival_city'] = df.arrival_city.astype('category')\n",
    "df['part_of_day'] = df.part_of_day.astype('category')\n",
    "df['departure_week_day'] = df.departure_week_day.astype('category')\n",
    "df['part_of_month'] = df.part_of_month.astype('category')\n",
    "df['is_weekend'] = df.is_weekend.astype('category')\n",
    "df['checked_week_day'] = df.checked_week_day.astype('category')\n",
    "df[\"price_try\"] = df[\"price_try\"].astype(\"int64\")\n",
    "\n",
    "df.info()"
   ]
  },
  {
   "cell_type": "code",
   "execution_count": 5,
   "id": "54d4ab17",
   "metadata": {},
   "outputs": [
    {
     "data": {
      "text/html": [
       "<div>\n",
       "<style scoped>\n",
       "    .dataframe tbody tr th:only-of-type {\n",
       "        vertical-align: middle;\n",
       "    }\n",
       "\n",
       "    .dataframe tbody tr th {\n",
       "        vertical-align: top;\n",
       "    }\n",
       "\n",
       "    .dataframe thead th {\n",
       "        text-align: right;\n",
       "    }\n",
       "</style>\n",
       "<table border=\"1\" class=\"dataframe\">\n",
       "  <thead>\n",
       "    <tr style=\"text-align: right;\">\n",
       "      <th></th>\n",
       "      <th>company</th>\n",
       "      <th>price_try</th>\n",
       "      <th>departure_week_day</th>\n",
       "      <th>checked_week_day</th>\n",
       "      <th>departure_day</th>\n",
       "      <th>departure_month</th>\n",
       "      <th>remaining_day_to_flight</th>\n",
       "      <th>arrival_city</th>\n",
       "      <th>departure_airport_name</th>\n",
       "      <th>departure_hour</th>\n",
       "      <th>part_of_day</th>\n",
       "      <th>is_weekend</th>\n",
       "      <th>part_of_month</th>\n",
       "      <th>duration(min)</th>\n",
       "    </tr>\n",
       "  </thead>\n",
       "  <tbody>\n",
       "    <tr>\n",
       "      <th>0</th>\n",
       "      <td>AnadoluJet</td>\n",
       "      <td>506</td>\n",
       "      <td>Monday</td>\n",
       "      <td>Tuesday</td>\n",
       "      <td>14</td>\n",
       "      <td>11</td>\n",
       "      <td>13</td>\n",
       "      <td>Izmir</td>\n",
       "      <td>Sabiha Gökçen Airport</td>\n",
       "      <td>7</td>\n",
       "      <td>Early Morning</td>\n",
       "      <td>Weekday</td>\n",
       "      <td>Middle</td>\n",
       "      <td>70</td>\n",
       "    </tr>\n",
       "    <tr>\n",
       "      <th>1</th>\n",
       "      <td>AnadoluJet</td>\n",
       "      <td>506</td>\n",
       "      <td>Monday</td>\n",
       "      <td>Tuesday</td>\n",
       "      <td>14</td>\n",
       "      <td>11</td>\n",
       "      <td>13</td>\n",
       "      <td>Izmir</td>\n",
       "      <td>Sabiha Gökçen Airport</td>\n",
       "      <td>9</td>\n",
       "      <td>Morning</td>\n",
       "      <td>Weekday</td>\n",
       "      <td>Middle</td>\n",
       "      <td>70</td>\n",
       "    </tr>\n",
       "    <tr>\n",
       "      <th>2</th>\n",
       "      <td>AnadoluJet</td>\n",
       "      <td>506</td>\n",
       "      <td>Monday</td>\n",
       "      <td>Tuesday</td>\n",
       "      <td>14</td>\n",
       "      <td>11</td>\n",
       "      <td>13</td>\n",
       "      <td>Izmir</td>\n",
       "      <td>Sabiha Gökçen Airport</td>\n",
       "      <td>20</td>\n",
       "      <td>Evening</td>\n",
       "      <td>Weekday</td>\n",
       "      <td>Middle</td>\n",
       "      <td>70</td>\n",
       "    </tr>\n",
       "    <tr>\n",
       "      <th>3</th>\n",
       "      <td>Pegasus</td>\n",
       "      <td>539</td>\n",
       "      <td>Monday</td>\n",
       "      <td>Tuesday</td>\n",
       "      <td>14</td>\n",
       "      <td>11</td>\n",
       "      <td>13</td>\n",
       "      <td>Izmir</td>\n",
       "      <td>Sabiha Gökçen Airport</td>\n",
       "      <td>23</td>\n",
       "      <td>Night</td>\n",
       "      <td>Weekday</td>\n",
       "      <td>Middle</td>\n",
       "      <td>70</td>\n",
       "    </tr>\n",
       "    <tr>\n",
       "      <th>4</th>\n",
       "      <td>Pegasus</td>\n",
       "      <td>542</td>\n",
       "      <td>Monday</td>\n",
       "      <td>Tuesday</td>\n",
       "      <td>14</td>\n",
       "      <td>11</td>\n",
       "      <td>13</td>\n",
       "      <td>Izmir</td>\n",
       "      <td>Sabiha Gökçen Airport</td>\n",
       "      <td>9</td>\n",
       "      <td>Morning</td>\n",
       "      <td>Weekday</td>\n",
       "      <td>Middle</td>\n",
       "      <td>70</td>\n",
       "    </tr>\n",
       "  </tbody>\n",
       "</table>\n",
       "</div>"
      ],
      "text/plain": [
       "      company  price_try departure_week_day checked_week_day  departure_day  \\\n",
       "0  AnadoluJet        506             Monday          Tuesday             14   \n",
       "1  AnadoluJet        506             Monday          Tuesday             14   \n",
       "2  AnadoluJet        506             Monday          Tuesday             14   \n",
       "3     Pegasus        539             Monday          Tuesday             14   \n",
       "4     Pegasus        542             Monday          Tuesday             14   \n",
       "\n",
       "   departure_month  remaining_day_to_flight arrival_city  \\\n",
       "0               11                       13        Izmir   \n",
       "1               11                       13        Izmir   \n",
       "2               11                       13        Izmir   \n",
       "3               11                       13        Izmir   \n",
       "4               11                       13        Izmir   \n",
       "\n",
       "  departure_airport_name  departure_hour    part_of_day is_weekend  \\\n",
       "0  Sabiha Gökçen Airport               7  Early Morning    Weekday   \n",
       "1  Sabiha Gökçen Airport               9        Morning    Weekday   \n",
       "2  Sabiha Gökçen Airport              20        Evening    Weekday   \n",
       "3  Sabiha Gökçen Airport              23          Night    Weekday   \n",
       "4  Sabiha Gökçen Airport               9        Morning    Weekday   \n",
       "\n",
       "  part_of_month  duration(min)  \n",
       "0        Middle             70  \n",
       "1        Middle             70  \n",
       "2        Middle             70  \n",
       "3        Middle             70  \n",
       "4        Middle             70  "
      ]
     },
     "execution_count": 5,
     "metadata": {},
     "output_type": "execute_result"
    }
   ],
   "source": [
    "df.head()"
   ]
  },
  {
   "cell_type": "code",
   "execution_count": 6,
   "id": "6a66a552",
   "metadata": {},
   "outputs": [
    {
     "data": {
      "text/plain": [
       "count    129513.000000\n",
       "mean        874.649935\n",
       "std         286.457553\n",
       "min         432.000000\n",
       "25%         734.000000\n",
       "50%         869.000000\n",
       "75%        1006.000000\n",
       "max        4258.000000\n",
       "Name: price_try, dtype: float64"
      ]
     },
     "execution_count": 6,
     "metadata": {},
     "output_type": "execute_result"
    }
   ],
   "source": [
    "df[\"price_try\"].describe()"
   ]
  },
  {
   "cell_type": "code",
   "execution_count": 7,
   "id": "5521f26a",
   "metadata": {},
   "outputs": [],
   "source": [
    "# get list of categorical_columns\n",
    "categorical_cols = df.select_dtypes(include=['category']).columns.to_list()"
   ]
  },
  {
   "cell_type": "code",
   "execution_count": 8,
   "id": "55501ea0",
   "metadata": {},
   "outputs": [],
   "source": [
    "# convert categorical columns to numeric values \n",
    "dummies_data = pd.get_dummies(df[categorical_cols])\n",
    "df = pd.concat([df.drop(categorical_cols, axis=1), dummies_data], axis=1)"
   ]
  },
  {
   "cell_type": "code",
   "execution_count": 9,
   "id": "270639c5",
   "metadata": {},
   "outputs": [
    {
     "data": {
      "text/html": [
       "<div>\n",
       "<style scoped>\n",
       "    .dataframe tbody tr th:only-of-type {\n",
       "        vertical-align: middle;\n",
       "    }\n",
       "\n",
       "    .dataframe tbody tr th {\n",
       "        vertical-align: top;\n",
       "    }\n",
       "\n",
       "    .dataframe thead th {\n",
       "        text-align: right;\n",
       "    }\n",
       "</style>\n",
       "<table border=\"1\" class=\"dataframe\">\n",
       "  <thead>\n",
       "    <tr style=\"text-align: right;\">\n",
       "      <th></th>\n",
       "      <th>price_try</th>\n",
       "      <th>departure_day</th>\n",
       "      <th>departure_month</th>\n",
       "      <th>remaining_day_to_flight</th>\n",
       "      <th>departure_hour</th>\n",
       "      <th>duration(min)</th>\n",
       "      <th>company_AnadoluJet</th>\n",
       "      <th>company_Pegasus</th>\n",
       "      <th>company_Türk Hava Yolları</th>\n",
       "      <th>departure_week_day_Friday</th>\n",
       "      <th>...</th>\n",
       "      <th>part_of_day_Evening</th>\n",
       "      <th>part_of_day_Late Night</th>\n",
       "      <th>part_of_day_Morning</th>\n",
       "      <th>part_of_day_Night</th>\n",
       "      <th>part_of_day_Noon</th>\n",
       "      <th>is_weekend_Weekday</th>\n",
       "      <th>is_weekend_Weekend</th>\n",
       "      <th>part_of_month_Beginning</th>\n",
       "      <th>part_of_month_End</th>\n",
       "      <th>part_of_month_Middle</th>\n",
       "    </tr>\n",
       "  </thead>\n",
       "  <tbody>\n",
       "    <tr>\n",
       "      <th>0</th>\n",
       "      <td>506</td>\n",
       "      <td>14</td>\n",
       "      <td>11</td>\n",
       "      <td>13</td>\n",
       "      <td>7</td>\n",
       "      <td>70</td>\n",
       "      <td>1</td>\n",
       "      <td>0</td>\n",
       "      <td>0</td>\n",
       "      <td>0</td>\n",
       "      <td>...</td>\n",
       "      <td>0</td>\n",
       "      <td>0</td>\n",
       "      <td>0</td>\n",
       "      <td>0</td>\n",
       "      <td>0</td>\n",
       "      <td>1</td>\n",
       "      <td>0</td>\n",
       "      <td>0</td>\n",
       "      <td>0</td>\n",
       "      <td>1</td>\n",
       "    </tr>\n",
       "    <tr>\n",
       "      <th>1</th>\n",
       "      <td>506</td>\n",
       "      <td>14</td>\n",
       "      <td>11</td>\n",
       "      <td>13</td>\n",
       "      <td>9</td>\n",
       "      <td>70</td>\n",
       "      <td>1</td>\n",
       "      <td>0</td>\n",
       "      <td>0</td>\n",
       "      <td>0</td>\n",
       "      <td>...</td>\n",
       "      <td>0</td>\n",
       "      <td>0</td>\n",
       "      <td>1</td>\n",
       "      <td>0</td>\n",
       "      <td>0</td>\n",
       "      <td>1</td>\n",
       "      <td>0</td>\n",
       "      <td>0</td>\n",
       "      <td>0</td>\n",
       "      <td>1</td>\n",
       "    </tr>\n",
       "    <tr>\n",
       "      <th>2</th>\n",
       "      <td>506</td>\n",
       "      <td>14</td>\n",
       "      <td>11</td>\n",
       "      <td>13</td>\n",
       "      <td>20</td>\n",
       "      <td>70</td>\n",
       "      <td>1</td>\n",
       "      <td>0</td>\n",
       "      <td>0</td>\n",
       "      <td>0</td>\n",
       "      <td>...</td>\n",
       "      <td>1</td>\n",
       "      <td>0</td>\n",
       "      <td>0</td>\n",
       "      <td>0</td>\n",
       "      <td>0</td>\n",
       "      <td>1</td>\n",
       "      <td>0</td>\n",
       "      <td>0</td>\n",
       "      <td>0</td>\n",
       "      <td>1</td>\n",
       "    </tr>\n",
       "    <tr>\n",
       "      <th>3</th>\n",
       "      <td>539</td>\n",
       "      <td>14</td>\n",
       "      <td>11</td>\n",
       "      <td>13</td>\n",
       "      <td>23</td>\n",
       "      <td>70</td>\n",
       "      <td>0</td>\n",
       "      <td>1</td>\n",
       "      <td>0</td>\n",
       "      <td>0</td>\n",
       "      <td>...</td>\n",
       "      <td>0</td>\n",
       "      <td>0</td>\n",
       "      <td>0</td>\n",
       "      <td>1</td>\n",
       "      <td>0</td>\n",
       "      <td>1</td>\n",
       "      <td>0</td>\n",
       "      <td>0</td>\n",
       "      <td>0</td>\n",
       "      <td>1</td>\n",
       "    </tr>\n",
       "    <tr>\n",
       "      <th>4</th>\n",
       "      <td>542</td>\n",
       "      <td>14</td>\n",
       "      <td>11</td>\n",
       "      <td>13</td>\n",
       "      <td>9</td>\n",
       "      <td>70</td>\n",
       "      <td>0</td>\n",
       "      <td>1</td>\n",
       "      <td>0</td>\n",
       "      <td>0</td>\n",
       "      <td>...</td>\n",
       "      <td>0</td>\n",
       "      <td>0</td>\n",
       "      <td>1</td>\n",
       "      <td>0</td>\n",
       "      <td>0</td>\n",
       "      <td>1</td>\n",
       "      <td>0</td>\n",
       "      <td>0</td>\n",
       "      <td>0</td>\n",
       "      <td>1</td>\n",
       "    </tr>\n",
       "  </tbody>\n",
       "</table>\n",
       "<p>5 rows × 49 columns</p>\n",
       "</div>"
      ],
      "text/plain": [
       "   price_try  departure_day  departure_month  remaining_day_to_flight  \\\n",
       "0        506             14               11                       13   \n",
       "1        506             14               11                       13   \n",
       "2        506             14               11                       13   \n",
       "3        539             14               11                       13   \n",
       "4        542             14               11                       13   \n",
       "\n",
       "   departure_hour  duration(min)  company_AnadoluJet  company_Pegasus  \\\n",
       "0               7             70                   1                0   \n",
       "1               9             70                   1                0   \n",
       "2              20             70                   1                0   \n",
       "3              23             70                   0                1   \n",
       "4               9             70                   0                1   \n",
       "\n",
       "   company_Türk Hava Yolları  departure_week_day_Friday  ...  \\\n",
       "0                          0                          0  ...   \n",
       "1                          0                          0  ...   \n",
       "2                          0                          0  ...   \n",
       "3                          0                          0  ...   \n",
       "4                          0                          0  ...   \n",
       "\n",
       "   part_of_day_Evening  part_of_day_Late Night  part_of_day_Morning  \\\n",
       "0                    0                       0                    0   \n",
       "1                    0                       0                    1   \n",
       "2                    1                       0                    0   \n",
       "3                    0                       0                    0   \n",
       "4                    0                       0                    1   \n",
       "\n",
       "   part_of_day_Night  part_of_day_Noon  is_weekend_Weekday  \\\n",
       "0                  0                 0                   1   \n",
       "1                  0                 0                   1   \n",
       "2                  0                 0                   1   \n",
       "3                  1                 0                   1   \n",
       "4                  0                 0                   1   \n",
       "\n",
       "   is_weekend_Weekend  part_of_month_Beginning  part_of_month_End  \\\n",
       "0                   0                        0                  0   \n",
       "1                   0                        0                  0   \n",
       "2                   0                        0                  0   \n",
       "3                   0                        0                  0   \n",
       "4                   0                        0                  0   \n",
       "\n",
       "   part_of_month_Middle  \n",
       "0                     1  \n",
       "1                     1  \n",
       "2                     1  \n",
       "3                     1  \n",
       "4                     1  \n",
       "\n",
       "[5 rows x 49 columns]"
      ]
     },
     "execution_count": 9,
     "metadata": {},
     "output_type": "execute_result"
    }
   ],
   "source": [
    "df.head()"
   ]
  },
  {
   "cell_type": "code",
   "execution_count": 10,
   "id": "f6ec6826",
   "metadata": {},
   "outputs": [
    {
     "data": {
      "text/plain": [
       "129513"
      ]
     },
     "execution_count": 10,
     "metadata": {},
     "output_type": "execute_result"
    }
   ],
   "source": [
    "df.shape[0]"
   ]
  },
  {
   "cell_type": "code",
   "execution_count": 11,
   "id": "ef1fdbfd",
   "metadata": {},
   "outputs": [],
   "source": [
    "# split X and y \n",
    "X = df.drop(['price_try'], axis=1)\n",
    "y = df['price_try']"
   ]
  },
  {
   "cell_type": "code",
   "execution_count": 12,
   "id": "5515ddd7",
   "metadata": {},
   "outputs": [],
   "source": [
    "# preprocessing step for ML algorithms\n",
    "# makes the different features of the data are in the same scale, \n",
    "# and to remove the mean from each feature so that the data is centered around zero.\n",
    "scaler = StandardScaler()\n",
    "X_scaled = scaler.fit_transform(X)"
   ]
  },
  {
   "cell_type": "code",
   "execution_count": 13,
   "id": "00ecce59",
   "metadata": {},
   "outputs": [],
   "source": [
    "# change range of price logaritmicly\n",
    "y_log = np.log(y)"
   ]
  },
  {
   "cell_type": "code",
   "execution_count": 14,
   "id": "4998ef89",
   "metadata": {},
   "outputs": [],
   "source": [
    "X_train, X_test, y_train, y_test = train_test_split(X_scaled, y_log, test_size = 0.2, random_state = 0)"
   ]
  },
  {
   "cell_type": "code",
   "execution_count": 15,
   "id": "ce57ddce",
   "metadata": {},
   "outputs": [],
   "source": [
    "model_comparison={}"
   ]
  },
  {
   "cell_type": "code",
   "execution_count": 16,
   "id": "8c2daf6b",
   "metadata": {},
   "outputs": [],
   "source": [
    "optimization_comparison={}"
   ]
  },
  {
   "cell_type": "markdown",
   "id": "19b0202e",
   "metadata": {},
   "source": [
    "## MACHINE LEARNING ALGORITHMS"
   ]
  },
  {
   "cell_type": "markdown",
   "id": "1028b78e",
   "metadata": {},
   "source": [
    "### 1) KNN Regressor"
   ]
  },
  {
   "cell_type": "code",
   "execution_count": null,
   "id": "c61ffd0b",
   "metadata": {},
   "outputs": [],
   "source": [
    "param_grid = dict()\n",
    "param_grid[\"n_neighbors\"] = list(range(1, 10))\n",
    "param_grid[\"weights\"] = ['uniform', 'distance']\n",
    "param_grid[\"algorithm\"] = [\"auto\"]\n",
    "param_grid[\"leaf_size\"] = list(range(3,20))\n",
    "param_grid[\"p\"] = [1,2]\n",
    "knn_regressor = GridSearchCV(KNeighborsRegressor(), param_grid, cv = 10, scoring = 'neg_mean_squared_error', n_jobs=-1)\n",
    "knn_regressor.fit(X_train, y_train)"
   ]
  },
  {
   "cell_type": "code",
   "execution_count": null,
   "id": "337dcca9",
   "metadata": {},
   "outputs": [],
   "source": [
    "knn_regressor.best_params_"
   ]
  },
  {
   "cell_type": "code",
   "execution_count": null,
   "id": "f6140dbd",
   "metadata": {},
   "outputs": [],
   "source": [
    "y_train_pred =knn_regressor.predict(X_train) ##Predict train result\n",
    "y_test_pred =knn_regressor.predict(X_test) ##Predict test result"
   ]
  },
  {
   "cell_type": "code",
   "execution_count": null,
   "id": "25b6fb9b",
   "metadata": {},
   "outputs": [],
   "source": [
    "print(\"Train Results for KNN Regressor Model:\")\n",
    "print(50 * '-')\n",
    "print(\"Root Mean Squared Error (RMSE): \", round(sqrt(mse(y_train.values, y_train_pred)),2))\n",
    "print(\"R-squared: \", round(r2_score(y_train.values, y_train_pred),2))\n",
    "print(\"Explained Variance Score:\", round(explained_variance_score(y_train.values, y_train_pred),2))"
   ]
  },
  {
   "cell_type": "code",
   "execution_count": null,
   "id": "8d54bc25",
   "metadata": {},
   "outputs": [],
   "source": [
    "print(\"Test Results for KNN Regressor Model:\")\n",
    "print(50 * '-')\n",
    "print(\"Root Mean Squared Error (RMSE): \", round(sqrt(mse(y_test, y_test_pred)),2))\n",
    "print(\"R-squared: \", round(r2_score(y_test, y_test_pred),2))\n",
    "print(\"Explained Variance Score:\", round(explained_variance_score(y_test, y_test_pred),2))"
   ]
  },
  {
   "cell_type": "code",
   "execution_count": null,
   "id": "194a7e82",
   "metadata": {},
   "outputs": [],
   "source": [
    "model_comparison[\"KNN Regressor\"]=[round(sqrt(mse(y_test, y_test_pred)),2),round(r2_score(y_test, y_test_pred),2)]"
   ]
  },
  {
   "cell_type": "markdown",
   "id": "f868d433",
   "metadata": {},
   "source": [
    "RMSE of test > RMSE of train => OVER FITTING of the data.\n",
    "\n",
    "RMSE of test < RMSE of train => UNDER FITTING of the data.\n",
    "\n",
    "159.8 > 123.02 => OVER FITTING"
   ]
  },
  {
   "cell_type": "code",
   "execution_count": null,
   "id": "5feff286",
   "metadata": {},
   "outputs": [],
   "source": [
    "plt.scatter(y_test, y_test_pred)\n",
    "plt.xlabel('Actual values')\n",
    "plt.ylabel('Predicted values')\n",
    "plt.title('R\\u00B2 = %0.2f' % r2_score(y_test, y_test_pred))\n",
    "\n",
    "plt.plot(np.unique(y_test), np.poly1d(np.polyfit(y_test, y_test_pred, 1))(np.unique(y_test)), color=\"#34495E\")\n",
    "\n",
    "plt.show()"
   ]
  },
  {
   "cell_type": "markdown",
   "id": "ea0b7b09",
   "metadata": {},
   "source": [
    "### 2) Rigde Regressor"
   ]
  },
  {
   "cell_type": "code",
   "execution_count": null,
   "id": "e73e1b45",
   "metadata": {},
   "outputs": [],
   "source": [
    "params ={'alpha' :[0.001, 0.1, 1, 10, 100, 1000]}\n",
    "ridge_regressor =GridSearchCV(Ridge(), params ,cv =5,scoring = 'neg_mean_absolute_error', n_jobs =-1)\n",
    "ridge_regressor.fit(X_train ,y_train)"
   ]
  },
  {
   "cell_type": "code",
   "execution_count": null,
   "id": "2c724f55",
   "metadata": {},
   "outputs": [],
   "source": [
    "ridge_regressor.best_params_"
   ]
  },
  {
   "cell_type": "code",
   "execution_count": null,
   "id": "3622576d",
   "metadata": {},
   "outputs": [],
   "source": [
    "y_train_pred =ridge_regressor.predict(X_train) ##Predict train result\n",
    "y_test_pred =ridge_regressor.predict(X_test) ##Predict test result"
   ]
  },
  {
   "cell_type": "code",
   "execution_count": null,
   "id": "892237f5",
   "metadata": {},
   "outputs": [],
   "source": [
    "print(\"Train Results for Ridge Regressor Model:\")\n",
    "print(50 * '-')\n",
    "print(\"Root mean squared error: \", round(sqrt(mse(y_train.values, y_train_pred)),2))\n",
    "print(\"R-squared: \", round(r2_score(y_train.values, y_train_pred),2))\n",
    "print(\"Explained Variance Score:\", round(explained_variance_score(y_train.values, y_train_pred),2))"
   ]
  },
  {
   "cell_type": "code",
   "execution_count": null,
   "id": "eda4ee38",
   "metadata": {},
   "outputs": [],
   "source": [
    "print(\"Test Results for Ridge Regressor Model:\")\n",
    "print(50 * '-')\n",
    "print(\"Root mean squared error: \", round(sqrt(mse(y_test, y_test_pred)),2))\n",
    "print(\"R-squared: \", round(r2_score(y_test, y_test_pred),2))\n",
    "print(\"Explained Variance Score:\", round(explained_variance_score(y_test, y_test_pred),2))"
   ]
  },
  {
   "cell_type": "code",
   "execution_count": null,
   "id": "cfbd7c93",
   "metadata": {},
   "outputs": [],
   "source": [
    "model_comparison[\"Ridge Regressor\"]=[round(sqrt(mse(y_test, y_test_pred)),2),round(r2_score(y_test, y_test_pred),2)]"
   ]
  },
  {
   "cell_type": "code",
   "execution_count": null,
   "id": "cd34bfdc",
   "metadata": {},
   "outputs": [],
   "source": [
    "plt.scatter(y_test, y_test_pred)\n",
    "plt.xlabel('Actual values')\n",
    "plt.ylabel('Predicted values')\n",
    "plt.title('R\\u00B2 = %0.2f' % r2_score(y_test, y_test_pred))\n",
    "\n",
    "plt.plot(np.unique(y_test), np.poly1d(np.polyfit(y_test, y_test_pred, 1))(np.unique(y_test)), color=\"#34495E\")\n",
    "\n",
    "plt.show()"
   ]
  },
  {
   "cell_type": "markdown",
   "id": "dc0d5f4e",
   "metadata": {},
   "source": [
    "### 3) Lasso Regressor"
   ]
  },
  {
   "cell_type": "code",
   "execution_count": null,
   "id": "d77d9e59",
   "metadata": {},
   "outputs": [],
   "source": [
    "params ={'alpha' :[0.001, 0.01, 1, 10, 1000]}\n",
    "lasso_regressor =GridSearchCV(Lasso(), params ,cv =15,scoring = 'neg_mean_absolute_error', n_jobs =-1)\n",
    "lasso_regressor.fit(X_train ,y_train)"
   ]
  },
  {
   "cell_type": "code",
   "execution_count": null,
   "id": "df190ce7",
   "metadata": {},
   "outputs": [],
   "source": [
    "lasso_regressor.best_params_"
   ]
  },
  {
   "cell_type": "code",
   "execution_count": null,
   "id": "ee1144f9",
   "metadata": {},
   "outputs": [],
   "source": [
    "y_train_pred =lasso_regressor.predict(X_train) ##Predict train result\n",
    "y_test_pred =lasso_regressor.predict(X_test) ##Predict test result"
   ]
  },
  {
   "cell_type": "code",
   "execution_count": null,
   "id": "70676b53",
   "metadata": {},
   "outputs": [],
   "source": [
    "print(\"Train Results for Lasso Regressor Model:\")\n",
    "print(50 * '-')\n",
    "print(\"Root mean squared error: \", round(sqrt(mse(y_train.values, y_train_pred)),2))\n",
    "print(\"R-squared: \", round(r2_score(y_train.values, y_train_pred),2))\n",
    "print(\"Explained Variance Score:\", round(explained_variance_score(y_train.values, y_train_pred),2))"
   ]
  },
  {
   "cell_type": "code",
   "execution_count": null,
   "id": "5ad418de",
   "metadata": {},
   "outputs": [],
   "source": [
    "print(\"Test Results for Lasso Regressor Model:\")\n",
    "print(50 * '-')\n",
    "print(\"Root mean squared error: \", round(sqrt(mse(y_test, y_test_pred)),2))\n",
    "print(\"R-squared: \", round(r2_score(y_test, y_test_pred),2))\n",
    "print(\"Explained Variance Score:\", round(explained_variance_score(y_test, y_test_pred),2))"
   ]
  },
  {
   "cell_type": "code",
   "execution_count": null,
   "id": "83a17dfd",
   "metadata": {},
   "outputs": [],
   "source": [
    "model_comparison[\"Lasso Regressor\"]=[round(sqrt(mse(y_test, y_test_pred)),2),round(r2_score(y_test, y_test_pred),2)]"
   ]
  },
  {
   "cell_type": "code",
   "execution_count": null,
   "id": "0e1bd82e",
   "metadata": {},
   "outputs": [],
   "source": [
    "plt.scatter(y_test, y_test_pred)\n",
    "plt.xlabel('Actual values')\n",
    "plt.ylabel('Predicted values')\n",
    "plt.title('R\\u00B2 = %0.2f' % r2_score(y_test, y_test_pred))\n",
    "\n",
    "plt.plot(np.unique(y_test), np.poly1d(np.polyfit(y_test, y_test_pred, 1))(np.unique(y_test)), color=\"#34495E\")\n",
    "\n",
    "plt.show()"
   ]
  },
  {
   "cell_type": "markdown",
   "id": "ac4a92a8",
   "metadata": {},
   "source": [
    "### 4) Decision Tree Regressor"
   ]
  },
  {
   "cell_type": "code",
   "execution_count": null,
   "id": "8fad099a",
   "metadata": {},
   "outputs": [],
   "source": [
    "depth = list(range(10,20))\n",
    "param_grid = dict(max_depth =depth)\n",
    "tree = GridSearchCV(DecisionTreeRegressor(),param_grid,cv =10)\n",
    "tree.fit(X_train,y_train)"
   ]
  },
  {
   "cell_type": "code",
   "execution_count": null,
   "id": "fd78b20c",
   "metadata": {},
   "outputs": [],
   "source": [
    "tree.best_params_"
   ]
  },
  {
   "cell_type": "code",
   "execution_count": null,
   "id": "05e5371f",
   "metadata": {},
   "outputs": [],
   "source": [
    "y_train_pred =tree.predict(X_train) ##Predict train result\n",
    "y_test_pred =tree.predict(X_test) ##Predict test result"
   ]
  },
  {
   "cell_type": "code",
   "execution_count": null,
   "id": "8985bc4b",
   "metadata": {},
   "outputs": [],
   "source": [
    "print(\"Train Results for Decision Tree Regressor Model:\")\n",
    "print(50 * '-')\n",
    "print(\"Root mean squared error: \", round(sqrt(mse(y_train.values, y_train_pred)),2))\n",
    "print(\"R-squared: \", round(r2_score(y_train.values, y_train_pred),2))\n",
    "print(\"Explained Variance Score:\", round(explained_variance_score(y_train.values, y_train_pred),2))"
   ]
  },
  {
   "cell_type": "code",
   "execution_count": null,
   "id": "55924dfd",
   "metadata": {},
   "outputs": [],
   "source": [
    "print(\"Test Results for Decision Tree Regressor Model:\")\n",
    "print(50 * '-')\n",
    "print(\"Root mean squared error: \", round(sqrt(mse(y_test, y_test_pred)),2))\n",
    "print(\"R-squared: \", round(r2_score(y_test, y_test_pred),2))\n",
    "print(\"Explained Variance Score:\", round(explained_variance_score(y_test, y_test_pred),2))"
   ]
  },
  {
   "cell_type": "code",
   "execution_count": null,
   "id": "4d80b55c",
   "metadata": {},
   "outputs": [],
   "source": [
    "model_comparison[\"Desicion Tree Regressor\"]=[round(sqrt(mse(y_test, y_test_pred)),2),round(r2_score(y_test, y_test_pred),2)]"
   ]
  },
  {
   "cell_type": "markdown",
   "id": "78565aa1",
   "metadata": {},
   "source": [
    "### 5) Random Forest Regressor"
   ]
  },
  {
   "cell_type": "code",
   "execution_count": null,
   "id": "8fbd71b6",
   "metadata": {},
   "outputs": [],
   "source": [
    "tuned_params = {'n_estimators': [100, 500], 'min_samples_split': [2, 5], 'min_samples_leaf': [1, 2]}\n",
    "random_regressor = RandomizedSearchCV(RandomForestRegressor(), tuned_params, n_iter = 20, scoring = 'neg_mean_absolute_error', cv = 5, n_jobs = -1)\n",
    "random_regressor.fit(X_train, y_train)"
   ]
  },
  {
   "cell_type": "code",
   "execution_count": null,
   "id": "ac566339",
   "metadata": {},
   "outputs": [],
   "source": [
    "random_regressor.best_params_"
   ]
  },
  {
   "cell_type": "code",
   "execution_count": null,
   "id": "2366bcc8",
   "metadata": {},
   "outputs": [],
   "source": [
    "y_train_pred = random_regressor.predict(X_train)\n",
    "y_test_pred = random_regressor.predict(X_test)"
   ]
  },
  {
   "cell_type": "code",
   "execution_count": null,
   "id": "6a6f4da6",
   "metadata": {},
   "outputs": [],
   "source": [
    "print(\"Train Results for Random Forest Regressor Model:\")\n",
    "print(50 * '-')\n",
    "print(\"Root mean squared error: \", round(sqrt(mse(y_train.values, y_train_pred)),2))\n",
    "print(\"R-squared: \", round(r2_score(y_train.values, y_train_pred),2))\n",
    "print(\"Explained Variance Score:\", round(explained_variance_score(y_train.values, y_train_pred),2))"
   ]
  },
  {
   "cell_type": "code",
   "execution_count": null,
   "id": "b9218f71",
   "metadata": {},
   "outputs": [],
   "source": [
    "print(\"Test Results for Random Forest Regressor Model:\")\n",
    "print(50 * '-')\n",
    "print(\"Root mean squared error: \", round(sqrt(mse(y_test, y_test_pred)),2))\n",
    "print(\"R-squared: \", round(r2_score(y_test, y_test_pred),2))\n",
    "print(\"Explained Variance Score:\", round(explained_variance_score(y_test, y_test_pred),2))"
   ]
  },
  {
   "cell_type": "code",
   "execution_count": null,
   "id": "2fe83221",
   "metadata": {},
   "outputs": [],
   "source": [
    "model_comparison[\"Random Forest Regressor\"]=[round(sqrt(mse(y_test, y_test_pred)),2),round(r2_score(y_test, y_test_pred),2)]"
   ]
  },
  {
   "cell_type": "code",
   "execution_count": null,
   "id": "c0f7bb8e",
   "metadata": {},
   "outputs": [],
   "source": [
    "optimization_comparison[\"Random Forest Regressor\"]=[round(sqrt(mse(y_test, y_test_pred)),2),round(r2_score(y_test, y_test_pred),2)]"
   ]
  },
  {
   "cell_type": "markdown",
   "id": "2ea4af0b",
   "metadata": {},
   "source": [
    "### 6) XGBoost Regressor"
   ]
  },
  {
   "cell_type": "code",
   "execution_count": null,
   "id": "57de7d3f",
   "metadata": {},
   "outputs": [],
   "source": [
    "tuned_params = {'max_depth': [1, 2, 3, 4, 5], 'learning_rate': [0.01, 0.05, 0.1], 'n_estimators': [100, 200, 300, 400, 500], 'reg_lambda': [0.001, 0.1, 1.0, 10.0, 100.0]}\n",
    "model = RandomizedSearchCV(XGBRegressor(), tuned_params, n_iter=20, scoring = 'neg_mean_absolute_error', cv=5, n_jobs=-1)\n",
    "model.fit(X_train, y_train)"
   ]
  },
  {
   "cell_type": "code",
   "execution_count": null,
   "id": "6200d507",
   "metadata": {},
   "outputs": [],
   "source": [
    "model.best_params_"
   ]
  },
  {
   "cell_type": "code",
   "execution_count": null,
   "id": "443acf6e",
   "metadata": {},
   "outputs": [],
   "source": [
    "y_train_pred = model.predict(X_train)\n",
    "y_test_pred = model.predict(X_test)"
   ]
  },
  {
   "cell_type": "code",
   "execution_count": null,
   "id": "8387bf4d",
   "metadata": {},
   "outputs": [],
   "source": [
    "print(\"Train Results for XGBoost Regressor Model:\")\n",
    "print(50 * '-')\n",
    "print(\"Root mean squared error: \", round(sqrt(mse(y_train.values, y_train_pred)),2))\n",
    "print(\"R-squared: \", round(r2_score(y_train.values, y_train_pred),2))\n",
    "print(\"Explained Variance Score:\", round(explained_variance_score(y_train.values, y_train_pred),2))"
   ]
  },
  {
   "cell_type": "code",
   "execution_count": null,
   "id": "f1f8da19",
   "metadata": {},
   "outputs": [],
   "source": [
    "print(\"Test Results for XGBoost Regressor Model:\")\n",
    "print(50 * '-')\n",
    "print(\"Root mean squared error: \", round(sqrt(mse(y_test, y_test_pred)),2))\n",
    "print(\"R-squared: \", round(r2_score(y_test, y_test_pred),2))\n",
    "print(\"Explained Variance Score:\", round(explained_variance_score(y_test, y_test_pred),2))"
   ]
  },
  {
   "cell_type": "code",
   "execution_count": null,
   "id": "4d3fb307",
   "metadata": {},
   "outputs": [],
   "source": [
    "model_comparison[\"XGBoost Regressor\"]=[round(sqrt(mse(y_test, y_test_pred)),2),round(r2_score(y_test, y_test_pred),2)]"
   ]
  },
  {
   "cell_type": "markdown",
   "id": "d3b6b6da",
   "metadata": {},
   "source": [
    "### 7) SVR"
   ]
  },
  {
   "cell_type": "code",
   "execution_count": null,
   "id": "18750912",
   "metadata": {},
   "outputs": [],
   "source": [
    "svr = SVR(C=1.0, epsilon=0.2)\n",
    "svr.fit(X_train, y_train)"
   ]
  },
  {
   "cell_type": "code",
   "execution_count": null,
   "id": "d33dd6d3",
   "metadata": {},
   "outputs": [],
   "source": [
    "y_train_pred = svr.predict(X_train)\n",
    "y_test_pred = svr.predict(X_test)"
   ]
  },
  {
   "cell_type": "code",
   "execution_count": null,
   "id": "f8b29e9d",
   "metadata": {},
   "outputs": [],
   "source": [
    "print(\"Train Results for XGBoost Regressor Model:\")\n",
    "print(50 * '-')\n",
    "print(\"Root mean squared error: \", round(sqrt(mse(y_train.values, y_train_pred)),2))\n",
    "print(\"R-squared: \", round(r2_score(y_train.values, y_train_pred),2))\n",
    "print(\"Explained Variance Score:\", round(explained_variance_score(y_train.values, y_train_pred),2))"
   ]
  },
  {
   "cell_type": "code",
   "execution_count": null,
   "id": "191c7fb8",
   "metadata": {},
   "outputs": [],
   "source": [
    "print(\"Test Results for XGBoost Regressor Model:\")\n",
    "print(50 * '-')\n",
    "print(\"Root mean squared error: \", round(sqrt(mse(y_test, y_test_pred)),2))\n",
    "print(\"R-squared: \", round(r2_score(y_test, y_test_pred),2))\n",
    "print(\"Explained Variance Score:\", round(explained_variance_score(y_test, y_test_pred),2))"
   ]
  },
  {
   "cell_type": "code",
   "execution_count": null,
   "id": "05aff319",
   "metadata": {},
   "outputs": [],
   "source": [
    "model_comparison[\"SVR\"]=[round(sqrt(mse(y_test, y_test_pred)),2),round(r2_score(y_test, y_test_pred),2)]"
   ]
  },
  {
   "cell_type": "markdown",
   "id": "67dfa0e3",
   "metadata": {},
   "source": [
    "## ML Algorithm Comparison"
   ]
  },
  {
   "cell_type": "code",
   "execution_count": null,
   "id": "aff6abdc",
   "metadata": {},
   "outputs": [],
   "source": [
    "df_comparison = pd.DataFrame.from_dict(model_comparison).T\n",
    "df_comparison.columns = ['MSE', 'R2 Score']\n",
    "df_comparison = df_comparison.sort_values('R2 Score', ascending=False)\n",
    "df_comparison.style.background_gradient(cmap='Blues')"
   ]
  },
  {
   "cell_type": "markdown",
   "id": "99b8fdbc",
   "metadata": {},
   "source": [
    "### OPTIMAZING RANDOM FOREST REGRESSOR"
   ]
  },
  {
   "cell_type": "code",
   "execution_count": null,
   "id": "573c6bf5",
   "metadata": {},
   "outputs": [],
   "source": [
    "df_opt = df.drop([\"is_weekend\",\"departure_month\",\"part_of_month\",\"checked_week_day\",\"departure_week_day\"], axis=1)"
   ]
  },
  {
   "cell_type": "code",
   "execution_count": null,
   "id": "132386ba",
   "metadata": {},
   "outputs": [],
   "source": [
    "categorical_cols_opt = df_opt.select_dtypes(include=['category']).columns.to_list()"
   ]
  },
  {
   "cell_type": "code",
   "execution_count": null,
   "id": "bb3d647b",
   "metadata": {},
   "outputs": [],
   "source": [
    "dummies_data = pd.get_dummies(df_opt[categorical_cols_opt])\n",
    "df_updated_opt = pd.concat([df_opt.drop(categorical_cols_opt, axis=1), dummies_data], axis=1)"
   ]
  },
  {
   "cell_type": "code",
   "execution_count": null,
   "id": "bc9b7c8f",
   "metadata": {},
   "outputs": [],
   "source": [
    "X_opt = df_updated_opt.drop(['price_try'], axis=1)\n",
    "\n",
    "y_opt = df_updated_opt['price_try']"
   ]
  },
  {
   "cell_type": "code",
   "execution_count": null,
   "id": "56ad7df5",
   "metadata": {},
   "outputs": [],
   "source": [
    "X_opt_scled = scaler.fit_transform(X_opt)"
   ]
  },
  {
   "cell_type": "code",
   "execution_count": null,
   "id": "c841e13c",
   "metadata": {},
   "outputs": [],
   "source": [
    "y_opt_log = np.log(y_opt)"
   ]
  },
  {
   "cell_type": "code",
   "execution_count": null,
   "id": "a1eb9b19",
   "metadata": {},
   "outputs": [],
   "source": [
    "X_train_opt, X_test_opt, y_train_opt, y_test_opt = train_test_split(X_opt_scled, y_opt_log, test_size = 0.2, random_state = 0)"
   ]
  },
  {
   "cell_type": "code",
   "execution_count": null,
   "id": "9a0fea4c",
   "metadata": {},
   "outputs": [],
   "source": [
    "random_regressor.fit(X_train_opt, y_train_opt)"
   ]
  },
  {
   "cell_type": "code",
   "execution_count": null,
   "id": "66f9e30f",
   "metadata": {},
   "outputs": [],
   "source": [
    "y_train_pred_opt = random_regressor.predict(X_train_opt)\n",
    "y_test_pred_opt = random_regressor.predict(X_test_opt)"
   ]
  },
  {
   "cell_type": "code",
   "execution_count": null,
   "id": "2f57a519",
   "metadata": {},
   "outputs": [],
   "source": [
    "print(\"Train Results for Optimized Random Forest Regressor Model:\")\n",
    "print(50 * '-')\n",
    "print(\"Root mean squared error: \", round(sqrt(mse(y_train_opt.values, y_train_pred_opt)),2))\n",
    "print(\"R-squared: \", round(r2_score(y_train_opt.values, y_train_pred_opt),2))\n",
    "print(\"Explained Variance Score:\", round(explained_variance_score(y_train_opt.values, y_train_pred_opt),2))"
   ]
  },
  {
   "cell_type": "code",
   "execution_count": null,
   "id": "bae29911",
   "metadata": {},
   "outputs": [],
   "source": [
    "print(\"Test Results for XGBoost Regressor Model:\")\n",
    "print(50 * '-')\n",
    "print(\"Root mean squared error: \", round(sqrt(mse(y_test_opt, y_test_pred_opt)),2))\n",
    "print(\"R-squared: \", round(r2_score(y_test_opt, y_test_pred_opt),2))\n",
    "print(\"Explained Variance Score:\", round(explained_variance_score(y_test_opt, y_test_pred_opt),2))"
   ]
  },
  {
   "cell_type": "code",
   "execution_count": null,
   "id": "3f29620a",
   "metadata": {},
   "outputs": [],
   "source": [
    "optimization_comparison[\"(Drop Least Imp Features)Random Forest Regressor\"]=[round(sqrt(mse(y_test_opt, y_test_pred_opt)),2), round(r2_score(y_test_opt, y_test_pred_opt),2)]"
   ]
  },
  {
   "cell_type": "code",
   "execution_count": null,
   "id": "6e8a404c",
   "metadata": {},
   "outputs": [],
   "source": [
    "optimization_comparison = pd.DataFrame.from_dict(optimization_comparison).T\n",
    "optimization_comparison.columns = ['MSE', 'R2 Score']\n",
    "optimization_comparison = optimization_comparison.sort_values('R2 Score', ascending=False)\n",
    "optimization_comparison.style.background_gradient(cmap='Blues')"
   ]
  }
 ],
 "metadata": {
  "kernelspec": {
   "display_name": "Python 3 (ipykernel)",
   "language": "python",
   "name": "python3"
  },
  "language_info": {
   "codemirror_mode": {
    "name": "ipython",
    "version": 3
   },
   "file_extension": ".py",
   "mimetype": "text/x-python",
   "name": "python",
   "nbconvert_exporter": "python",
   "pygments_lexer": "ipython3",
   "version": "3.9.13"
  }
 },
 "nbformat": 4,
 "nbformat_minor": 5
}
