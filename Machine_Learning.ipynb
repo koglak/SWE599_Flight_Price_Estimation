{
 "cells": [
  {
   "cell_type": "code",
   "execution_count": 91,
   "id": "12c3bc19",
   "metadata": {},
   "outputs": [],
   "source": [
    "import pandas as pd\n",
    "import numpy as np\n",
    "from numpy import mean\n",
    "from numpy import std\n",
    "\n",
    "import matplotlib.pyplot as plt\n",
    "\n",
    "from sklearn.model_selection import train_test_split\n",
    "\n",
    "from sklearn.preprocessing import StandardScaler\n",
    "\n",
    "from sklearn.metrics import mean_squared_error as mse\n",
    "from sklearn.metrics import r2_score\n",
    "from sklearn.metrics import confusion_matrix\n",
    "\n",
    "from math import sqrt\n",
    "\n",
    "from sklearn.model_selection import GridSearchCV\n",
    "from sklearn.model_selection import RandomizedSearchCV\n",
    "\n",
    "from sklearn.neighbors import KNeighborsRegressor\n",
    "from sklearn.linear_model import Ridge\n",
    "from sklearn.linear_model import Lasso\n",
    "from sklearn.tree import DecisionTreeRegressor\n",
    "from sklearn.ensemble import RandomForestRegressor\n",
    "from xgboost import XGBRegressor\n",
    "\n"
   ]
  },
  {
   "cell_type": "code",
   "execution_count": 2,
   "id": "1488b012",
   "metadata": {},
   "outputs": [
    {
     "data": {
      "text/html": [
       "<div>\n",
       "<style scoped>\n",
       "    .dataframe tbody tr th:only-of-type {\n",
       "        vertical-align: middle;\n",
       "    }\n",
       "\n",
       "    .dataframe tbody tr th {\n",
       "        vertical-align: top;\n",
       "    }\n",
       "\n",
       "    .dataframe thead th {\n",
       "        text-align: right;\n",
       "    }\n",
       "</style>\n",
       "<table border=\"1\" class=\"dataframe\">\n",
       "  <thead>\n",
       "    <tr style=\"text-align: right;\">\n",
       "      <th></th>\n",
       "      <th>company</th>\n",
       "      <th>departure_airport</th>\n",
       "      <th>arrival_airport</th>\n",
       "      <th>departure_time</th>\n",
       "      <th>arrival_time</th>\n",
       "      <th>departure_date</th>\n",
       "      <th>price_try</th>\n",
       "      <th>departure_week_day</th>\n",
       "      <th>checked_week_day</th>\n",
       "      <th>departure_day</th>\n",
       "      <th>departure_month</th>\n",
       "      <th>remaining_day_to_flight</th>\n",
       "      <th>arrival_city</th>\n",
       "      <th>departure_airport_name</th>\n",
       "      <th>departure_hour</th>\n",
       "      <th>part_of_day</th>\n",
       "      <th>is_weekend</th>\n",
       "      <th>part_of_month</th>\n",
       "      <th>duration(min)</th>\n",
       "    </tr>\n",
       "  </thead>\n",
       "  <tbody>\n",
       "    <tr>\n",
       "      <th>0</th>\n",
       "      <td>AnadoluJet</td>\n",
       "      <td>SAW</td>\n",
       "      <td>ADB</td>\n",
       "      <td>07:30:00</td>\n",
       "      <td>08:40:00</td>\n",
       "      <td>2022-11-14</td>\n",
       "      <td>506.99</td>\n",
       "      <td>Monday</td>\n",
       "      <td>Tuesday</td>\n",
       "      <td>14</td>\n",
       "      <td>11</td>\n",
       "      <td>13</td>\n",
       "      <td>Izmir</td>\n",
       "      <td>Sabiha Gökçen Airport</td>\n",
       "      <td>7</td>\n",
       "      <td>Early Morning</td>\n",
       "      <td>Weekday</td>\n",
       "      <td>Middle</td>\n",
       "      <td>70</td>\n",
       "    </tr>\n",
       "    <tr>\n",
       "      <th>1</th>\n",
       "      <td>AnadoluJet</td>\n",
       "      <td>SAW</td>\n",
       "      <td>ADB</td>\n",
       "      <td>09:20:00</td>\n",
       "      <td>10:30:00</td>\n",
       "      <td>2022-11-14</td>\n",
       "      <td>506.99</td>\n",
       "      <td>Monday</td>\n",
       "      <td>Tuesday</td>\n",
       "      <td>14</td>\n",
       "      <td>11</td>\n",
       "      <td>13</td>\n",
       "      <td>Izmir</td>\n",
       "      <td>Sabiha Gökçen Airport</td>\n",
       "      <td>9</td>\n",
       "      <td>Morning</td>\n",
       "      <td>Weekday</td>\n",
       "      <td>Middle</td>\n",
       "      <td>70</td>\n",
       "    </tr>\n",
       "    <tr>\n",
       "      <th>2</th>\n",
       "      <td>AnadoluJet</td>\n",
       "      <td>SAW</td>\n",
       "      <td>ADB</td>\n",
       "      <td>20:55:00</td>\n",
       "      <td>22:05:00</td>\n",
       "      <td>2022-11-14</td>\n",
       "      <td>506.99</td>\n",
       "      <td>Monday</td>\n",
       "      <td>Tuesday</td>\n",
       "      <td>14</td>\n",
       "      <td>11</td>\n",
       "      <td>13</td>\n",
       "      <td>Izmir</td>\n",
       "      <td>Sabiha Gökçen Airport</td>\n",
       "      <td>20</td>\n",
       "      <td>Evening</td>\n",
       "      <td>Weekday</td>\n",
       "      <td>Middle</td>\n",
       "      <td>70</td>\n",
       "    </tr>\n",
       "    <tr>\n",
       "      <th>3</th>\n",
       "      <td>Pegasus</td>\n",
       "      <td>SAW</td>\n",
       "      <td>ADB</td>\n",
       "      <td>23:35:00</td>\n",
       "      <td>00:45:00</td>\n",
       "      <td>2022-11-14</td>\n",
       "      <td>539.99</td>\n",
       "      <td>Monday</td>\n",
       "      <td>Tuesday</td>\n",
       "      <td>14</td>\n",
       "      <td>11</td>\n",
       "      <td>13</td>\n",
       "      <td>Izmir</td>\n",
       "      <td>Sabiha Gökçen Airport</td>\n",
       "      <td>23</td>\n",
       "      <td>Night</td>\n",
       "      <td>Weekday</td>\n",
       "      <td>Middle</td>\n",
       "      <td>70</td>\n",
       "    </tr>\n",
       "    <tr>\n",
       "      <th>4</th>\n",
       "      <td>Pegasus</td>\n",
       "      <td>SAW</td>\n",
       "      <td>ADB</td>\n",
       "      <td>09:10:00</td>\n",
       "      <td>10:20:00</td>\n",
       "      <td>2022-11-14</td>\n",
       "      <td>542.99</td>\n",
       "      <td>Monday</td>\n",
       "      <td>Tuesday</td>\n",
       "      <td>14</td>\n",
       "      <td>11</td>\n",
       "      <td>13</td>\n",
       "      <td>Izmir</td>\n",
       "      <td>Sabiha Gökçen Airport</td>\n",
       "      <td>9</td>\n",
       "      <td>Morning</td>\n",
       "      <td>Weekday</td>\n",
       "      <td>Middle</td>\n",
       "      <td>70</td>\n",
       "    </tr>\n",
       "  </tbody>\n",
       "</table>\n",
       "</div>"
      ],
      "text/plain": [
       "      company departure_airport arrival_airport departure_time arrival_time  \\\n",
       "0  AnadoluJet               SAW             ADB       07:30:00     08:40:00   \n",
       "1  AnadoluJet               SAW             ADB       09:20:00     10:30:00   \n",
       "2  AnadoluJet               SAW             ADB       20:55:00     22:05:00   \n",
       "3     Pegasus               SAW             ADB       23:35:00     00:45:00   \n",
       "4     Pegasus               SAW             ADB       09:10:00     10:20:00   \n",
       "\n",
       "  departure_date  price_try departure_week_day checked_week_day  \\\n",
       "0     2022-11-14     506.99             Monday          Tuesday   \n",
       "1     2022-11-14     506.99             Monday          Tuesday   \n",
       "2     2022-11-14     506.99             Monday          Tuesday   \n",
       "3     2022-11-14     539.99             Monday          Tuesday   \n",
       "4     2022-11-14     542.99             Monday          Tuesday   \n",
       "\n",
       "   departure_day  departure_month  remaining_day_to_flight arrival_city  \\\n",
       "0             14               11                       13        Izmir   \n",
       "1             14               11                       13        Izmir   \n",
       "2             14               11                       13        Izmir   \n",
       "3             14               11                       13        Izmir   \n",
       "4             14               11                       13        Izmir   \n",
       "\n",
       "  departure_airport_name  departure_hour    part_of_day is_weekend  \\\n",
       "0  Sabiha Gökçen Airport               7  Early Morning    Weekday   \n",
       "1  Sabiha Gökçen Airport               9        Morning    Weekday   \n",
       "2  Sabiha Gökçen Airport              20        Evening    Weekday   \n",
       "3  Sabiha Gökçen Airport              23          Night    Weekday   \n",
       "4  Sabiha Gökçen Airport               9        Morning    Weekday   \n",
       "\n",
       "  part_of_month  duration(min)  \n",
       "0        Middle             70  \n",
       "1        Middle             70  \n",
       "2        Middle             70  \n",
       "3        Middle             70  \n",
       "4        Middle             70  "
      ]
     },
     "execution_count": 2,
     "metadata": {},
     "output_type": "execute_result"
    }
   ],
   "source": [
    "df=pd.read_csv(r'C:\\Users\\kogla\\OneDrive\\Masaüstü\\SWE599\\merged.csv').drop(\"Unnamed: 0\", axis=1)\n",
    "df.head()"
   ]
  },
  {
   "cell_type": "code",
   "execution_count": 3,
   "id": "40cce7ae",
   "metadata": {},
   "outputs": [],
   "source": [
    "df=df.drop(['departure_airport', 'arrival_airport', 'departure_date','departure_time', 'arrival_time'], axis=1)"
   ]
  },
  {
   "cell_type": "code",
   "execution_count": 4,
   "id": "387c19dc",
   "metadata": {},
   "outputs": [
    {
     "name": "stdout",
     "output_type": "stream",
     "text": [
      "<class 'pandas.core.frame.DataFrame'>\n",
      "RangeIndex: 129513 entries, 0 to 129512\n",
      "Data columns (total 14 columns):\n",
      " #   Column                   Non-Null Count   Dtype   \n",
      "---  ------                   --------------   -----   \n",
      " 0   company                  129513 non-null  category\n",
      " 1   price_try                129513 non-null  int64   \n",
      " 2   departure_week_day       129513 non-null  category\n",
      " 3   checked_week_day         129513 non-null  category\n",
      " 4   departure_day            129513 non-null  int64   \n",
      " 5   departure_month          129513 non-null  int64   \n",
      " 6   remaining_day_to_flight  129513 non-null  int64   \n",
      " 7   arrival_city             129513 non-null  category\n",
      " 8   departure_airport_name   129513 non-null  category\n",
      " 9   departure_hour           129513 non-null  int64   \n",
      " 10  part_of_day              129513 non-null  category\n",
      " 11  is_weekend               129513 non-null  category\n",
      " 12  part_of_month            129513 non-null  category\n",
      " 13  duration(min)            129513 non-null  int64   \n",
      "dtypes: category(8), int64(6)\n",
      "memory usage: 6.9 MB\n"
     ]
    }
   ],
   "source": [
    "df['company'] = df.company.astype('category')\n",
    "df['departure_airport_name'] = df.departure_airport_name.astype('category')\n",
    "df['arrival_city'] = df.arrival_city.astype('category')\n",
    "df['part_of_day'] = df.part_of_day.astype('category')\n",
    "df['departure_week_day'] = df.departure_week_day.astype('category')\n",
    "df['part_of_month'] = df.part_of_month.astype('category')\n",
    "df['is_weekend'] = df.is_weekend.astype('category')\n",
    "df['checked_week_day'] = df.checked_week_day.astype('category')\n",
    "df[\"price_try\"] = df[\"price_try\"].astype(\"int64\")\n",
    "\n",
    "df.info()"
   ]
  },
  {
   "cell_type": "code",
   "execution_count": 5,
   "id": "54d4ab17",
   "metadata": {},
   "outputs": [
    {
     "data": {
      "text/html": [
       "<div>\n",
       "<style scoped>\n",
       "    .dataframe tbody tr th:only-of-type {\n",
       "        vertical-align: middle;\n",
       "    }\n",
       "\n",
       "    .dataframe tbody tr th {\n",
       "        vertical-align: top;\n",
       "    }\n",
       "\n",
       "    .dataframe thead th {\n",
       "        text-align: right;\n",
       "    }\n",
       "</style>\n",
       "<table border=\"1\" class=\"dataframe\">\n",
       "  <thead>\n",
       "    <tr style=\"text-align: right;\">\n",
       "      <th></th>\n",
       "      <th>company</th>\n",
       "      <th>price_try</th>\n",
       "      <th>departure_week_day</th>\n",
       "      <th>checked_week_day</th>\n",
       "      <th>departure_day</th>\n",
       "      <th>departure_month</th>\n",
       "      <th>remaining_day_to_flight</th>\n",
       "      <th>arrival_city</th>\n",
       "      <th>departure_airport_name</th>\n",
       "      <th>departure_hour</th>\n",
       "      <th>part_of_day</th>\n",
       "      <th>is_weekend</th>\n",
       "      <th>part_of_month</th>\n",
       "      <th>duration(min)</th>\n",
       "    </tr>\n",
       "  </thead>\n",
       "  <tbody>\n",
       "    <tr>\n",
       "      <th>0</th>\n",
       "      <td>AnadoluJet</td>\n",
       "      <td>506</td>\n",
       "      <td>Monday</td>\n",
       "      <td>Tuesday</td>\n",
       "      <td>14</td>\n",
       "      <td>11</td>\n",
       "      <td>13</td>\n",
       "      <td>Izmir</td>\n",
       "      <td>Sabiha Gökçen Airport</td>\n",
       "      <td>7</td>\n",
       "      <td>Early Morning</td>\n",
       "      <td>Weekday</td>\n",
       "      <td>Middle</td>\n",
       "      <td>70</td>\n",
       "    </tr>\n",
       "    <tr>\n",
       "      <th>1</th>\n",
       "      <td>AnadoluJet</td>\n",
       "      <td>506</td>\n",
       "      <td>Monday</td>\n",
       "      <td>Tuesday</td>\n",
       "      <td>14</td>\n",
       "      <td>11</td>\n",
       "      <td>13</td>\n",
       "      <td>Izmir</td>\n",
       "      <td>Sabiha Gökçen Airport</td>\n",
       "      <td>9</td>\n",
       "      <td>Morning</td>\n",
       "      <td>Weekday</td>\n",
       "      <td>Middle</td>\n",
       "      <td>70</td>\n",
       "    </tr>\n",
       "    <tr>\n",
       "      <th>2</th>\n",
       "      <td>AnadoluJet</td>\n",
       "      <td>506</td>\n",
       "      <td>Monday</td>\n",
       "      <td>Tuesday</td>\n",
       "      <td>14</td>\n",
       "      <td>11</td>\n",
       "      <td>13</td>\n",
       "      <td>Izmir</td>\n",
       "      <td>Sabiha Gökçen Airport</td>\n",
       "      <td>20</td>\n",
       "      <td>Evening</td>\n",
       "      <td>Weekday</td>\n",
       "      <td>Middle</td>\n",
       "      <td>70</td>\n",
       "    </tr>\n",
       "    <tr>\n",
       "      <th>3</th>\n",
       "      <td>Pegasus</td>\n",
       "      <td>539</td>\n",
       "      <td>Monday</td>\n",
       "      <td>Tuesday</td>\n",
       "      <td>14</td>\n",
       "      <td>11</td>\n",
       "      <td>13</td>\n",
       "      <td>Izmir</td>\n",
       "      <td>Sabiha Gökçen Airport</td>\n",
       "      <td>23</td>\n",
       "      <td>Night</td>\n",
       "      <td>Weekday</td>\n",
       "      <td>Middle</td>\n",
       "      <td>70</td>\n",
       "    </tr>\n",
       "    <tr>\n",
       "      <th>4</th>\n",
       "      <td>Pegasus</td>\n",
       "      <td>542</td>\n",
       "      <td>Monday</td>\n",
       "      <td>Tuesday</td>\n",
       "      <td>14</td>\n",
       "      <td>11</td>\n",
       "      <td>13</td>\n",
       "      <td>Izmir</td>\n",
       "      <td>Sabiha Gökçen Airport</td>\n",
       "      <td>9</td>\n",
       "      <td>Morning</td>\n",
       "      <td>Weekday</td>\n",
       "      <td>Middle</td>\n",
       "      <td>70</td>\n",
       "    </tr>\n",
       "  </tbody>\n",
       "</table>\n",
       "</div>"
      ],
      "text/plain": [
       "      company  price_try departure_week_day checked_week_day  departure_day  \\\n",
       "0  AnadoluJet        506             Monday          Tuesday             14   \n",
       "1  AnadoluJet        506             Monday          Tuesday             14   \n",
       "2  AnadoluJet        506             Monday          Tuesday             14   \n",
       "3     Pegasus        539             Monday          Tuesday             14   \n",
       "4     Pegasus        542             Monday          Tuesday             14   \n",
       "\n",
       "   departure_month  remaining_day_to_flight arrival_city  \\\n",
       "0               11                       13        Izmir   \n",
       "1               11                       13        Izmir   \n",
       "2               11                       13        Izmir   \n",
       "3               11                       13        Izmir   \n",
       "4               11                       13        Izmir   \n",
       "\n",
       "  departure_airport_name  departure_hour    part_of_day is_weekend  \\\n",
       "0  Sabiha Gökçen Airport               7  Early Morning    Weekday   \n",
       "1  Sabiha Gökçen Airport               9        Morning    Weekday   \n",
       "2  Sabiha Gökçen Airport              20        Evening    Weekday   \n",
       "3  Sabiha Gökçen Airport              23          Night    Weekday   \n",
       "4  Sabiha Gökçen Airport               9        Morning    Weekday   \n",
       "\n",
       "  part_of_month  duration(min)  \n",
       "0        Middle             70  \n",
       "1        Middle             70  \n",
       "2        Middle             70  \n",
       "3        Middle             70  \n",
       "4        Middle             70  "
      ]
     },
     "execution_count": 5,
     "metadata": {},
     "output_type": "execute_result"
    }
   ],
   "source": [
    "df.head()"
   ]
  },
  {
   "cell_type": "code",
   "execution_count": 6,
   "id": "3b7a6490",
   "metadata": {},
   "outputs": [
    {
     "data": {
      "text/plain": [
       "count    129513.000000\n",
       "mean        874.649935\n",
       "std         286.457553\n",
       "min         432.000000\n",
       "25%         734.000000\n",
       "50%         869.000000\n",
       "75%        1006.000000\n",
       "max        4258.000000\n",
       "Name: price_try, dtype: float64"
      ]
     },
     "execution_count": 6,
     "metadata": {},
     "output_type": "execute_result"
    }
   ],
   "source": [
    "df[\"price_try\"].describe()"
   ]
  },
  {
   "cell_type": "code",
   "execution_count": 7,
   "id": "5521f26a",
   "metadata": {},
   "outputs": [],
   "source": [
    "categorical_cols = df.select_dtypes(include=['category']).columns.to_list()"
   ]
  },
  {
   "cell_type": "code",
   "execution_count": 8,
   "id": "55501ea0",
   "metadata": {},
   "outputs": [],
   "source": [
    "dummies_data = pd.get_dummies(df[categorical_cols])\n",
    "df_updated = pd.concat([df.drop(categorical_cols, axis=1), dummies_data], axis=1)"
   ]
  },
  {
   "cell_type": "code",
   "execution_count": 9,
   "id": "270639c5",
   "metadata": {},
   "outputs": [
    {
     "data": {
      "text/html": [
       "<div>\n",
       "<style scoped>\n",
       "    .dataframe tbody tr th:only-of-type {\n",
       "        vertical-align: middle;\n",
       "    }\n",
       "\n",
       "    .dataframe tbody tr th {\n",
       "        vertical-align: top;\n",
       "    }\n",
       "\n",
       "    .dataframe thead th {\n",
       "        text-align: right;\n",
       "    }\n",
       "</style>\n",
       "<table border=\"1\" class=\"dataframe\">\n",
       "  <thead>\n",
       "    <tr style=\"text-align: right;\">\n",
       "      <th></th>\n",
       "      <th>price_try</th>\n",
       "      <th>departure_day</th>\n",
       "      <th>departure_month</th>\n",
       "      <th>remaining_day_to_flight</th>\n",
       "      <th>departure_hour</th>\n",
       "      <th>duration(min)</th>\n",
       "      <th>company_AnadoluJet</th>\n",
       "      <th>company_Pegasus</th>\n",
       "      <th>company_Türk Hava Yolları</th>\n",
       "      <th>departure_week_day_Friday</th>\n",
       "      <th>...</th>\n",
       "      <th>part_of_day_Evening</th>\n",
       "      <th>part_of_day_Late Night</th>\n",
       "      <th>part_of_day_Morning</th>\n",
       "      <th>part_of_day_Night</th>\n",
       "      <th>part_of_day_Noon</th>\n",
       "      <th>is_weekend_Weekday</th>\n",
       "      <th>is_weekend_Weekend</th>\n",
       "      <th>part_of_month_Beginning</th>\n",
       "      <th>part_of_month_End</th>\n",
       "      <th>part_of_month_Middle</th>\n",
       "    </tr>\n",
       "  </thead>\n",
       "  <tbody>\n",
       "    <tr>\n",
       "      <th>0</th>\n",
       "      <td>506</td>\n",
       "      <td>14</td>\n",
       "      <td>11</td>\n",
       "      <td>13</td>\n",
       "      <td>7</td>\n",
       "      <td>70</td>\n",
       "      <td>1</td>\n",
       "      <td>0</td>\n",
       "      <td>0</td>\n",
       "      <td>0</td>\n",
       "      <td>...</td>\n",
       "      <td>0</td>\n",
       "      <td>0</td>\n",
       "      <td>0</td>\n",
       "      <td>0</td>\n",
       "      <td>0</td>\n",
       "      <td>1</td>\n",
       "      <td>0</td>\n",
       "      <td>0</td>\n",
       "      <td>0</td>\n",
       "      <td>1</td>\n",
       "    </tr>\n",
       "    <tr>\n",
       "      <th>1</th>\n",
       "      <td>506</td>\n",
       "      <td>14</td>\n",
       "      <td>11</td>\n",
       "      <td>13</td>\n",
       "      <td>9</td>\n",
       "      <td>70</td>\n",
       "      <td>1</td>\n",
       "      <td>0</td>\n",
       "      <td>0</td>\n",
       "      <td>0</td>\n",
       "      <td>...</td>\n",
       "      <td>0</td>\n",
       "      <td>0</td>\n",
       "      <td>1</td>\n",
       "      <td>0</td>\n",
       "      <td>0</td>\n",
       "      <td>1</td>\n",
       "      <td>0</td>\n",
       "      <td>0</td>\n",
       "      <td>0</td>\n",
       "      <td>1</td>\n",
       "    </tr>\n",
       "    <tr>\n",
       "      <th>2</th>\n",
       "      <td>506</td>\n",
       "      <td>14</td>\n",
       "      <td>11</td>\n",
       "      <td>13</td>\n",
       "      <td>20</td>\n",
       "      <td>70</td>\n",
       "      <td>1</td>\n",
       "      <td>0</td>\n",
       "      <td>0</td>\n",
       "      <td>0</td>\n",
       "      <td>...</td>\n",
       "      <td>1</td>\n",
       "      <td>0</td>\n",
       "      <td>0</td>\n",
       "      <td>0</td>\n",
       "      <td>0</td>\n",
       "      <td>1</td>\n",
       "      <td>0</td>\n",
       "      <td>0</td>\n",
       "      <td>0</td>\n",
       "      <td>1</td>\n",
       "    </tr>\n",
       "    <tr>\n",
       "      <th>3</th>\n",
       "      <td>539</td>\n",
       "      <td>14</td>\n",
       "      <td>11</td>\n",
       "      <td>13</td>\n",
       "      <td>23</td>\n",
       "      <td>70</td>\n",
       "      <td>0</td>\n",
       "      <td>1</td>\n",
       "      <td>0</td>\n",
       "      <td>0</td>\n",
       "      <td>...</td>\n",
       "      <td>0</td>\n",
       "      <td>0</td>\n",
       "      <td>0</td>\n",
       "      <td>1</td>\n",
       "      <td>0</td>\n",
       "      <td>1</td>\n",
       "      <td>0</td>\n",
       "      <td>0</td>\n",
       "      <td>0</td>\n",
       "      <td>1</td>\n",
       "    </tr>\n",
       "    <tr>\n",
       "      <th>4</th>\n",
       "      <td>542</td>\n",
       "      <td>14</td>\n",
       "      <td>11</td>\n",
       "      <td>13</td>\n",
       "      <td>9</td>\n",
       "      <td>70</td>\n",
       "      <td>0</td>\n",
       "      <td>1</td>\n",
       "      <td>0</td>\n",
       "      <td>0</td>\n",
       "      <td>...</td>\n",
       "      <td>0</td>\n",
       "      <td>0</td>\n",
       "      <td>1</td>\n",
       "      <td>0</td>\n",
       "      <td>0</td>\n",
       "      <td>1</td>\n",
       "      <td>0</td>\n",
       "      <td>0</td>\n",
       "      <td>0</td>\n",
       "      <td>1</td>\n",
       "    </tr>\n",
       "  </tbody>\n",
       "</table>\n",
       "<p>5 rows × 49 columns</p>\n",
       "</div>"
      ],
      "text/plain": [
       "   price_try  departure_day  departure_month  remaining_day_to_flight  \\\n",
       "0        506             14               11                       13   \n",
       "1        506             14               11                       13   \n",
       "2        506             14               11                       13   \n",
       "3        539             14               11                       13   \n",
       "4        542             14               11                       13   \n",
       "\n",
       "   departure_hour  duration(min)  company_AnadoluJet  company_Pegasus  \\\n",
       "0               7             70                   1                0   \n",
       "1               9             70                   1                0   \n",
       "2              20             70                   1                0   \n",
       "3              23             70                   0                1   \n",
       "4               9             70                   0                1   \n",
       "\n",
       "   company_Türk Hava Yolları  departure_week_day_Friday  ...  \\\n",
       "0                          0                          0  ...   \n",
       "1                          0                          0  ...   \n",
       "2                          0                          0  ...   \n",
       "3                          0                          0  ...   \n",
       "4                          0                          0  ...   \n",
       "\n",
       "   part_of_day_Evening  part_of_day_Late Night  part_of_day_Morning  \\\n",
       "0                    0                       0                    0   \n",
       "1                    0                       0                    1   \n",
       "2                    1                       0                    0   \n",
       "3                    0                       0                    0   \n",
       "4                    0                       0                    1   \n",
       "\n",
       "   part_of_day_Night  part_of_day_Noon  is_weekend_Weekday  \\\n",
       "0                  0                 0                   1   \n",
       "1                  0                 0                   1   \n",
       "2                  0                 0                   1   \n",
       "3                  1                 0                   1   \n",
       "4                  0                 0                   1   \n",
       "\n",
       "   is_weekend_Weekend  part_of_month_Beginning  part_of_month_End  \\\n",
       "0                   0                        0                  0   \n",
       "1                   0                        0                  0   \n",
       "2                   0                        0                  0   \n",
       "3                   0                        0                  0   \n",
       "4                   0                        0                  0   \n",
       "\n",
       "   part_of_month_Middle  \n",
       "0                     1  \n",
       "1                     1  \n",
       "2                     1  \n",
       "3                     1  \n",
       "4                     1  \n",
       "\n",
       "[5 rows x 49 columns]"
      ]
     },
     "execution_count": 9,
     "metadata": {},
     "output_type": "execute_result"
    }
   ],
   "source": [
    "df_updated.head()"
   ]
  },
  {
   "cell_type": "code",
   "execution_count": 10,
   "id": "f6ec6826",
   "metadata": {},
   "outputs": [
    {
     "data": {
      "text/plain": [
       "129513"
      ]
     },
     "execution_count": 10,
     "metadata": {},
     "output_type": "execute_result"
    }
   ],
   "source": [
    "df_updated.shape[0]"
   ]
  },
  {
   "cell_type": "code",
   "execution_count": 11,
   "id": "ef1fdbfd",
   "metadata": {},
   "outputs": [],
   "source": [
    "X = df_updated.drop(['price_try'], axis=1)\n",
    "\n",
    "y = df_updated['price_try']"
   ]
  },
  {
   "cell_type": "code",
   "execution_count": 12,
   "id": "40177ebc",
   "metadata": {},
   "outputs": [],
   "source": [
    "scaler = StandardScaler()\n",
    "X_scaled = scaler.fit_transform(X)"
   ]
  },
  {
   "cell_type": "code",
   "execution_count": 13,
   "id": "4998ef89",
   "metadata": {},
   "outputs": [],
   "source": [
    "X_train, X_test, y_train, y_test = train_test_split(X_scaled, y, test_size = 0.2, random_state = 0)"
   ]
  },
  {
   "cell_type": "code",
   "execution_count": 106,
   "id": "7dbcc323",
   "metadata": {},
   "outputs": [
    {
     "data": {
      "text/plain": [
       "count    25903.000000\n",
       "mean       871.957727\n",
       "std        283.426099\n",
       "min        432.000000\n",
       "25%        732.000000\n",
       "50%        869.000000\n",
       "75%       1006.000000\n",
       "max       4258.000000\n",
       "Name: original_values, dtype: float64"
      ]
     },
     "execution_count": 106,
     "metadata": {},
     "output_type": "execute_result"
    }
   ],
   "source": [
    "predicted_df.original_values.describe()"
   ]
  },
  {
   "cell_type": "code",
   "execution_count": 110,
   "id": "a8110ecf",
   "metadata": {},
   "outputs": [],
   "source": [
    "def categorize(row):\n",
    "    if row <= 732:\n",
    "        return \"432-732\"\n",
    "    elif row <= 869:\n",
    "        return \"733-869\"\n",
    "    elif row <= 1006:\n",
    "        return \"870-1006\"\n",
    "    else:\n",
    "        return \"1007-4258\""
   ]
  },
  {
   "cell_type": "code",
   "execution_count": 129,
   "id": "c1603389",
   "metadata": {},
   "outputs": [],
   "source": [
    "model_comparison={}"
   ]
  },
  {
   "cell_type": "markdown",
   "id": "7198c1f0",
   "metadata": {},
   "source": [
    "## MACHINE LEARNING ALGORITHMS"
   ]
  },
  {
   "cell_type": "markdown",
   "id": "30743ae8",
   "metadata": {},
   "source": [
    "### 1) KNN Regressor"
   ]
  },
  {
   "cell_type": "code",
   "execution_count": 16,
   "id": "1a8a93d2",
   "metadata": {},
   "outputs": [
    {
     "data": {
      "text/html": [
       "<style>#sk-container-id-1 {color: black;background-color: white;}#sk-container-id-1 pre{padding: 0;}#sk-container-id-1 div.sk-toggleable {background-color: white;}#sk-container-id-1 label.sk-toggleable__label {cursor: pointer;display: block;width: 100%;margin-bottom: 0;padding: 0.3em;box-sizing: border-box;text-align: center;}#sk-container-id-1 label.sk-toggleable__label-arrow:before {content: \"▸\";float: left;margin-right: 0.25em;color: #696969;}#sk-container-id-1 label.sk-toggleable__label-arrow:hover:before {color: black;}#sk-container-id-1 div.sk-estimator:hover label.sk-toggleable__label-arrow:before {color: black;}#sk-container-id-1 div.sk-toggleable__content {max-height: 0;max-width: 0;overflow: hidden;text-align: left;background-color: #f0f8ff;}#sk-container-id-1 div.sk-toggleable__content pre {margin: 0.2em;color: black;border-radius: 0.25em;background-color: #f0f8ff;}#sk-container-id-1 input.sk-toggleable__control:checked~div.sk-toggleable__content {max-height: 200px;max-width: 100%;overflow: auto;}#sk-container-id-1 input.sk-toggleable__control:checked~label.sk-toggleable__label-arrow:before {content: \"▾\";}#sk-container-id-1 div.sk-estimator input.sk-toggleable__control:checked~label.sk-toggleable__label {background-color: #d4ebff;}#sk-container-id-1 div.sk-label input.sk-toggleable__control:checked~label.sk-toggleable__label {background-color: #d4ebff;}#sk-container-id-1 input.sk-hidden--visually {border: 0;clip: rect(1px 1px 1px 1px);clip: rect(1px, 1px, 1px, 1px);height: 1px;margin: -1px;overflow: hidden;padding: 0;position: absolute;width: 1px;}#sk-container-id-1 div.sk-estimator {font-family: monospace;background-color: #f0f8ff;border: 1px dotted black;border-radius: 0.25em;box-sizing: border-box;margin-bottom: 0.5em;}#sk-container-id-1 div.sk-estimator:hover {background-color: #d4ebff;}#sk-container-id-1 div.sk-parallel-item::after {content: \"\";width: 100%;border-bottom: 1px solid gray;flex-grow: 1;}#sk-container-id-1 div.sk-label:hover label.sk-toggleable__label {background-color: #d4ebff;}#sk-container-id-1 div.sk-serial::before {content: \"\";position: absolute;border-left: 1px solid gray;box-sizing: border-box;top: 0;bottom: 0;left: 50%;z-index: 0;}#sk-container-id-1 div.sk-serial {display: flex;flex-direction: column;align-items: center;background-color: white;padding-right: 0.2em;padding-left: 0.2em;position: relative;}#sk-container-id-1 div.sk-item {position: relative;z-index: 1;}#sk-container-id-1 div.sk-parallel {display: flex;align-items: stretch;justify-content: center;background-color: white;position: relative;}#sk-container-id-1 div.sk-item::before, #sk-container-id-1 div.sk-parallel-item::before {content: \"\";position: absolute;border-left: 1px solid gray;box-sizing: border-box;top: 0;bottom: 0;left: 50%;z-index: -1;}#sk-container-id-1 div.sk-parallel-item {display: flex;flex-direction: column;z-index: 1;position: relative;background-color: white;}#sk-container-id-1 div.sk-parallel-item:first-child::after {align-self: flex-end;width: 50%;}#sk-container-id-1 div.sk-parallel-item:last-child::after {align-self: flex-start;width: 50%;}#sk-container-id-1 div.sk-parallel-item:only-child::after {width: 0;}#sk-container-id-1 div.sk-dashed-wrapped {border: 1px dashed gray;margin: 0 0.4em 0.5em 0.4em;box-sizing: border-box;padding-bottom: 0.4em;background-color: white;}#sk-container-id-1 div.sk-label label {font-family: monospace;font-weight: bold;display: inline-block;line-height: 1.2em;}#sk-container-id-1 div.sk-label-container {text-align: center;}#sk-container-id-1 div.sk-container {/* jupyter's `normalize.less` sets `[hidden] { display: none; }` but bootstrap.min.css set `[hidden] { display: none !important; }` so we also need the `!important` here to be able to override the default hidden behavior on the sphinx rendered scikit-learn.org. See: https://github.com/scikit-learn/scikit-learn/issues/21755 */display: inline-block !important;position: relative;}#sk-container-id-1 div.sk-text-repr-fallback {display: none;}</style><div id=\"sk-container-id-1\" class=\"sk-top-container\"><div class=\"sk-text-repr-fallback\"><pre>GridSearchCV(cv=10, estimator=KNeighborsRegressor(),\n",
       "             param_grid={&#x27;n_neighbors&#x27;: [1, 2, 3, 4, 5, 6, 7, 8, 9, 10, 11, 12,\n",
       "                                         13, 14, 15, 16, 17, 18, 19, 20, 21, 22,\n",
       "                                         23, 24, 25, 26, 27, 28, 29]},\n",
       "             scoring=&#x27;neg_mean_squared_error&#x27;)</pre><b>In a Jupyter environment, please rerun this cell to show the HTML representation or trust the notebook. <br />On GitHub, the HTML representation is unable to render, please try loading this page with nbviewer.org.</b></div><div class=\"sk-container\" hidden><div class=\"sk-item sk-dashed-wrapped\"><div class=\"sk-label-container\"><div class=\"sk-label sk-toggleable\"><input class=\"sk-toggleable__control sk-hidden--visually\" id=\"sk-estimator-id-1\" type=\"checkbox\" ><label for=\"sk-estimator-id-1\" class=\"sk-toggleable__label sk-toggleable__label-arrow\">GridSearchCV</label><div class=\"sk-toggleable__content\"><pre>GridSearchCV(cv=10, estimator=KNeighborsRegressor(),\n",
       "             param_grid={&#x27;n_neighbors&#x27;: [1, 2, 3, 4, 5, 6, 7, 8, 9, 10, 11, 12,\n",
       "                                         13, 14, 15, 16, 17, 18, 19, 20, 21, 22,\n",
       "                                         23, 24, 25, 26, 27, 28, 29]},\n",
       "             scoring=&#x27;neg_mean_squared_error&#x27;)</pre></div></div></div><div class=\"sk-parallel\"><div class=\"sk-parallel-item\"><div class=\"sk-item\"><div class=\"sk-label-container\"><div class=\"sk-label sk-toggleable\"><input class=\"sk-toggleable__control sk-hidden--visually\" id=\"sk-estimator-id-2\" type=\"checkbox\" ><label for=\"sk-estimator-id-2\" class=\"sk-toggleable__label sk-toggleable__label-arrow\">estimator: KNeighborsRegressor</label><div class=\"sk-toggleable__content\"><pre>KNeighborsRegressor()</pre></div></div></div><div class=\"sk-serial\"><div class=\"sk-item\"><div class=\"sk-estimator sk-toggleable\"><input class=\"sk-toggleable__control sk-hidden--visually\" id=\"sk-estimator-id-3\" type=\"checkbox\" ><label for=\"sk-estimator-id-3\" class=\"sk-toggleable__label sk-toggleable__label-arrow\">KNeighborsRegressor</label><div class=\"sk-toggleable__content\"><pre>KNeighborsRegressor()</pre></div></div></div></div></div></div></div></div></div></div>"
      ],
      "text/plain": [
       "GridSearchCV(cv=10, estimator=KNeighborsRegressor(),\n",
       "             param_grid={'n_neighbors': [1, 2, 3, 4, 5, 6, 7, 8, 9, 10, 11, 12,\n",
       "                                         13, 14, 15, 16, 17, 18, 19, 20, 21, 22,\n",
       "                                         23, 24, 25, 26, 27, 28, 29]},\n",
       "             scoring='neg_mean_squared_error')"
      ]
     },
     "execution_count": 16,
     "metadata": {},
     "output_type": "execute_result"
    }
   ],
   "source": [
    "k_range = list(range(1, 30))\n",
    "params = dict(n_neighbors = k_range)\n",
    "knn_regressor = GridSearchCV(KNeighborsRegressor(), params, cv = 10, scoring = 'neg_mean_squared_error')\n",
    "knn_regressor.fit(X_train, y_train)"
   ]
  },
  {
   "cell_type": "code",
   "execution_count": 17,
   "id": "99cddc3a",
   "metadata": {},
   "outputs": [
    {
     "data": {
      "text/plain": [
       "{'n_neighbors': 4}"
      ]
     },
     "execution_count": 17,
     "metadata": {},
     "output_type": "execute_result"
    }
   ],
   "source": [
    "knn_regressor.best_params_"
   ]
  },
  {
   "cell_type": "code",
   "execution_count": 18,
   "id": "60e79705",
   "metadata": {},
   "outputs": [],
   "source": [
    "y_train_pred =knn_regressor.predict(X_train) ##Predict train result\n",
    "y_test_pred =knn_regressor.predict(X_test) ##Predict test result"
   ]
  },
  {
   "cell_type": "code",
   "execution_count": 118,
   "id": "feb284e6",
   "metadata": {},
   "outputs": [
    {
     "name": "stdout",
     "output_type": "stream",
     "text": [
      "Train Results for KNN Regressor Model:\n",
      "--------------------------------------------------\n",
      "Root mean squared error:  123.02\n",
      "R-squared:  0.82\n"
     ]
    }
   ],
   "source": [
    "print(\"Train Results for KNN Regressor Model:\")\n",
    "print(50 * '-')\n",
    "print(\"Root mean squared error: \", round(sqrt(mse(y_train.values, y_train_pred)),2))\n",
    "print(\"R-squared: \", round(r2_score(y_train.values, y_train_pred),2))"
   ]
  },
  {
   "cell_type": "code",
   "execution_count": 117,
   "id": "542a3cdb",
   "metadata": {},
   "outputs": [
    {
     "name": "stdout",
     "output_type": "stream",
     "text": [
      "Test Results for KNN Regressor Model:\n",
      "--------------------------------------------------\n",
      "Root mean squared error:  159.81\n",
      "R-squared:  0.68\n"
     ]
    }
   ],
   "source": [
    "print(\"Test Results for KNN Regressor Model:\")\n",
    "print(50 * '-')\n",
    "print(\"Root mean squared error: \", round(sqrt(mse(y_test, y_test_pred)),2))\n",
    "print(\"R-squared: \", round(r2_score(y_test, y_test_pred),2))"
   ]
  },
  {
   "cell_type": "code",
   "execution_count": 134,
   "id": "dcb949ec",
   "metadata": {},
   "outputs": [],
   "source": [
    "model_comparison[\"KNN Regressor\"]=[round(sqrt(mse(y_test, y_test_pred)),2),round(r2_score(y_test, y_test_pred),2)]"
   ]
  },
  {
   "cell_type": "markdown",
   "id": "ddec0eb6",
   "metadata": {},
   "source": [
    "RMSE of test > RMSE of train => OVER FITTING of the data.\n",
    "\n",
    "RMSE of test < RMSE of train => UNDER FITTING of the data.\n",
    "\n",
    "159.8 > 123.02 => OVER FITTING"
   ]
  },
  {
   "cell_type": "code",
   "execution_count": 79,
   "id": "ba090cc5",
   "metadata": {},
   "outputs": [
    {
     "data": {
      "image/png": "[encoded data removed]",
      "text/plain": [
       "<Figure size 640x480 with 1 Axes>"
      ]
     },
     "metadata": {},
     "output_type": "display_data"
    }
   ],
   "source": [
    "plt.scatter(y_test, y_test_pred)\n",
    "plt.xlabel('Actual values')\n",
    "plt.ylabel('Predicted values')\n",
    "\n",
    "plt.plot(np.unique(y_test), np.poly1d(np.polyfit(y_test, y_test_pred, 1))(np.unique(y_test)), color=\"#34495E\")\n",
    "plt.text(2000, 3900, 'R\\u00B2 = %0.2f' % r2_score(y_test, y_test_pred))\n",
    "\n",
    "plt.show()"
   ]
  },
  {
   "cell_type": "code",
   "execution_count": 103,
   "id": "ac318e78",
   "metadata": {},
   "outputs": [],
   "source": [
    "predicted_df = {'predicted_values': y_test_pred, 'original_values': y_test}\n",
    "#creating new dataframe\n",
    "predicted_df=pd.DataFrame(predicted_df).sort_values(by=['original_values'])"
   ]
  },
  {
   "cell_type": "code",
   "execution_count": 104,
   "id": "571c8411",
   "metadata": {},
   "outputs": [],
   "source": [
    "predicted_df['error']= [\"correct\" if row['original_values']==row['predicted_values'] else \"incorrect\" for index,row in predicted_df.iterrows()]"
   ]
  },
  {
   "cell_type": "code",
   "execution_count": 111,
   "id": "1cba24e5",
   "metadata": {},
   "outputs": [],
   "source": [
    "predicted_df[\"category\"]= predicted_df.original_values.apply(lambda row: categorize(row))"
   ]
  },
  {
   "cell_type": "code",
   "execution_count": 115,
   "id": "efd85e04",
   "metadata": {},
   "outputs": [
    {
     "data": {
      "text/plain": [
       "(0.0, 7444.5)"
      ]
     },
     "execution_count": 115,
     "metadata": {},
     "output_type": "execute_result"
    },
    {
     "data": {
      "image/png": "[encoded data removed]",
      "text/plain": [
       "<Figure size 640x480 with 1 Axes>"
      ]
     },
     "metadata": {},
     "output_type": "display_data"
    }
   ],
   "source": [
    "color= ['#566573', '#AF6276']\n",
    "test = predicted_df.groupby(['category', 'error'])['category'].count().unstack('error').fillna(0)\n",
    "test.plot(kind='bar', stacked=True, color=color)\n",
    "plt.title('Prediction Error Rate', fontsize=15)\n",
    "plt.xticks(rotation=0, fontsize=12)\n",
    "plt.xlabel(\"Price (TL) Range\")\n",
    "plt.ylabel(\"Count\")\n",
    "plt.ylim(0)"
   ]
  },
  {
   "cell_type": "markdown",
   "id": "904fdcb4",
   "metadata": {},
   "source": [
    "### 2) Rigde Regressor"
   ]
  },
  {
   "cell_type": "code",
   "execution_count": 119,
   "id": "0dfd8618",
   "metadata": {},
   "outputs": [
    {
     "data": {
      "text/html": [
       "<style>#sk-container-id-2 {color: black;background-color: white;}#sk-container-id-2 pre{padding: 0;}#sk-container-id-2 div.sk-toggleable {background-color: white;}#sk-container-id-2 label.sk-toggleable__label {cursor: pointer;display: block;width: 100%;margin-bottom: 0;padding: 0.3em;box-sizing: border-box;text-align: center;}#sk-container-id-2 label.sk-toggleable__label-arrow:before {content: \"▸\";float: left;margin-right: 0.25em;color: #696969;}#sk-container-id-2 label.sk-toggleable__label-arrow:hover:before {color: black;}#sk-container-id-2 div.sk-estimator:hover label.sk-toggleable__label-arrow:before {color: black;}#sk-container-id-2 div.sk-toggleable__content {max-height: 0;max-width: 0;overflow: hidden;text-align: left;background-color: #f0f8ff;}#sk-container-id-2 div.sk-toggleable__content pre {margin: 0.2em;color: black;border-radius: 0.25em;background-color: #f0f8ff;}#sk-container-id-2 input.sk-toggleable__control:checked~div.sk-toggleable__content {max-height: 200px;max-width: 100%;overflow: auto;}#sk-container-id-2 input.sk-toggleable__control:checked~label.sk-toggleable__label-arrow:before {content: \"▾\";}#sk-container-id-2 div.sk-estimator input.sk-toggleable__control:checked~label.sk-toggleable__label {background-color: #d4ebff;}#sk-container-id-2 div.sk-label input.sk-toggleable__control:checked~label.sk-toggleable__label {background-color: #d4ebff;}#sk-container-id-2 input.sk-hidden--visually {border: 0;clip: rect(1px 1px 1px 1px);clip: rect(1px, 1px, 1px, 1px);height: 1px;margin: -1px;overflow: hidden;padding: 0;position: absolute;width: 1px;}#sk-container-id-2 div.sk-estimator {font-family: monospace;background-color: #f0f8ff;border: 1px dotted black;border-radius: 0.25em;box-sizing: border-box;margin-bottom: 0.5em;}#sk-container-id-2 div.sk-estimator:hover {background-color: #d4ebff;}#sk-container-id-2 div.sk-parallel-item::after {content: \"\";width: 100%;border-bottom: 1px solid gray;flex-grow: 1;}#sk-container-id-2 div.sk-label:hover label.sk-toggleable__label {background-color: #d4ebff;}#sk-container-id-2 div.sk-serial::before {content: \"\";position: absolute;border-left: 1px solid gray;box-sizing: border-box;top: 0;bottom: 0;left: 50%;z-index: 0;}#sk-container-id-2 div.sk-serial {display: flex;flex-direction: column;align-items: center;background-color: white;padding-right: 0.2em;padding-left: 0.2em;position: relative;}#sk-container-id-2 div.sk-item {position: relative;z-index: 1;}#sk-container-id-2 div.sk-parallel {display: flex;align-items: stretch;justify-content: center;background-color: white;position: relative;}#sk-container-id-2 div.sk-item::before, #sk-container-id-2 div.sk-parallel-item::before {content: \"\";position: absolute;border-left: 1px solid gray;box-sizing: border-box;top: 0;bottom: 0;left: 50%;z-index: -1;}#sk-container-id-2 div.sk-parallel-item {display: flex;flex-direction: column;z-index: 1;position: relative;background-color: white;}#sk-container-id-2 div.sk-parallel-item:first-child::after {align-self: flex-end;width: 50%;}#sk-container-id-2 div.sk-parallel-item:last-child::after {align-self: flex-start;width: 50%;}#sk-container-id-2 div.sk-parallel-item:only-child::after {width: 0;}#sk-container-id-2 div.sk-dashed-wrapped {border: 1px dashed gray;margin: 0 0.4em 0.5em 0.4em;box-sizing: border-box;padding-bottom: 0.4em;background-color: white;}#sk-container-id-2 div.sk-label label {font-family: monospace;font-weight: bold;display: inline-block;line-height: 1.2em;}#sk-container-id-2 div.sk-label-container {text-align: center;}#sk-container-id-2 div.sk-container {/* jupyter's `normalize.less` sets `[hidden] { display: none; }` but bootstrap.min.css set `[hidden] { display: none !important; }` so we also need the `!important` here to be able to override the default hidden behavior on the sphinx rendered scikit-learn.org. See: https://github.com/scikit-learn/scikit-learn/issues/21755 */display: inline-block !important;position: relative;}#sk-container-id-2 div.sk-text-repr-fallback {display: none;}</style><div id=\"sk-container-id-2\" class=\"sk-top-container\"><div class=\"sk-text-repr-fallback\"><pre>GridSearchCV(cv=5, estimator=Ridge(), n_jobs=-1,\n",
       "             param_grid={&#x27;alpha&#x27;: [0.0001, 0.001, 0.01, 0.1, 1, 10, 100, 1000,\n",
       "                                   10000, 100000]},\n",
       "             scoring=&#x27;neg_mean_absolute_error&#x27;)</pre><b>In a Jupyter environment, please rerun this cell to show the HTML representation or trust the notebook. <br />On GitHub, the HTML representation is unable to render, please try loading this page with nbviewer.org.</b></div><div class=\"sk-container\" hidden><div class=\"sk-item sk-dashed-wrapped\"><div class=\"sk-label-container\"><div class=\"sk-label sk-toggleable\"><input class=\"sk-toggleable__control sk-hidden--visually\" id=\"sk-estimator-id-4\" type=\"checkbox\" ><label for=\"sk-estimator-id-4\" class=\"sk-toggleable__label sk-toggleable__label-arrow\">GridSearchCV</label><div class=\"sk-toggleable__content\"><pre>GridSearchCV(cv=5, estimator=Ridge(), n_jobs=-1,\n",
       "             param_grid={&#x27;alpha&#x27;: [0.0001, 0.001, 0.01, 0.1, 1, 10, 100, 1000,\n",
       "                                   10000, 100000]},\n",
       "             scoring=&#x27;neg_mean_absolute_error&#x27;)</pre></div></div></div><div class=\"sk-parallel\"><div class=\"sk-parallel-item\"><div class=\"sk-item\"><div class=\"sk-label-container\"><div class=\"sk-label sk-toggleable\"><input class=\"sk-toggleable__control sk-hidden--visually\" id=\"sk-estimator-id-5\" type=\"checkbox\" ><label for=\"sk-estimator-id-5\" class=\"sk-toggleable__label sk-toggleable__label-arrow\">estimator: Ridge</label><div class=\"sk-toggleable__content\"><pre>Ridge()</pre></div></div></div><div class=\"sk-serial\"><div class=\"sk-item\"><div class=\"sk-estimator sk-toggleable\"><input class=\"sk-toggleable__control sk-hidden--visually\" id=\"sk-estimator-id-6\" type=\"checkbox\" ><label for=\"sk-estimator-id-6\" class=\"sk-toggleable__label sk-toggleable__label-arrow\">Ridge</label><div class=\"sk-toggleable__content\"><pre>Ridge()</pre></div></div></div></div></div></div></div></div></div></div>"
      ],
      "text/plain": [
       "GridSearchCV(cv=5, estimator=Ridge(), n_jobs=-1,\n",
       "             param_grid={'alpha': [0.0001, 0.001, 0.01, 0.1, 1, 10, 100, 1000,\n",
       "                                   10000, 100000]},\n",
       "             scoring='neg_mean_absolute_error')"
      ]
     },
     "execution_count": 119,
     "metadata": {},
     "output_type": "execute_result"
    }
   ],
   "source": [
    "params ={'alpha' :[0.0001, 0.001, 0.01, 0.1, 1, 10, 100, 1000, 10000, 100000]}\n",
    "ridge_regressor =GridSearchCV(Ridge(), params ,cv =5,scoring = 'neg_mean_absolute_error', n_jobs =-1)\n",
    "ridge_regressor.fit(X_train ,y_train)"
   ]
  },
  {
   "cell_type": "code",
   "execution_count": 120,
   "id": "4ee51b46",
   "metadata": {},
   "outputs": [
    {
     "data": {
      "text/plain": [
       "{'alpha': 10000}"
      ]
     },
     "execution_count": 120,
     "metadata": {},
     "output_type": "execute_result"
    }
   ],
   "source": [
    "ridge_regressor.best_params_"
   ]
  },
  {
   "cell_type": "code",
   "execution_count": 121,
   "id": "90eab6b4",
   "metadata": {},
   "outputs": [],
   "source": [
    "y_train_pred =ridge_regressor.predict(X_train) ##Predict train result\n",
    "y_test_pred =ridge_regressor.predict(X_test) ##Predict test result"
   ]
  },
  {
   "cell_type": "code",
   "execution_count": 123,
   "id": "15f31980",
   "metadata": {},
   "outputs": [
    {
     "name": "stdout",
     "output_type": "stream",
     "text": [
      "Train Results for Ridge Regressor Model:\n",
      "--------------------------------------------------\n",
      "Root mean squared error:  201.12\n",
      "R-squared:  0.51\n"
     ]
    }
   ],
   "source": [
    "print(\"Train Results for Ridge Regressor Model:\")\n",
    "print(50 * '-')\n",
    "print(\"Root mean squared error: \", round(sqrt(mse(y_train.values, y_train_pred)),2))\n",
    "print(\"R-squared: \", round(r2_score(y_train.values, y_train_pred),2))"
   ]
  },
  {
   "cell_type": "code",
   "execution_count": 124,
   "id": "bcc09d29",
   "metadata": {},
   "outputs": [
    {
     "name": "stdout",
     "output_type": "stream",
     "text": [
      "Test Results for Ridge Regressor Model:\n",
      "--------------------------------------------------\n",
      "Root mean squared error:  196.69\n",
      "R-squared:  0.52\n"
     ]
    }
   ],
   "source": [
    "print(\"Test Results for Ridge Regressor Model:\")\n",
    "print(50 * '-')\n",
    "print(\"Root mean squared error: \", round(sqrt(mse(y_test, y_test_pred)),2))\n",
    "print(\"R-squared: \", round(r2_score(y_test, y_test_pred),2))"
   ]
  },
  {
   "cell_type": "code",
   "execution_count": 135,
   "id": "0c66cce4",
   "metadata": {},
   "outputs": [],
   "source": [
    "model_comparison[\"Ridge Regressor\"]=[round(sqrt(mse(y_test, y_test_pred)),2),round(r2_score(y_test, y_test_pred),2)]"
   ]
  },
  {
   "cell_type": "code",
   "execution_count": 143,
   "id": "7fee121c",
   "metadata": {},
   "outputs": [
    {
     "data": {
      "image/png": "[encoded data removed]",
      "text/plain": [
       "<Figure size 640x480 with 1 Axes>"
      ]
     },
     "metadata": {},
     "output_type": "display_data"
    }
   ],
   "source": [
    "plt.scatter(y_test, y_test_pred)\n",
    "plt.xlabel('Actual values')\n",
    "plt.ylabel('Predicted values')\n",
    "\n",
    "plt.plot(np.unique(y_test), np.poly1d(np.polyfit(y_test, y_test_pred, 1))(np.unique(y_test)), color=\"#34495E\")\n",
    "plt.text(2000, 2800, 'R\\u00B2 = %0.2f' % r2_score(y_test, y_test_pred))\n",
    "\n",
    "plt.show()"
   ]
  },
  {
   "cell_type": "markdown",
   "id": "76b9bbcf",
   "metadata": {},
   "source": [
    "### 3) Lasso Regressor"
   ]
  },
  {
   "cell_type": "code",
   "execution_count": 128,
   "id": "092759b5",
   "metadata": {},
   "outputs": [
    {
     "data": {
      "text/html": [
       "<style>#sk-container-id-3 {color: black;background-color: white;}#sk-container-id-3 pre{padding: 0;}#sk-container-id-3 div.sk-toggleable {background-color: white;}#sk-container-id-3 label.sk-toggleable__label {cursor: pointer;display: block;width: 100%;margin-bottom: 0;padding: 0.3em;box-sizing: border-box;text-align: center;}#sk-container-id-3 label.sk-toggleable__label-arrow:before {content: \"▸\";float: left;margin-right: 0.25em;color: #696969;}#sk-container-id-3 label.sk-toggleable__label-arrow:hover:before {color: black;}#sk-container-id-3 div.sk-estimator:hover label.sk-toggleable__label-arrow:before {color: black;}#sk-container-id-3 div.sk-toggleable__content {max-height: 0;max-width: 0;overflow: hidden;text-align: left;background-color: #f0f8ff;}#sk-container-id-3 div.sk-toggleable__content pre {margin: 0.2em;color: black;border-radius: 0.25em;background-color: #f0f8ff;}#sk-container-id-3 input.sk-toggleable__control:checked~div.sk-toggleable__content {max-height: 200px;max-width: 100%;overflow: auto;}#sk-container-id-3 input.sk-toggleable__control:checked~label.sk-toggleable__label-arrow:before {content: \"▾\";}#sk-container-id-3 div.sk-estimator input.sk-toggleable__control:checked~label.sk-toggleable__label {background-color: #d4ebff;}#sk-container-id-3 div.sk-label input.sk-toggleable__control:checked~label.sk-toggleable__label {background-color: #d4ebff;}#sk-container-id-3 input.sk-hidden--visually {border: 0;clip: rect(1px 1px 1px 1px);clip: rect(1px, 1px, 1px, 1px);height: 1px;margin: -1px;overflow: hidden;padding: 0;position: absolute;width: 1px;}#sk-container-id-3 div.sk-estimator {font-family: monospace;background-color: #f0f8ff;border: 1px dotted black;border-radius: 0.25em;box-sizing: border-box;margin-bottom: 0.5em;}#sk-container-id-3 div.sk-estimator:hover {background-color: #d4ebff;}#sk-container-id-3 div.sk-parallel-item::after {content: \"\";width: 100%;border-bottom: 1px solid gray;flex-grow: 1;}#sk-container-id-3 div.sk-label:hover label.sk-toggleable__label {background-color: #d4ebff;}#sk-container-id-3 div.sk-serial::before {content: \"\";position: absolute;border-left: 1px solid gray;box-sizing: border-box;top: 0;bottom: 0;left: 50%;z-index: 0;}#sk-container-id-3 div.sk-serial {display: flex;flex-direction: column;align-items: center;background-color: white;padding-right: 0.2em;padding-left: 0.2em;position: relative;}#sk-container-id-3 div.sk-item {position: relative;z-index: 1;}#sk-container-id-3 div.sk-parallel {display: flex;align-items: stretch;justify-content: center;background-color: white;position: relative;}#sk-container-id-3 div.sk-item::before, #sk-container-id-3 div.sk-parallel-item::before {content: \"\";position: absolute;border-left: 1px solid gray;box-sizing: border-box;top: 0;bottom: 0;left: 50%;z-index: -1;}#sk-container-id-3 div.sk-parallel-item {display: flex;flex-direction: column;z-index: 1;position: relative;background-color: white;}#sk-container-id-3 div.sk-parallel-item:first-child::after {align-self: flex-end;width: 50%;}#sk-container-id-3 div.sk-parallel-item:last-child::after {align-self: flex-start;width: 50%;}#sk-container-id-3 div.sk-parallel-item:only-child::after {width: 0;}#sk-container-id-3 div.sk-dashed-wrapped {border: 1px dashed gray;margin: 0 0.4em 0.5em 0.4em;box-sizing: border-box;padding-bottom: 0.4em;background-color: white;}#sk-container-id-3 div.sk-label label {font-family: monospace;font-weight: bold;display: inline-block;line-height: 1.2em;}#sk-container-id-3 div.sk-label-container {text-align: center;}#sk-container-id-3 div.sk-container {/* jupyter's `normalize.less` sets `[hidden] { display: none; }` but bootstrap.min.css set `[hidden] { display: none !important; }` so we also need the `!important` here to be able to override the default hidden behavior on the sphinx rendered scikit-learn.org. See: https://github.com/scikit-learn/scikit-learn/issues/21755 */display: inline-block !important;position: relative;}#sk-container-id-3 div.sk-text-repr-fallback {display: none;}</style><div id=\"sk-container-id-3\" class=\"sk-top-container\"><div class=\"sk-text-repr-fallback\"><pre>GridSearchCV(cv=15, estimator=Lasso(), n_jobs=-1,\n",
       "             param_grid={&#x27;alpha&#x27;: [0.0001, 0.001, 0.01, 0.1, 1, 10, 100, 1000,\n",
       "                                   10000, 100000]},\n",
       "             scoring=&#x27;neg_mean_absolute_error&#x27;)</pre><b>In a Jupyter environment, please rerun this cell to show the HTML representation or trust the notebook. <br />On GitHub, the HTML representation is unable to render, please try loading this page with nbviewer.org.</b></div><div class=\"sk-container\" hidden><div class=\"sk-item sk-dashed-wrapped\"><div class=\"sk-label-container\"><div class=\"sk-label sk-toggleable\"><input class=\"sk-toggleable__control sk-hidden--visually\" id=\"sk-estimator-id-7\" type=\"checkbox\" ><label for=\"sk-estimator-id-7\" class=\"sk-toggleable__label sk-toggleable__label-arrow\">GridSearchCV</label><div class=\"sk-toggleable__content\"><pre>GridSearchCV(cv=15, estimator=Lasso(), n_jobs=-1,\n",
       "             param_grid={&#x27;alpha&#x27;: [0.0001, 0.001, 0.01, 0.1, 1, 10, 100, 1000,\n",
       "                                   10000, 100000]},\n",
       "             scoring=&#x27;neg_mean_absolute_error&#x27;)</pre></div></div></div><div class=\"sk-parallel\"><div class=\"sk-parallel-item\"><div class=\"sk-item\"><div class=\"sk-label-container\"><div class=\"sk-label sk-toggleable\"><input class=\"sk-toggleable__control sk-hidden--visually\" id=\"sk-estimator-id-8\" type=\"checkbox\" ><label for=\"sk-estimator-id-8\" class=\"sk-toggleable__label sk-toggleable__label-arrow\">estimator: Lasso</label><div class=\"sk-toggleable__content\"><pre>Lasso()</pre></div></div></div><div class=\"sk-serial\"><div class=\"sk-item\"><div class=\"sk-estimator sk-toggleable\"><input class=\"sk-toggleable__control sk-hidden--visually\" id=\"sk-estimator-id-9\" type=\"checkbox\" ><label for=\"sk-estimator-id-9\" class=\"sk-toggleable__label sk-toggleable__label-arrow\">Lasso</label><div class=\"sk-toggleable__content\"><pre>Lasso()</pre></div></div></div></div></div></div></div></div></div></div>"
      ],
      "text/plain": [
       "GridSearchCV(cv=15, estimator=Lasso(), n_jobs=-1,\n",
       "             param_grid={'alpha': [0.0001, 0.001, 0.01, 0.1, 1, 10, 100, 1000,\n",
       "                                   10000, 100000]},\n",
       "             scoring='neg_mean_absolute_error')"
      ]
     },
     "execution_count": 128,
     "metadata": {},
     "output_type": "execute_result"
    }
   ],
   "source": [
    "params ={'alpha' :[0.0001, 0.001, 0.01, 0.1, 1, 10, 100, 1000, 10000, 100000]}\n",
    "lasso_regressor =GridSearchCV(Lasso(), params ,cv =15,scoring = 'neg_mean_absolute_error', n_jobs =-1)\n",
    "lasso_regressor.fit(X_train ,y_train)"
   ]
  },
  {
   "cell_type": "code",
   "execution_count": 130,
   "id": "d00b018b",
   "metadata": {},
   "outputs": [
    {
     "data": {
      "text/plain": [
       "{'alpha': 1}"
      ]
     },
     "execution_count": 130,
     "metadata": {},
     "output_type": "execute_result"
    }
   ],
   "source": [
    "lasso_regressor.best_params_"
   ]
  },
  {
   "cell_type": "code",
   "execution_count": 131,
   "id": "8c07c960",
   "metadata": {},
   "outputs": [],
   "source": [
    "y_train_pred =lasso_regressor.predict(X_train) ##Predict train result\n",
    "y_test_pred =lasso_regressor.predict(X_test) ##Predict test result"
   ]
  },
  {
   "cell_type": "code",
   "execution_count": 132,
   "id": "aea42f65",
   "metadata": {},
   "outputs": [
    {
     "name": "stdout",
     "output_type": "stream",
     "text": [
      "Train Results for Lasso Regressor Model:\n",
      "--------------------------------------------------\n",
      "Root mean squared error:  200.55425381578655\n",
      "R-squared:  0.5123869146727027\n"
     ]
    }
   ],
   "source": [
    "print(\"Train Results for Lasso Regressor Model:\")\n",
    "print(50 * '-')\n",
    "print(\"Root mean squared error: \", sqrt(mse(y_train.values, y_train_pred)))\n",
    "print(\"R-squared: \", r2_score(y_train.values, y_train_pred))"
   ]
  },
  {
   "cell_type": "code",
   "execution_count": 133,
   "id": "9d1869c4",
   "metadata": {},
   "outputs": [
    {
     "name": "stdout",
     "output_type": "stream",
     "text": [
      "Test Results for Lasso Regressor Model:\n",
      "--------------------------------------------------\n",
      "Root mean squared error:  196.17032517264028\n",
      "R-squared:  0.5209247758963074\n"
     ]
    }
   ],
   "source": [
    "print(\"Test Results for Lasso Regressor Model:\")\n",
    "print(50 * '-')\n",
    "print(\"Root mean squared error: \", sqrt(mse(y_test, y_test_pred)))\n",
    "print(\"R-squared: \", r2_score(y_test, y_test_pred))"
   ]
  },
  {
   "cell_type": "code",
   "execution_count": 144,
   "id": "e036970f",
   "metadata": {},
   "outputs": [],
   "source": [
    "model_comparison[\"Lasso Regressor\"]=[round(sqrt(mse(y_test, y_test_pred)),2),round(r2_score(y_test, y_test_pred),2)]"
   ]
  },
  {
   "cell_type": "code",
   "execution_count": 145,
   "id": "56d02101",
   "metadata": {},
   "outputs": [
    {
     "data": {
      "image/png": "[encoded data removed]",
      "text/plain": [
       "<Figure size 640x480 with 1 Axes>"
      ]
     },
     "metadata": {},
     "output_type": "display_data"
    }
   ],
   "source": [
    "plt.scatter(y_test, y_test_pred)\n",
    "plt.xlabel('Actual values')\n",
    "plt.ylabel('Predicted values')\n",
    "\n",
    "plt.plot(np.unique(y_test), np.poly1d(np.polyfit(y_test, y_test_pred, 1))(np.unique(y_test)), color=\"#34495E\")\n",
    "plt.text(2000, 2800, 'R\\u00B2 = %0.2f' % r2_score(y_test, y_test_pred))\n",
    "\n",
    "plt.show()"
   ]
  },
  {
   "cell_type": "markdown",
   "id": "c435bb61",
   "metadata": {},
   "source": [
    "### 4) Decision Tree Regressor"
   ]
  },
  {
   "cell_type": "code",
   "execution_count": 148,
   "id": "fc980c5d",
   "metadata": {},
   "outputs": [
    {
     "data": {
      "text/html": [
       "<style>#sk-container-id-4 {color: black;background-color: white;}#sk-container-id-4 pre{padding: 0;}#sk-container-id-4 div.sk-toggleable {background-color: white;}#sk-container-id-4 label.sk-toggleable__label {cursor: pointer;display: block;width: 100%;margin-bottom: 0;padding: 0.3em;box-sizing: border-box;text-align: center;}#sk-container-id-4 label.sk-toggleable__label-arrow:before {content: \"▸\";float: left;margin-right: 0.25em;color: #696969;}#sk-container-id-4 label.sk-toggleable__label-arrow:hover:before {color: black;}#sk-container-id-4 div.sk-estimator:hover label.sk-toggleable__label-arrow:before {color: black;}#sk-container-id-4 div.sk-toggleable__content {max-height: 0;max-width: 0;overflow: hidden;text-align: left;background-color: #f0f8ff;}#sk-container-id-4 div.sk-toggleable__content pre {margin: 0.2em;color: black;border-radius: 0.25em;background-color: #f0f8ff;}#sk-container-id-4 input.sk-toggleable__control:checked~div.sk-toggleable__content {max-height: 200px;max-width: 100%;overflow: auto;}#sk-container-id-4 input.sk-toggleable__control:checked~label.sk-toggleable__label-arrow:before {content: \"▾\";}#sk-container-id-4 div.sk-estimator input.sk-toggleable__control:checked~label.sk-toggleable__label {background-color: #d4ebff;}#sk-container-id-4 div.sk-label input.sk-toggleable__control:checked~label.sk-toggleable__label {background-color: #d4ebff;}#sk-container-id-4 input.sk-hidden--visually {border: 0;clip: rect(1px 1px 1px 1px);clip: rect(1px, 1px, 1px, 1px);height: 1px;margin: -1px;overflow: hidden;padding: 0;position: absolute;width: 1px;}#sk-container-id-4 div.sk-estimator {font-family: monospace;background-color: #f0f8ff;border: 1px dotted black;border-radius: 0.25em;box-sizing: border-box;margin-bottom: 0.5em;}#sk-container-id-4 div.sk-estimator:hover {background-color: #d4ebff;}#sk-container-id-4 div.sk-parallel-item::after {content: \"\";width: 100%;border-bottom: 1px solid gray;flex-grow: 1;}#sk-container-id-4 div.sk-label:hover label.sk-toggleable__label {background-color: #d4ebff;}#sk-container-id-4 div.sk-serial::before {content: \"\";position: absolute;border-left: 1px solid gray;box-sizing: border-box;top: 0;bottom: 0;left: 50%;z-index: 0;}#sk-container-id-4 div.sk-serial {display: flex;flex-direction: column;align-items: center;background-color: white;padding-right: 0.2em;padding-left: 0.2em;position: relative;}#sk-container-id-4 div.sk-item {position: relative;z-index: 1;}#sk-container-id-4 div.sk-parallel {display: flex;align-items: stretch;justify-content: center;background-color: white;position: relative;}#sk-container-id-4 div.sk-item::before, #sk-container-id-4 div.sk-parallel-item::before {content: \"\";position: absolute;border-left: 1px solid gray;box-sizing: border-box;top: 0;bottom: 0;left: 50%;z-index: -1;}#sk-container-id-4 div.sk-parallel-item {display: flex;flex-direction: column;z-index: 1;position: relative;background-color: white;}#sk-container-id-4 div.sk-parallel-item:first-child::after {align-self: flex-end;width: 50%;}#sk-container-id-4 div.sk-parallel-item:last-child::after {align-self: flex-start;width: 50%;}#sk-container-id-4 div.sk-parallel-item:only-child::after {width: 0;}#sk-container-id-4 div.sk-dashed-wrapped {border: 1px dashed gray;margin: 0 0.4em 0.5em 0.4em;box-sizing: border-box;padding-bottom: 0.4em;background-color: white;}#sk-container-id-4 div.sk-label label {font-family: monospace;font-weight: bold;display: inline-block;line-height: 1.2em;}#sk-container-id-4 div.sk-label-container {text-align: center;}#sk-container-id-4 div.sk-container {/* jupyter's `normalize.less` sets `[hidden] { display: none; }` but bootstrap.min.css set `[hidden] { display: none !important; }` so we also need the `!important` here to be able to override the default hidden behavior on the sphinx rendered scikit-learn.org. See: https://github.com/scikit-learn/scikit-learn/issues/21755 */display: inline-block !important;position: relative;}#sk-container-id-4 div.sk-text-repr-fallback {display: none;}</style><div id=\"sk-container-id-4\" class=\"sk-top-container\"><div class=\"sk-text-repr-fallback\"><pre>GridSearchCV(cv=10, estimator=DecisionTreeRegressor(),\n",
       "             param_grid={&#x27;max_depth&#x27;: [3, 4, 5, 6, 7, 8, 9, 10, 11, 12, 13, 14,\n",
       "                                       15, 16, 17, 18, 19, 20, 21, 22, 23, 24,\n",
       "                                       25, 26, 27, 28, 29]})</pre><b>In a Jupyter environment, please rerun this cell to show the HTML representation or trust the notebook. <br />On GitHub, the HTML representation is unable to render, please try loading this page with nbviewer.org.</b></div><div class=\"sk-container\" hidden><div class=\"sk-item sk-dashed-wrapped\"><div class=\"sk-label-container\"><div class=\"sk-label sk-toggleable\"><input class=\"sk-toggleable__control sk-hidden--visually\" id=\"sk-estimator-id-10\" type=\"checkbox\" ><label for=\"sk-estimator-id-10\" class=\"sk-toggleable__label sk-toggleable__label-arrow\">GridSearchCV</label><div class=\"sk-toggleable__content\"><pre>GridSearchCV(cv=10, estimator=DecisionTreeRegressor(),\n",
       "             param_grid={&#x27;max_depth&#x27;: [3, 4, 5, 6, 7, 8, 9, 10, 11, 12, 13, 14,\n",
       "                                       15, 16, 17, 18, 19, 20, 21, 22, 23, 24,\n",
       "                                       25, 26, 27, 28, 29]})</pre></div></div></div><div class=\"sk-parallel\"><div class=\"sk-parallel-item\"><div class=\"sk-item\"><div class=\"sk-label-container\"><div class=\"sk-label sk-toggleable\"><input class=\"sk-toggleable__control sk-hidden--visually\" id=\"sk-estimator-id-11\" type=\"checkbox\" ><label for=\"sk-estimator-id-11\" class=\"sk-toggleable__label sk-toggleable__label-arrow\">estimator: DecisionTreeRegressor</label><div class=\"sk-toggleable__content\"><pre>DecisionTreeRegressor()</pre></div></div></div><div class=\"sk-serial\"><div class=\"sk-item\"><div class=\"sk-estimator sk-toggleable\"><input class=\"sk-toggleable__control sk-hidden--visually\" id=\"sk-estimator-id-12\" type=\"checkbox\" ><label for=\"sk-estimator-id-12\" class=\"sk-toggleable__label sk-toggleable__label-arrow\">DecisionTreeRegressor</label><div class=\"sk-toggleable__content\"><pre>DecisionTreeRegressor()</pre></div></div></div></div></div></div></div></div></div></div>"
      ],
      "text/plain": [
       "GridSearchCV(cv=10, estimator=DecisionTreeRegressor(),\n",
       "             param_grid={'max_depth': [3, 4, 5, 6, 7, 8, 9, 10, 11, 12, 13, 14,\n",
       "                                       15, 16, 17, 18, 19, 20, 21, 22, 23, 24,\n",
       "                                       25, 26, 27, 28, 29]})"
      ]
     },
     "execution_count": 148,
     "metadata": {},
     "output_type": "execute_result"
    }
   ],
   "source": [
    "depth  =list(range(3,30))\n",
    "param_grid =dict(max_depth =depth)\n",
    "tree =GridSearchCV(DecisionTreeRegressor(),param_grid,cv =10)\n",
    "tree.fit(X_train,y_train)"
   ]
  },
  {
   "cell_type": "code",
   "execution_count": 149,
   "id": "f1631367",
   "metadata": {},
   "outputs": [
    {
     "data": {
      "text/plain": [
       "{'max_depth': 16}"
      ]
     },
     "execution_count": 149,
     "metadata": {},
     "output_type": "execute_result"
    }
   ],
   "source": [
    "tree.best_params_"
   ]
  },
  {
   "cell_type": "code",
   "execution_count": 150,
   "id": "849395e7",
   "metadata": {},
   "outputs": [],
   "source": [
    "y_train_pred =tree.predict(X_train) ##Predict train result\n",
    "y_test_pred =tree.predict(X_test) ##Predict test result"
   ]
  },
  {
   "cell_type": "code",
   "execution_count": 151,
   "id": "0518e431",
   "metadata": {},
   "outputs": [
    {
     "name": "stdout",
     "output_type": "stream",
     "text": [
      "Train Results for Decision Tree Regressor Model:\n",
      "--------------------------------------------------\n",
      "Root mean squared error:  45.121454472082064\n",
      "R-squared:  0.9753181461281649\n"
     ]
    }
   ],
   "source": [
    "print(\"Train Results for Decision Tree Regressor Model:\")\n",
    "print(50 * '-')\n",
    "print(\"Root mean squared error: \", sqrt(mse(y_train.values, y_train_pred)))\n",
    "print(\"R-squared: \", r2_score(y_train.values, y_train_pred))"
   ]
  },
  {
   "cell_type": "code",
   "execution_count": 152,
   "id": "e3369858",
   "metadata": {},
   "outputs": [
    {
     "name": "stdout",
     "output_type": "stream",
     "text": [
      "Test Results for Decision Tree Regressor Model:\n",
      "--------------------------------------------------\n",
      "Root mean squared error:  125.28372294003171\n",
      "R-squared:  0.8045991771009052\n"
     ]
    }
   ],
   "source": [
    "print(\"Test Results for Decision Tree Regressor Model:\")\n",
    "print(50 * '-')\n",
    "print(\"Root mean squared error: \", sqrt(mse(y_test, y_test_pred)))\n",
    "print(\"R-squared: \", r2_score(y_test, y_test_pred))"
   ]
  },
  {
   "cell_type": "code",
   "execution_count": 153,
   "id": "809920e4",
   "metadata": {},
   "outputs": [],
   "source": [
    "model_comparison[\"Desicion Tree Regressor\"]=[round(sqrt(mse(y_test, y_test_pred)),2),round(r2_score(y_test, y_test_pred),2)]"
   ]
  },
  {
   "cell_type": "markdown",
   "id": "47c61481",
   "metadata": {},
   "source": [
    "### 5) Random Forest Regressor"
   ]
  },
  {
   "cell_type": "code",
   "execution_count": null,
   "id": "f2483425",
   "metadata": {},
   "outputs": [],
   "source": [
    "tuned_params = {'n_estimators': [100, 200, 300, 400, 500], 'min_samples_split': [2, 5, 10], 'min_samples_leaf': [1, 2, 4]}\n",
    "random_regressor = RandomizedSearchCV(RandomForestRegressor(), tuned_params, n_iter = 20, scoring = 'neg_mean_absolute_error', cv = 5, n_jobs = -1)\n",
    "random_regressor.fit(X_train, y_train)"
   ]
  },
  {
   "cell_type": "code",
   "execution_count": null,
   "id": "13fcc3ce",
   "metadata": {},
   "outputs": [],
   "source": [
    "random_regressor.best_params_"
   ]
  },
  {
   "cell_type": "code",
   "execution_count": null,
   "id": "9c122d24",
   "metadata": {},
   "outputs": [],
   "source": [
    "y_train_pred = random_regressor.predict(X_train)\n",
    "y_test_pred = random_regressor.predict(X_test)"
   ]
  },
  {
   "cell_type": "code",
   "execution_count": null,
   "id": "a46189e1",
   "metadata": {},
   "outputs": [],
   "source": [
    "print(\"Train Results for Random Forest Regressor Model:\")\n",
    "print(50 * '-')\n",
    "print(\"Root mean squared error: \", sqrt(mse(y_train.values, y_train_pred)))\n",
    "print(\"R-squared: \", r2_score(y_train.values, y_train_pred))"
   ]
  },
  {
   "cell_type": "code",
   "execution_count": null,
   "id": "e4448bb7",
   "metadata": {},
   "outputs": [],
   "source": [
    "print(\"Test Results for Random Forest Regressor Model:\")\n",
    "print(50 * '-')\n",
    "print(\"Root mean squared error: \", sqrt(mse(y_test, y_test_pred)))\n",
    "print(\"R-squared: \", r2_score(y_test, y_test_pred))"
   ]
  },
  {
   "cell_type": "code",
   "execution_count": null,
   "id": "a5cd12db",
   "metadata": {},
   "outputs": [],
   "source": [
    "model_comparison[\"Random Forest Regressor\"]=[round(sqrt(mse(y_test, y_test_pred)),2),round(r2_score(y_test, y_test_pred),2)]"
   ]
  },
  {
   "cell_type": "markdown",
   "id": "d2742378",
   "metadata": {},
   "source": [
    "### 6) XGBoost Regressor"
   ]
  },
  {
   "cell_type": "code",
   "execution_count": null,
   "id": "d3f40e05",
   "metadata": {},
   "outputs": [],
   "source": [
    "tuned_params = {'max_depth': [1, 2, 3, 4, 5], 'learning_rate': [0.01, 0.05, 0.1], 'n_estimators': [100, 200, 300, 400, 500], 'reg_lambda': [0.001, 0.1, 1.0, 10.0, 100.0]}\n",
    "model = RandomizedSearchCV(XGBRegressor(), tuned_params, n_iter=20, scoring = 'neg_mean_absolute_error', cv=5, n_jobs=-1)\n",
    "model.fit(X_train, y_train)"
   ]
  },
  {
   "cell_type": "code",
   "execution_count": null,
   "id": "af74f906",
   "metadata": {},
   "outputs": [],
   "source": [
    "model.best_params_"
   ]
  },
  {
   "cell_type": "code",
   "execution_count": null,
   "id": "619cf2ca",
   "metadata": {},
   "outputs": [],
   "source": [
    "y_train_pred = model.predict(X_train)\n",
    "y_test_pred = model.predict(X_test)"
   ]
  },
  {
   "cell_type": "code",
   "execution_count": null,
   "id": "e4136c71",
   "metadata": {},
   "outputs": [],
   "source": [
    "print(\"Train Results for XGBoost Regressor Model:\")\n",
    "print(50 * '-')\n",
    "print(\"Root mean squared error: \", sqrt(mse(y_train.values, y_train_pred)))\n",
    "print(\"R-squared: \", r2_score(y_train.values, y_train_pred))"
   ]
  },
  {
   "cell_type": "code",
   "execution_count": null,
   "id": "85ca86a8",
   "metadata": {},
   "outputs": [],
   "source": [
    "print(\"Test Results for XGBoost Regressor Model:\")\n",
    "print(50 * '-')\n",
    "print(\"Root mean squared error: \", sqrt(mse(y_test, y_test_pred)))\n",
    "print(\"R-squared: \", r2_score(y_test, y_test_pred)"
   ]
  },
  {
   "cell_type": "code",
   "execution_count": null,
   "id": "53baccb4",
   "metadata": {},
   "outputs": [],
   "source": [
    "model_comparison[\"XGBoost  Regressor\"]=[round(sqrt(mse(y_test, y_test_pred)),2),round(r2_score(y_test, y_test_pred),2)]"
   ]
  },
  {
   "cell_type": "markdown",
   "id": "e3385aa1",
   "metadata": {},
   "source": [
    "## ML Algorithm Comparison"
   ]
  },
  {
   "cell_type": "code",
   "execution_count": null,
   "id": "d122642a",
   "metadata": {},
   "outputs": [],
   "source": [
    "df_comparison = pd.DataFrame.from_dict(model_comparison).T\n",
    "df_comparison.columns = ['MSE', 'R2 Score']\n",
    "df_comparison = df_comparison.sort_values('R2 Score', ascending=True)\n",
    "df_comparison.style.background_gradient(cmap='Blues')"
   ]
  },
  {
   "cell_type": "code",
   "execution_count": null,
   "id": "954e2214",
   "metadata": {},
   "outputs": [],
   "source": []
  },
  {
   "cell_type": "code",
   "execution_count": null,
   "id": "762cc095",
   "metadata": {},
   "outputs": [],
   "source": []
  },
  {
   "cell_type": "code",
   "execution_count": null,
   "id": "366aacd1",
   "metadata": {},
   "outputs": [],
   "source": []
  }
 ],
 "metadata": {
  "kernelspec": {
   "display_name": "Python 3 (ipykernel)",
   "language": "python",
   "name": "python3"
  },
  "language_info": {
   "codemirror_mode": {
    "name": "ipython",
    "version": 3
   },
   "file_extension": ".py",
   "mimetype": "text/x-python",
   "name": "python",
   "nbconvert_exporter": "python",
   "pygments_lexer": "ipython3",
   "version": "3.10.7"
  }
 },
 "nbformat": 4,
 "nbformat_minor": 5
}
