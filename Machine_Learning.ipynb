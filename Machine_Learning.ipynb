{
 "cells": [
  {
   "cell_type": "code",
   "execution_count": 73,
   "id": "12c3bc19",
   "metadata": {},
   "outputs": [],
   "source": [
    "import pandas as pd\n",
    "import numpy as np\n",
    "from numpy import mean\n",
    "from numpy import std\n",
    "\n",
    "import matplotlib.pyplot as plt\n",
    "\n",
    "from sklearn.model_selection import train_test_split\n",
    "\n",
    "from sklearn.preprocessing import StandardScaler\n",
    "\n",
    "from sklearn.metrics import mean_squared_error as mse\n",
    "from sklearn.metrics import r2_score\n",
    "from sklearn.metrics import confusion_matrix\n",
    "from sklearn.metrics import explained_variance_score\n",
    "\n",
    "from math import sqrt\n",
    "\n",
    "from sklearn.model_selection import GridSearchCV\n",
    "from sklearn.model_selection import RandomizedSearchCV\n",
    "\n",
    "from sklearn.neighbors import KNeighborsRegressor\n",
    "from sklearn.linear_model import Ridge\n",
    "from sklearn.linear_model import Lasso\n",
    "from sklearn.tree import DecisionTreeRegressor\n",
    "from sklearn.ensemble import RandomForestRegressor\n",
    "from sklearn.svm import SVR\n",
    "\n",
    "from xgboost import XGBRegressor\n"
   ]
  },
  {
   "cell_type": "code",
   "execution_count": 2,
   "id": "1488b012",
   "metadata": {},
   "outputs": [
    {
     "data": {
      "text/html": [
       "<div>\n",
       "<style scoped>\n",
       "    .dataframe tbody tr th:only-of-type {\n",
       "        vertical-align: middle;\n",
       "    }\n",
       "\n",
       "    .dataframe tbody tr th {\n",
       "        vertical-align: top;\n",
       "    }\n",
       "\n",
       "    .dataframe thead th {\n",
       "        text-align: right;\n",
       "    }\n",
       "</style>\n",
       "<table border=\"1\" class=\"dataframe\">\n",
       "  <thead>\n",
       "    <tr style=\"text-align: right;\">\n",
       "      <th></th>\n",
       "      <th>company</th>\n",
       "      <th>departure_airport</th>\n",
       "      <th>arrival_airport</th>\n",
       "      <th>departure_time</th>\n",
       "      <th>arrival_time</th>\n",
       "      <th>departure_date</th>\n",
       "      <th>price_try</th>\n",
       "      <th>departure_week_day</th>\n",
       "      <th>checked_week_day</th>\n",
       "      <th>departure_day</th>\n",
       "      <th>departure_month</th>\n",
       "      <th>remaining_day_to_flight</th>\n",
       "      <th>arrival_city</th>\n",
       "      <th>departure_airport_name</th>\n",
       "      <th>departure_hour</th>\n",
       "      <th>part_of_day</th>\n",
       "      <th>is_weekend</th>\n",
       "      <th>part_of_month</th>\n",
       "      <th>duration(min)</th>\n",
       "    </tr>\n",
       "  </thead>\n",
       "  <tbody>\n",
       "    <tr>\n",
       "      <th>0</th>\n",
       "      <td>AnadoluJet</td>\n",
       "      <td>SAW</td>\n",
       "      <td>ADB</td>\n",
       "      <td>07:30:00</td>\n",
       "      <td>08:40:00</td>\n",
       "      <td>2022-11-14</td>\n",
       "      <td>506.99</td>\n",
       "      <td>Monday</td>\n",
       "      <td>Tuesday</td>\n",
       "      <td>14</td>\n",
       "      <td>11</td>\n",
       "      <td>13</td>\n",
       "      <td>Izmir</td>\n",
       "      <td>Sabiha Gökçen Airport</td>\n",
       "      <td>7</td>\n",
       "      <td>Early Morning</td>\n",
       "      <td>Weekday</td>\n",
       "      <td>Middle</td>\n",
       "      <td>70</td>\n",
       "    </tr>\n",
       "    <tr>\n",
       "      <th>1</th>\n",
       "      <td>AnadoluJet</td>\n",
       "      <td>SAW</td>\n",
       "      <td>ADB</td>\n",
       "      <td>09:20:00</td>\n",
       "      <td>10:30:00</td>\n",
       "      <td>2022-11-14</td>\n",
       "      <td>506.99</td>\n",
       "      <td>Monday</td>\n",
       "      <td>Tuesday</td>\n",
       "      <td>14</td>\n",
       "      <td>11</td>\n",
       "      <td>13</td>\n",
       "      <td>Izmir</td>\n",
       "      <td>Sabiha Gökçen Airport</td>\n",
       "      <td>9</td>\n",
       "      <td>Morning</td>\n",
       "      <td>Weekday</td>\n",
       "      <td>Middle</td>\n",
       "      <td>70</td>\n",
       "    </tr>\n",
       "    <tr>\n",
       "      <th>2</th>\n",
       "      <td>AnadoluJet</td>\n",
       "      <td>SAW</td>\n",
       "      <td>ADB</td>\n",
       "      <td>20:55:00</td>\n",
       "      <td>22:05:00</td>\n",
       "      <td>2022-11-14</td>\n",
       "      <td>506.99</td>\n",
       "      <td>Monday</td>\n",
       "      <td>Tuesday</td>\n",
       "      <td>14</td>\n",
       "      <td>11</td>\n",
       "      <td>13</td>\n",
       "      <td>Izmir</td>\n",
       "      <td>Sabiha Gökçen Airport</td>\n",
       "      <td>20</td>\n",
       "      <td>Evening</td>\n",
       "      <td>Weekday</td>\n",
       "      <td>Middle</td>\n",
       "      <td>70</td>\n",
       "    </tr>\n",
       "    <tr>\n",
       "      <th>3</th>\n",
       "      <td>Pegasus</td>\n",
       "      <td>SAW</td>\n",
       "      <td>ADB</td>\n",
       "      <td>23:35:00</td>\n",
       "      <td>00:45:00</td>\n",
       "      <td>2022-11-14</td>\n",
       "      <td>539.99</td>\n",
       "      <td>Monday</td>\n",
       "      <td>Tuesday</td>\n",
       "      <td>14</td>\n",
       "      <td>11</td>\n",
       "      <td>13</td>\n",
       "      <td>Izmir</td>\n",
       "      <td>Sabiha Gökçen Airport</td>\n",
       "      <td>23</td>\n",
       "      <td>Night</td>\n",
       "      <td>Weekday</td>\n",
       "      <td>Middle</td>\n",
       "      <td>70</td>\n",
       "    </tr>\n",
       "    <tr>\n",
       "      <th>4</th>\n",
       "      <td>Pegasus</td>\n",
       "      <td>SAW</td>\n",
       "      <td>ADB</td>\n",
       "      <td>09:10:00</td>\n",
       "      <td>10:20:00</td>\n",
       "      <td>2022-11-14</td>\n",
       "      <td>542.99</td>\n",
       "      <td>Monday</td>\n",
       "      <td>Tuesday</td>\n",
       "      <td>14</td>\n",
       "      <td>11</td>\n",
       "      <td>13</td>\n",
       "      <td>Izmir</td>\n",
       "      <td>Sabiha Gökçen Airport</td>\n",
       "      <td>9</td>\n",
       "      <td>Morning</td>\n",
       "      <td>Weekday</td>\n",
       "      <td>Middle</td>\n",
       "      <td>70</td>\n",
       "    </tr>\n",
       "  </tbody>\n",
       "</table>\n",
       "</div>"
      ],
      "text/plain": [
       "      company departure_airport arrival_airport departure_time arrival_time  \\\n",
       "0  AnadoluJet               SAW             ADB       07:30:00     08:40:00   \n",
       "1  AnadoluJet               SAW             ADB       09:20:00     10:30:00   \n",
       "2  AnadoluJet               SAW             ADB       20:55:00     22:05:00   \n",
       "3     Pegasus               SAW             ADB       23:35:00     00:45:00   \n",
       "4     Pegasus               SAW             ADB       09:10:00     10:20:00   \n",
       "\n",
       "  departure_date  price_try departure_week_day checked_week_day  \\\n",
       "0     2022-11-14     506.99             Monday          Tuesday   \n",
       "1     2022-11-14     506.99             Monday          Tuesday   \n",
       "2     2022-11-14     506.99             Monday          Tuesday   \n",
       "3     2022-11-14     539.99             Monday          Tuesday   \n",
       "4     2022-11-14     542.99             Monday          Tuesday   \n",
       "\n",
       "   departure_day  departure_month  remaining_day_to_flight arrival_city  \\\n",
       "0             14               11                       13        Izmir   \n",
       "1             14               11                       13        Izmir   \n",
       "2             14               11                       13        Izmir   \n",
       "3             14               11                       13        Izmir   \n",
       "4             14               11                       13        Izmir   \n",
       "\n",
       "  departure_airport_name  departure_hour    part_of_day is_weekend  \\\n",
       "0  Sabiha Gökçen Airport               7  Early Morning    Weekday   \n",
       "1  Sabiha Gökçen Airport               9        Morning    Weekday   \n",
       "2  Sabiha Gökçen Airport              20        Evening    Weekday   \n",
       "3  Sabiha Gökçen Airport              23          Night    Weekday   \n",
       "4  Sabiha Gökçen Airport               9        Morning    Weekday   \n",
       "\n",
       "  part_of_month  duration(min)  \n",
       "0        Middle             70  \n",
       "1        Middle             70  \n",
       "2        Middle             70  \n",
       "3        Middle             70  \n",
       "4        Middle             70  "
      ]
     },
     "execution_count": 2,
     "metadata": {},
     "output_type": "execute_result"
    }
   ],
   "source": [
    "df=pd.read_csv(r'C:\\Users\\kogla\\OneDrive\\SWE599-Flight-Ticket-Price-Estimation-Project\\merged.csv').drop(\"Unnamed: 0\", axis=1)\n",
    "df.head()"
   ]
  },
  {
   "cell_type": "code",
   "execution_count": 3,
   "id": "40cce7ae",
   "metadata": {},
   "outputs": [],
   "source": [
    "df=df.drop(['departure_airport', 'arrival_airport', 'departure_date','departure_time', 'arrival_time'], axis=1)"
   ]
  },
  {
   "cell_type": "code",
   "execution_count": 4,
   "id": "387c19dc",
   "metadata": {},
   "outputs": [
    {
     "name": "stdout",
     "output_type": "stream",
     "text": [
      "<class 'pandas.core.frame.DataFrame'>\n",
      "RangeIndex: 129513 entries, 0 to 129512\n",
      "Data columns (total 14 columns):\n",
      " #   Column                   Non-Null Count   Dtype   \n",
      "---  ------                   --------------   -----   \n",
      " 0   company                  129513 non-null  category\n",
      " 1   price_try                129513 non-null  int64   \n",
      " 2   departure_week_day       129513 non-null  category\n",
      " 3   checked_week_day         129513 non-null  category\n",
      " 4   departure_day            129513 non-null  int64   \n",
      " 5   departure_month          129513 non-null  int64   \n",
      " 6   remaining_day_to_flight  129513 non-null  int64   \n",
      " 7   arrival_city             129513 non-null  category\n",
      " 8   departure_airport_name   129513 non-null  category\n",
      " 9   departure_hour           129513 non-null  int64   \n",
      " 10  part_of_day              129513 non-null  category\n",
      " 11  is_weekend               129513 non-null  category\n",
      " 12  part_of_month            129513 non-null  category\n",
      " 13  duration(min)            129513 non-null  int64   \n",
      "dtypes: category(8), int64(6)\n",
      "memory usage: 6.9 MB\n"
     ]
    }
   ],
   "source": [
    "df['company'] = df.company.astype('category')\n",
    "df['departure_airport_name'] = df.departure_airport_name.astype('category')\n",
    "df['arrival_city'] = df.arrival_city.astype('category')\n",
    "df['part_of_day'] = df.part_of_day.astype('category')\n",
    "df['departure_week_day'] = df.departure_week_day.astype('category')\n",
    "df['part_of_month'] = df.part_of_month.astype('category')\n",
    "df['is_weekend'] = df.is_weekend.astype('category')\n",
    "df['checked_week_day'] = df.checked_week_day.astype('category')\n",
    "df[\"price_try\"] = df[\"price_try\"].astype(\"int64\")\n",
    "\n",
    "df.info()"
   ]
  },
  {
   "cell_type": "code",
   "execution_count": 5,
   "id": "54d4ab17",
   "metadata": {},
   "outputs": [
    {
     "data": {
      "text/html": [
       "<div>\n",
       "<style scoped>\n",
       "    .dataframe tbody tr th:only-of-type {\n",
       "        vertical-align: middle;\n",
       "    }\n",
       "\n",
       "    .dataframe tbody tr th {\n",
       "        vertical-align: top;\n",
       "    }\n",
       "\n",
       "    .dataframe thead th {\n",
       "        text-align: right;\n",
       "    }\n",
       "</style>\n",
       "<table border=\"1\" class=\"dataframe\">\n",
       "  <thead>\n",
       "    <tr style=\"text-align: right;\">\n",
       "      <th></th>\n",
       "      <th>company</th>\n",
       "      <th>price_try</th>\n",
       "      <th>departure_week_day</th>\n",
       "      <th>checked_week_day</th>\n",
       "      <th>departure_day</th>\n",
       "      <th>departure_month</th>\n",
       "      <th>remaining_day_to_flight</th>\n",
       "      <th>arrival_city</th>\n",
       "      <th>departure_airport_name</th>\n",
       "      <th>departure_hour</th>\n",
       "      <th>part_of_day</th>\n",
       "      <th>is_weekend</th>\n",
       "      <th>part_of_month</th>\n",
       "      <th>duration(min)</th>\n",
       "    </tr>\n",
       "  </thead>\n",
       "  <tbody>\n",
       "    <tr>\n",
       "      <th>0</th>\n",
       "      <td>AnadoluJet</td>\n",
       "      <td>506</td>\n",
       "      <td>Monday</td>\n",
       "      <td>Tuesday</td>\n",
       "      <td>14</td>\n",
       "      <td>11</td>\n",
       "      <td>13</td>\n",
       "      <td>Izmir</td>\n",
       "      <td>Sabiha Gökçen Airport</td>\n",
       "      <td>7</td>\n",
       "      <td>Early Morning</td>\n",
       "      <td>Weekday</td>\n",
       "      <td>Middle</td>\n",
       "      <td>70</td>\n",
       "    </tr>\n",
       "    <tr>\n",
       "      <th>1</th>\n",
       "      <td>AnadoluJet</td>\n",
       "      <td>506</td>\n",
       "      <td>Monday</td>\n",
       "      <td>Tuesday</td>\n",
       "      <td>14</td>\n",
       "      <td>11</td>\n",
       "      <td>13</td>\n",
       "      <td>Izmir</td>\n",
       "      <td>Sabiha Gökçen Airport</td>\n",
       "      <td>9</td>\n",
       "      <td>Morning</td>\n",
       "      <td>Weekday</td>\n",
       "      <td>Middle</td>\n",
       "      <td>70</td>\n",
       "    </tr>\n",
       "    <tr>\n",
       "      <th>2</th>\n",
       "      <td>AnadoluJet</td>\n",
       "      <td>506</td>\n",
       "      <td>Monday</td>\n",
       "      <td>Tuesday</td>\n",
       "      <td>14</td>\n",
       "      <td>11</td>\n",
       "      <td>13</td>\n",
       "      <td>Izmir</td>\n",
       "      <td>Sabiha Gökçen Airport</td>\n",
       "      <td>20</td>\n",
       "      <td>Evening</td>\n",
       "      <td>Weekday</td>\n",
       "      <td>Middle</td>\n",
       "      <td>70</td>\n",
       "    </tr>\n",
       "    <tr>\n",
       "      <th>3</th>\n",
       "      <td>Pegasus</td>\n",
       "      <td>539</td>\n",
       "      <td>Monday</td>\n",
       "      <td>Tuesday</td>\n",
       "      <td>14</td>\n",
       "      <td>11</td>\n",
       "      <td>13</td>\n",
       "      <td>Izmir</td>\n",
       "      <td>Sabiha Gökçen Airport</td>\n",
       "      <td>23</td>\n",
       "      <td>Night</td>\n",
       "      <td>Weekday</td>\n",
       "      <td>Middle</td>\n",
       "      <td>70</td>\n",
       "    </tr>\n",
       "    <tr>\n",
       "      <th>4</th>\n",
       "      <td>Pegasus</td>\n",
       "      <td>542</td>\n",
       "      <td>Monday</td>\n",
       "      <td>Tuesday</td>\n",
       "      <td>14</td>\n",
       "      <td>11</td>\n",
       "      <td>13</td>\n",
       "      <td>Izmir</td>\n",
       "      <td>Sabiha Gökçen Airport</td>\n",
       "      <td>9</td>\n",
       "      <td>Morning</td>\n",
       "      <td>Weekday</td>\n",
       "      <td>Middle</td>\n",
       "      <td>70</td>\n",
       "    </tr>\n",
       "  </tbody>\n",
       "</table>\n",
       "</div>"
      ],
      "text/plain": [
       "      company  price_try departure_week_day checked_week_day  departure_day  \\\n",
       "0  AnadoluJet        506             Monday          Tuesday             14   \n",
       "1  AnadoluJet        506             Monday          Tuesday             14   \n",
       "2  AnadoluJet        506             Monday          Tuesday             14   \n",
       "3     Pegasus        539             Monday          Tuesday             14   \n",
       "4     Pegasus        542             Monday          Tuesday             14   \n",
       "\n",
       "   departure_month  remaining_day_to_flight arrival_city  \\\n",
       "0               11                       13        Izmir   \n",
       "1               11                       13        Izmir   \n",
       "2               11                       13        Izmir   \n",
       "3               11                       13        Izmir   \n",
       "4               11                       13        Izmir   \n",
       "\n",
       "  departure_airport_name  departure_hour    part_of_day is_weekend  \\\n",
       "0  Sabiha Gökçen Airport               7  Early Morning    Weekday   \n",
       "1  Sabiha Gökçen Airport               9        Morning    Weekday   \n",
       "2  Sabiha Gökçen Airport              20        Evening    Weekday   \n",
       "3  Sabiha Gökçen Airport              23          Night    Weekday   \n",
       "4  Sabiha Gökçen Airport               9        Morning    Weekday   \n",
       "\n",
       "  part_of_month  duration(min)  \n",
       "0        Middle             70  \n",
       "1        Middle             70  \n",
       "2        Middle             70  \n",
       "3        Middle             70  \n",
       "4        Middle             70  "
      ]
     },
     "execution_count": 5,
     "metadata": {},
     "output_type": "execute_result"
    }
   ],
   "source": [
    "df.head()"
   ]
  },
  {
   "cell_type": "code",
   "execution_count": 6,
   "id": "6a66a552",
   "metadata": {},
   "outputs": [
    {
     "data": {
      "text/plain": [
       "count    129513.000000\n",
       "mean        874.649935\n",
       "std         286.457553\n",
       "min         432.000000\n",
       "25%         734.000000\n",
       "50%         869.000000\n",
       "75%        1006.000000\n",
       "max        4258.000000\n",
       "Name: price_try, dtype: float64"
      ]
     },
     "execution_count": 6,
     "metadata": {},
     "output_type": "execute_result"
    }
   ],
   "source": [
    "df[\"price_try\"].describe()"
   ]
  },
  {
   "cell_type": "code",
   "execution_count": 7,
   "id": "5521f26a",
   "metadata": {},
   "outputs": [],
   "source": [
    "categorical_cols = df.select_dtypes(include=['category']).columns.to_list()"
   ]
  },
  {
   "cell_type": "code",
   "execution_count": 8,
   "id": "55501ea0",
   "metadata": {},
   "outputs": [],
   "source": [
    "dummies_data = pd.get_dummies(df[categorical_cols])\n",
    "df_updated = pd.concat([df.drop(categorical_cols, axis=1), dummies_data], axis=1)"
   ]
  },
  {
   "cell_type": "code",
   "execution_count": 9,
   "id": "270639c5",
   "metadata": {},
   "outputs": [
    {
     "data": {
      "text/html": [
       "<div>\n",
       "<style scoped>\n",
       "    .dataframe tbody tr th:only-of-type {\n",
       "        vertical-align: middle;\n",
       "    }\n",
       "\n",
       "    .dataframe tbody tr th {\n",
       "        vertical-align: top;\n",
       "    }\n",
       "\n",
       "    .dataframe thead th {\n",
       "        text-align: right;\n",
       "    }\n",
       "</style>\n",
       "<table border=\"1\" class=\"dataframe\">\n",
       "  <thead>\n",
       "    <tr style=\"text-align: right;\">\n",
       "      <th></th>\n",
       "      <th>price_try</th>\n",
       "      <th>departure_day</th>\n",
       "      <th>departure_month</th>\n",
       "      <th>remaining_day_to_flight</th>\n",
       "      <th>departure_hour</th>\n",
       "      <th>duration(min)</th>\n",
       "      <th>company_AnadoluJet</th>\n",
       "      <th>company_Pegasus</th>\n",
       "      <th>company_Türk Hava Yolları</th>\n",
       "      <th>departure_week_day_Friday</th>\n",
       "      <th>...</th>\n",
       "      <th>part_of_day_Evening</th>\n",
       "      <th>part_of_day_Late Night</th>\n",
       "      <th>part_of_day_Morning</th>\n",
       "      <th>part_of_day_Night</th>\n",
       "      <th>part_of_day_Noon</th>\n",
       "      <th>is_weekend_Weekday</th>\n",
       "      <th>is_weekend_Weekend</th>\n",
       "      <th>part_of_month_Beginning</th>\n",
       "      <th>part_of_month_End</th>\n",
       "      <th>part_of_month_Middle</th>\n",
       "    </tr>\n",
       "  </thead>\n",
       "  <tbody>\n",
       "    <tr>\n",
       "      <th>0</th>\n",
       "      <td>506</td>\n",
       "      <td>14</td>\n",
       "      <td>11</td>\n",
       "      <td>13</td>\n",
       "      <td>7</td>\n",
       "      <td>70</td>\n",
       "      <td>1</td>\n",
       "      <td>0</td>\n",
       "      <td>0</td>\n",
       "      <td>0</td>\n",
       "      <td>...</td>\n",
       "      <td>0</td>\n",
       "      <td>0</td>\n",
       "      <td>0</td>\n",
       "      <td>0</td>\n",
       "      <td>0</td>\n",
       "      <td>1</td>\n",
       "      <td>0</td>\n",
       "      <td>0</td>\n",
       "      <td>0</td>\n",
       "      <td>1</td>\n",
       "    </tr>\n",
       "    <tr>\n",
       "      <th>1</th>\n",
       "      <td>506</td>\n",
       "      <td>14</td>\n",
       "      <td>11</td>\n",
       "      <td>13</td>\n",
       "      <td>9</td>\n",
       "      <td>70</td>\n",
       "      <td>1</td>\n",
       "      <td>0</td>\n",
       "      <td>0</td>\n",
       "      <td>0</td>\n",
       "      <td>...</td>\n",
       "      <td>0</td>\n",
       "      <td>0</td>\n",
       "      <td>1</td>\n",
       "      <td>0</td>\n",
       "      <td>0</td>\n",
       "      <td>1</td>\n",
       "      <td>0</td>\n",
       "      <td>0</td>\n",
       "      <td>0</td>\n",
       "      <td>1</td>\n",
       "    </tr>\n",
       "    <tr>\n",
       "      <th>2</th>\n",
       "      <td>506</td>\n",
       "      <td>14</td>\n",
       "      <td>11</td>\n",
       "      <td>13</td>\n",
       "      <td>20</td>\n",
       "      <td>70</td>\n",
       "      <td>1</td>\n",
       "      <td>0</td>\n",
       "      <td>0</td>\n",
       "      <td>0</td>\n",
       "      <td>...</td>\n",
       "      <td>1</td>\n",
       "      <td>0</td>\n",
       "      <td>0</td>\n",
       "      <td>0</td>\n",
       "      <td>0</td>\n",
       "      <td>1</td>\n",
       "      <td>0</td>\n",
       "      <td>0</td>\n",
       "      <td>0</td>\n",
       "      <td>1</td>\n",
       "    </tr>\n",
       "    <tr>\n",
       "      <th>3</th>\n",
       "      <td>539</td>\n",
       "      <td>14</td>\n",
       "      <td>11</td>\n",
       "      <td>13</td>\n",
       "      <td>23</td>\n",
       "      <td>70</td>\n",
       "      <td>0</td>\n",
       "      <td>1</td>\n",
       "      <td>0</td>\n",
       "      <td>0</td>\n",
       "      <td>...</td>\n",
       "      <td>0</td>\n",
       "      <td>0</td>\n",
       "      <td>0</td>\n",
       "      <td>1</td>\n",
       "      <td>0</td>\n",
       "      <td>1</td>\n",
       "      <td>0</td>\n",
       "      <td>0</td>\n",
       "      <td>0</td>\n",
       "      <td>1</td>\n",
       "    </tr>\n",
       "    <tr>\n",
       "      <th>4</th>\n",
       "      <td>542</td>\n",
       "      <td>14</td>\n",
       "      <td>11</td>\n",
       "      <td>13</td>\n",
       "      <td>9</td>\n",
       "      <td>70</td>\n",
       "      <td>0</td>\n",
       "      <td>1</td>\n",
       "      <td>0</td>\n",
       "      <td>0</td>\n",
       "      <td>...</td>\n",
       "      <td>0</td>\n",
       "      <td>0</td>\n",
       "      <td>1</td>\n",
       "      <td>0</td>\n",
       "      <td>0</td>\n",
       "      <td>1</td>\n",
       "      <td>0</td>\n",
       "      <td>0</td>\n",
       "      <td>0</td>\n",
       "      <td>1</td>\n",
       "    </tr>\n",
       "  </tbody>\n",
       "</table>\n",
       "<p>5 rows × 49 columns</p>\n",
       "</div>"
      ],
      "text/plain": [
       "   price_try  departure_day  departure_month  remaining_day_to_flight  \\\n",
       "0        506             14               11                       13   \n",
       "1        506             14               11                       13   \n",
       "2        506             14               11                       13   \n",
       "3        539             14               11                       13   \n",
       "4        542             14               11                       13   \n",
       "\n",
       "   departure_hour  duration(min)  company_AnadoluJet  company_Pegasus  \\\n",
       "0               7             70                   1                0   \n",
       "1               9             70                   1                0   \n",
       "2              20             70                   1                0   \n",
       "3              23             70                   0                1   \n",
       "4               9             70                   0                1   \n",
       "\n",
       "   company_Türk Hava Yolları  departure_week_day_Friday  ...  \\\n",
       "0                          0                          0  ...   \n",
       "1                          0                          0  ...   \n",
       "2                          0                          0  ...   \n",
       "3                          0                          0  ...   \n",
       "4                          0                          0  ...   \n",
       "\n",
       "   part_of_day_Evening  part_of_day_Late Night  part_of_day_Morning  \\\n",
       "0                    0                       0                    0   \n",
       "1                    0                       0                    1   \n",
       "2                    1                       0                    0   \n",
       "3                    0                       0                    0   \n",
       "4                    0                       0                    1   \n",
       "\n",
       "   part_of_day_Night  part_of_day_Noon  is_weekend_Weekday  \\\n",
       "0                  0                 0                   1   \n",
       "1                  0                 0                   1   \n",
       "2                  0                 0                   1   \n",
       "3                  1                 0                   1   \n",
       "4                  0                 0                   1   \n",
       "\n",
       "   is_weekend_Weekend  part_of_month_Beginning  part_of_month_End  \\\n",
       "0                   0                        0                  0   \n",
       "1                   0                        0                  0   \n",
       "2                   0                        0                  0   \n",
       "3                   0                        0                  0   \n",
       "4                   0                        0                  0   \n",
       "\n",
       "   part_of_month_Middle  \n",
       "0                     1  \n",
       "1                     1  \n",
       "2                     1  \n",
       "3                     1  \n",
       "4                     1  \n",
       "\n",
       "[5 rows x 49 columns]"
      ]
     },
     "execution_count": 9,
     "metadata": {},
     "output_type": "execute_result"
    }
   ],
   "source": [
    "df_updated.head()"
   ]
  },
  {
   "cell_type": "code",
   "execution_count": 10,
   "id": "f6ec6826",
   "metadata": {},
   "outputs": [
    {
     "data": {
      "text/plain": [
       "129513"
      ]
     },
     "execution_count": 10,
     "metadata": {},
     "output_type": "execute_result"
    }
   ],
   "source": [
    "df_updated.shape[0]"
   ]
  },
  {
   "cell_type": "code",
   "execution_count": 11,
   "id": "ef1fdbfd",
   "metadata": {},
   "outputs": [],
   "source": [
    "X = df_updated.drop(['price_try'], axis=1)\n",
    "\n",
    "y = df_updated['price_try']"
   ]
  },
  {
   "cell_type": "code",
   "execution_count": 12,
   "id": "5515ddd7",
   "metadata": {},
   "outputs": [],
   "source": [
    "scaler = StandardScaler()\n",
    "X_scaled = scaler.fit_transform(X)"
   ]
  },
  {
   "cell_type": "code",
   "execution_count": 13,
   "id": "d4dfdc8e",
   "metadata": {},
   "outputs": [],
   "source": [
    "y_log = np.log(y)"
   ]
  },
  {
   "cell_type": "code",
   "execution_count": 14,
   "id": "4998ef89",
   "metadata": {},
   "outputs": [],
   "source": [
    "X_train, X_test, y_train, y_test = train_test_split(X_scaled, y_log, test_size = 0.2, random_state = 0)"
   ]
  },
  {
   "cell_type": "code",
   "execution_count": 15,
   "id": "dc10f7b9",
   "metadata": {},
   "outputs": [
    {
     "data": {
      "text/plain": [
       "count    129513.000000\n",
       "mean        874.649935\n",
       "std         286.457553\n",
       "min         432.000000\n",
       "25%         734.000000\n",
       "50%         869.000000\n",
       "75%        1006.000000\n",
       "max        4258.000000\n",
       "Name: price_try, dtype: float64"
      ]
     },
     "execution_count": 15,
     "metadata": {},
     "output_type": "execute_result"
    }
   ],
   "source": [
    "df_updated.price_try.describe()"
   ]
  },
  {
   "cell_type": "code",
   "execution_count": 16,
   "id": "7d792e71",
   "metadata": {},
   "outputs": [],
   "source": [
    "def categorize(row):\n",
    "    if row <= 732:\n",
    "        return \"432-732\"\n",
    "    elif row <= 869:\n",
    "        return \"733-869\"\n",
    "    elif row <= 1006:\n",
    "        return \"870-1006\"\n",
    "    else:\n",
    "        return \"1007-4258\""
   ]
  },
  {
   "cell_type": "code",
   "execution_count": 17,
   "id": "ce57ddce",
   "metadata": {},
   "outputs": [],
   "source": [
    "model_comparison={}"
   ]
  },
  {
   "cell_type": "code",
   "execution_count": 189,
   "id": "291c7aaf",
   "metadata": {},
   "outputs": [],
   "source": [
    "optimization_comparison={}"
   ]
  },
  {
   "cell_type": "markdown",
   "id": "19b0202e",
   "metadata": {},
   "source": [
    "## MACHINE LEARNING ALGORITHMS"
   ]
  },
  {
   "cell_type": "markdown",
   "id": "1028b78e",
   "metadata": {},
   "source": [
    "### 1) KNN Regressor"
   ]
  },
  {
   "cell_type": "code",
   "execution_count": 18,
   "id": "c61ffd0b",
   "metadata": {},
   "outputs": [
    {
     "data": {
      "text/html": [
       "<style>#sk-container-id-1 {color: black;background-color: white;}#sk-container-id-1 pre{padding: 0;}#sk-container-id-1 div.sk-toggleable {background-color: white;}#sk-container-id-1 label.sk-toggleable__label {cursor: pointer;display: block;width: 100%;margin-bottom: 0;padding: 0.3em;box-sizing: border-box;text-align: center;}#sk-container-id-1 label.sk-toggleable__label-arrow:before {content: \"▸\";float: left;margin-right: 0.25em;color: #696969;}#sk-container-id-1 label.sk-toggleable__label-arrow:hover:before {color: black;}#sk-container-id-1 div.sk-estimator:hover label.sk-toggleable__label-arrow:before {color: black;}#sk-container-id-1 div.sk-toggleable__content {max-height: 0;max-width: 0;overflow: hidden;text-align: left;background-color: #f0f8ff;}#sk-container-id-1 div.sk-toggleable__content pre {margin: 0.2em;color: black;border-radius: 0.25em;background-color: #f0f8ff;}#sk-container-id-1 input.sk-toggleable__control:checked~div.sk-toggleable__content {max-height: 200px;max-width: 100%;overflow: auto;}#sk-container-id-1 input.sk-toggleable__control:checked~label.sk-toggleable__label-arrow:before {content: \"▾\";}#sk-container-id-1 div.sk-estimator input.sk-toggleable__control:checked~label.sk-toggleable__label {background-color: #d4ebff;}#sk-container-id-1 div.sk-label input.sk-toggleable__control:checked~label.sk-toggleable__label {background-color: #d4ebff;}#sk-container-id-1 input.sk-hidden--visually {border: 0;clip: rect(1px 1px 1px 1px);clip: rect(1px, 1px, 1px, 1px);height: 1px;margin: -1px;overflow: hidden;padding: 0;position: absolute;width: 1px;}#sk-container-id-1 div.sk-estimator {font-family: monospace;background-color: #f0f8ff;border: 1px dotted black;border-radius: 0.25em;box-sizing: border-box;margin-bottom: 0.5em;}#sk-container-id-1 div.sk-estimator:hover {background-color: #d4ebff;}#sk-container-id-1 div.sk-parallel-item::after {content: \"\";width: 100%;border-bottom: 1px solid gray;flex-grow: 1;}#sk-container-id-1 div.sk-label:hover label.sk-toggleable__label {background-color: #d4ebff;}#sk-container-id-1 div.sk-serial::before {content: \"\";position: absolute;border-left: 1px solid gray;box-sizing: border-box;top: 0;bottom: 0;left: 50%;z-index: 0;}#sk-container-id-1 div.sk-serial {display: flex;flex-direction: column;align-items: center;background-color: white;padding-right: 0.2em;padding-left: 0.2em;position: relative;}#sk-container-id-1 div.sk-item {position: relative;z-index: 1;}#sk-container-id-1 div.sk-parallel {display: flex;align-items: stretch;justify-content: center;background-color: white;position: relative;}#sk-container-id-1 div.sk-item::before, #sk-container-id-1 div.sk-parallel-item::before {content: \"\";position: absolute;border-left: 1px solid gray;box-sizing: border-box;top: 0;bottom: 0;left: 50%;z-index: -1;}#sk-container-id-1 div.sk-parallel-item {display: flex;flex-direction: column;z-index: 1;position: relative;background-color: white;}#sk-container-id-1 div.sk-parallel-item:first-child::after {align-self: flex-end;width: 50%;}#sk-container-id-1 div.sk-parallel-item:last-child::after {align-self: flex-start;width: 50%;}#sk-container-id-1 div.sk-parallel-item:only-child::after {width: 0;}#sk-container-id-1 div.sk-dashed-wrapped {border: 1px dashed gray;margin: 0 0.4em 0.5em 0.4em;box-sizing: border-box;padding-bottom: 0.4em;background-color: white;}#sk-container-id-1 div.sk-label label {font-family: monospace;font-weight: bold;display: inline-block;line-height: 1.2em;}#sk-container-id-1 div.sk-label-container {text-align: center;}#sk-container-id-1 div.sk-container {/* jupyter's `normalize.less` sets `[hidden] { display: none; }` but bootstrap.min.css set `[hidden] { display: none !important; }` so we also need the `!important` here to be able to override the default hidden behavior on the sphinx rendered scikit-learn.org. See: https://github.com/scikit-learn/scikit-learn/issues/21755 */display: inline-block !important;position: relative;}#sk-container-id-1 div.sk-text-repr-fallback {display: none;}</style><div id=\"sk-container-id-1\" class=\"sk-top-container\"><div class=\"sk-text-repr-fallback\"><pre>GridSearchCV(cv=10, estimator=KNeighborsRegressor(),\n",
       "             param_grid={&#x27;n_neighbors&#x27;: [10, 11, 12, 13, 14, 15, 16, 17, 18, 19,\n",
       "                                         20, 21, 22, 23, 24, 25, 26, 27, 28,\n",
       "                                         29]},\n",
       "             scoring=&#x27;neg_mean_squared_error&#x27;)</pre><b>In a Jupyter environment, please rerun this cell to show the HTML representation or trust the notebook. <br />On GitHub, the HTML representation is unable to render, please try loading this page with nbviewer.org.</b></div><div class=\"sk-container\" hidden><div class=\"sk-item sk-dashed-wrapped\"><div class=\"sk-label-container\"><div class=\"sk-label sk-toggleable\"><input class=\"sk-toggleable__control sk-hidden--visually\" id=\"sk-estimator-id-1\" type=\"checkbox\" ><label for=\"sk-estimator-id-1\" class=\"sk-toggleable__label sk-toggleable__label-arrow\">GridSearchCV</label><div class=\"sk-toggleable__content\"><pre>GridSearchCV(cv=10, estimator=KNeighborsRegressor(),\n",
       "             param_grid={&#x27;n_neighbors&#x27;: [10, 11, 12, 13, 14, 15, 16, 17, 18, 19,\n",
       "                                         20, 21, 22, 23, 24, 25, 26, 27, 28,\n",
       "                                         29]},\n",
       "             scoring=&#x27;neg_mean_squared_error&#x27;)</pre></div></div></div><div class=\"sk-parallel\"><div class=\"sk-parallel-item\"><div class=\"sk-item\"><div class=\"sk-label-container\"><div class=\"sk-label sk-toggleable\"><input class=\"sk-toggleable__control sk-hidden--visually\" id=\"sk-estimator-id-2\" type=\"checkbox\" ><label for=\"sk-estimator-id-2\" class=\"sk-toggleable__label sk-toggleable__label-arrow\">estimator: KNeighborsRegressor</label><div class=\"sk-toggleable__content\"><pre>KNeighborsRegressor()</pre></div></div></div><div class=\"sk-serial\"><div class=\"sk-item\"><div class=\"sk-estimator sk-toggleable\"><input class=\"sk-toggleable__control sk-hidden--visually\" id=\"sk-estimator-id-3\" type=\"checkbox\" ><label for=\"sk-estimator-id-3\" class=\"sk-toggleable__label sk-toggleable__label-arrow\">KNeighborsRegressor</label><div class=\"sk-toggleable__content\"><pre>KNeighborsRegressor()</pre></div></div></div></div></div></div></div></div></div></div>"
      ],
      "text/plain": [
       "GridSearchCV(cv=10, estimator=KNeighborsRegressor(),\n",
       "             param_grid={'n_neighbors': [10, 11, 12, 13, 14, 15, 16, 17, 18, 19,\n",
       "                                         20, 21, 22, 23, 24, 25, 26, 27, 28,\n",
       "                                         29]},\n",
       "             scoring='neg_mean_squared_error')"
      ]
     },
     "execution_count": 18,
     "metadata": {},
     "output_type": "execute_result"
    }
   ],
   "source": [
    "k_range = list(range(10, 30))\n",
    "params = dict(n_neighbors = k_range)\n",
    "knn_regressor = GridSearchCV(KNeighborsRegressor(), params, cv = 10, scoring = 'neg_mean_squared_error')\n",
    "knn_regressor.fit(X_train, y_train)"
   ]
  },
  {
   "cell_type": "code",
   "execution_count": 69,
   "id": "337dcca9",
   "metadata": {},
   "outputs": [
    {
     "data": {
      "text/plain": [
       "{'n_neighbors': 27}"
      ]
     },
     "execution_count": 69,
     "metadata": {},
     "output_type": "execute_result"
    }
   ],
   "source": [
    "knn_regressor.best_params_"
   ]
  },
  {
   "cell_type": "code",
   "execution_count": 133,
   "id": "f6140dbd",
   "metadata": {},
   "outputs": [],
   "source": [
    "y_train_pred =knn_regressor.predict(X_train) ##Predict train result\n",
    "y_test_pred =knn_regressor.predict(X_test) ##Predict test result"
   ]
  },
  {
   "cell_type": "code",
   "execution_count": 134,
   "id": "25b6fb9b",
   "metadata": {},
   "outputs": [
    {
     "name": "stdout",
     "output_type": "stream",
     "text": [
      "Train Results for KNN Regressor Model:\n",
      "--------------------------------------------------\n",
      "Root Mean Squared Error (RMSE):  0.11\n",
      "R-squared:  0.85\n",
      "Explained Variance Score: 0.85\n"
     ]
    }
   ],
   "source": [
    "print(\"Train Results for KNN Regressor Model:\")\n",
    "print(50 * '-')\n",
    "print(\"Root Mean Squared Error (RMSE): \", round(sqrt(mse(y_train.values, y_train_pred)),2))\n",
    "print(\"R-squared: \", round(r2_score(y_train.values, y_train_pred),2))\n",
    "print(\"Explained Variance Score:\", round(explained_variance_score(y_train.values, y_train_pred),2))"
   ]
  },
  {
   "cell_type": "code",
   "execution_count": 135,
   "id": "8d54bc25",
   "metadata": {},
   "outputs": [
    {
     "name": "stdout",
     "output_type": "stream",
     "text": [
      "Test Results for KNN Regressor Model:\n",
      "--------------------------------------------------\n",
      "Root Mean Squared Error (RMSE):  0.11\n",
      "R-squared:  0.84\n",
      "Explained Variance Score: 0.84\n"
     ]
    }
   ],
   "source": [
    "print(\"Test Results for KNN Regressor Model:\")\n",
    "print(50 * '-')\n",
    "print(\"Root Mean Squared Error (RMSE): \", round(sqrt(mse(y_test, y_test_pred)),2))\n",
    "print(\"R-squared: \", round(r2_score(y_test, y_test_pred),2))\n",
    "print(\"Explained Variance Score:\", round(explained_variance_score(y_test, y_test_pred),2))"
   ]
  },
  {
   "cell_type": "code",
   "execution_count": 136,
   "id": "194a7e82",
   "metadata": {},
   "outputs": [],
   "source": [
    "model_comparison[\"KNN Regressor\"]=[round(sqrt(mse(y_test, y_test_pred)),2),round(r2_score(y_test, y_test_pred),2)]"
   ]
  },
  {
   "cell_type": "markdown",
   "id": "f868d433",
   "metadata": {},
   "source": [
    "RMSE of test > RMSE of train => OVER FITTING of the data.\n",
    "\n",
    "RMSE of test < RMSE of train => UNDER FITTING of the data.\n",
    "\n",
    "159.8 > 123.02 => OVER FITTING"
   ]
  },
  {
   "cell_type": "code",
   "execution_count": 88,
   "id": "5feff286",
   "metadata": {},
   "outputs": [
    {
     "data": {
      "image/png": "[encoded data removed]",
      "text/plain": [
       "<Figure size 640x480 with 1 Axes>"
      ]
     },
     "metadata": {},
     "output_type": "display_data"
    }
   ],
   "source": [
    "plt.scatter(y_test, y_test_pred)\n",
    "plt.xlabel('Actual values')\n",
    "plt.ylabel('Predicted values')\n",
    "plt.title('R\\u00B2 = %0.2f' % r2_score(y_test, y_test_pred))\n",
    "\n",
    "plt.plot(np.unique(y_test), np.poly1d(np.polyfit(y_test, y_test_pred, 1))(np.unique(y_test)), color=\"#34495E\")\n",
    "\n",
    "plt.show()"
   ]
  },
  {
   "cell_type": "markdown",
   "id": "ea0b7b09",
   "metadata": {},
   "source": [
    "### 2) Rigde Regressor"
   ]
  },
  {
   "cell_type": "code",
   "execution_count": 25,
   "id": "e73e1b45",
   "metadata": {},
   "outputs": [
    {
     "data": {
      "text/html": [
       "<style>#sk-container-id-2 {color: black;background-color: white;}#sk-container-id-2 pre{padding: 0;}#sk-container-id-2 div.sk-toggleable {background-color: white;}#sk-container-id-2 label.sk-toggleable__label {cursor: pointer;display: block;width: 100%;margin-bottom: 0;padding: 0.3em;box-sizing: border-box;text-align: center;}#sk-container-id-2 label.sk-toggleable__label-arrow:before {content: \"▸\";float: left;margin-right: 0.25em;color: #696969;}#sk-container-id-2 label.sk-toggleable__label-arrow:hover:before {color: black;}#sk-container-id-2 div.sk-estimator:hover label.sk-toggleable__label-arrow:before {color: black;}#sk-container-id-2 div.sk-toggleable__content {max-height: 0;max-width: 0;overflow: hidden;text-align: left;background-color: #f0f8ff;}#sk-container-id-2 div.sk-toggleable__content pre {margin: 0.2em;color: black;border-radius: 0.25em;background-color: #f0f8ff;}#sk-container-id-2 input.sk-toggleable__control:checked~div.sk-toggleable__content {max-height: 200px;max-width: 100%;overflow: auto;}#sk-container-id-2 input.sk-toggleable__control:checked~label.sk-toggleable__label-arrow:before {content: \"▾\";}#sk-container-id-2 div.sk-estimator input.sk-toggleable__control:checked~label.sk-toggleable__label {background-color: #d4ebff;}#sk-container-id-2 div.sk-label input.sk-toggleable__control:checked~label.sk-toggleable__label {background-color: #d4ebff;}#sk-container-id-2 input.sk-hidden--visually {border: 0;clip: rect(1px 1px 1px 1px);clip: rect(1px, 1px, 1px, 1px);height: 1px;margin: -1px;overflow: hidden;padding: 0;position: absolute;width: 1px;}#sk-container-id-2 div.sk-estimator {font-family: monospace;background-color: #f0f8ff;border: 1px dotted black;border-radius: 0.25em;box-sizing: border-box;margin-bottom: 0.5em;}#sk-container-id-2 div.sk-estimator:hover {background-color: #d4ebff;}#sk-container-id-2 div.sk-parallel-item::after {content: \"\";width: 100%;border-bottom: 1px solid gray;flex-grow: 1;}#sk-container-id-2 div.sk-label:hover label.sk-toggleable__label {background-color: #d4ebff;}#sk-container-id-2 div.sk-serial::before {content: \"\";position: absolute;border-left: 1px solid gray;box-sizing: border-box;top: 0;bottom: 0;left: 50%;z-index: 0;}#sk-container-id-2 div.sk-serial {display: flex;flex-direction: column;align-items: center;background-color: white;padding-right: 0.2em;padding-left: 0.2em;position: relative;}#sk-container-id-2 div.sk-item {position: relative;z-index: 1;}#sk-container-id-2 div.sk-parallel {display: flex;align-items: stretch;justify-content: center;background-color: white;position: relative;}#sk-container-id-2 div.sk-item::before, #sk-container-id-2 div.sk-parallel-item::before {content: \"\";position: absolute;border-left: 1px solid gray;box-sizing: border-box;top: 0;bottom: 0;left: 50%;z-index: -1;}#sk-container-id-2 div.sk-parallel-item {display: flex;flex-direction: column;z-index: 1;position: relative;background-color: white;}#sk-container-id-2 div.sk-parallel-item:first-child::after {align-self: flex-end;width: 50%;}#sk-container-id-2 div.sk-parallel-item:last-child::after {align-self: flex-start;width: 50%;}#sk-container-id-2 div.sk-parallel-item:only-child::after {width: 0;}#sk-container-id-2 div.sk-dashed-wrapped {border: 1px dashed gray;margin: 0 0.4em 0.5em 0.4em;box-sizing: border-box;padding-bottom: 0.4em;background-color: white;}#sk-container-id-2 div.sk-label label {font-family: monospace;font-weight: bold;display: inline-block;line-height: 1.2em;}#sk-container-id-2 div.sk-label-container {text-align: center;}#sk-container-id-2 div.sk-container {/* jupyter's `normalize.less` sets `[hidden] { display: none; }` but bootstrap.min.css set `[hidden] { display: none !important; }` so we also need the `!important` here to be able to override the default hidden behavior on the sphinx rendered scikit-learn.org. See: https://github.com/scikit-learn/scikit-learn/issues/21755 */display: inline-block !important;position: relative;}#sk-container-id-2 div.sk-text-repr-fallback {display: none;}</style><div id=\"sk-container-id-2\" class=\"sk-top-container\"><div class=\"sk-text-repr-fallback\"><pre>GridSearchCV(cv=5, estimator=Ridge(), n_jobs=-1,\n",
       "             param_grid={&#x27;alpha&#x27;: [0.001, 0.1, 1, 10, 100, 1000]},\n",
       "             scoring=&#x27;neg_mean_absolute_error&#x27;)</pre><b>In a Jupyter environment, please rerun this cell to show the HTML representation or trust the notebook. <br />On GitHub, the HTML representation is unable to render, please try loading this page with nbviewer.org.</b></div><div class=\"sk-container\" hidden><div class=\"sk-item sk-dashed-wrapped\"><div class=\"sk-label-container\"><div class=\"sk-label sk-toggleable\"><input class=\"sk-toggleable__control sk-hidden--visually\" id=\"sk-estimator-id-4\" type=\"checkbox\" ><label for=\"sk-estimator-id-4\" class=\"sk-toggleable__label sk-toggleable__label-arrow\">GridSearchCV</label><div class=\"sk-toggleable__content\"><pre>GridSearchCV(cv=5, estimator=Ridge(), n_jobs=-1,\n",
       "             param_grid={&#x27;alpha&#x27;: [0.001, 0.1, 1, 10, 100, 1000]},\n",
       "             scoring=&#x27;neg_mean_absolute_error&#x27;)</pre></div></div></div><div class=\"sk-parallel\"><div class=\"sk-parallel-item\"><div class=\"sk-item\"><div class=\"sk-label-container\"><div class=\"sk-label sk-toggleable\"><input class=\"sk-toggleable__control sk-hidden--visually\" id=\"sk-estimator-id-5\" type=\"checkbox\" ><label for=\"sk-estimator-id-5\" class=\"sk-toggleable__label sk-toggleable__label-arrow\">estimator: Ridge</label><div class=\"sk-toggleable__content\"><pre>Ridge()</pre></div></div></div><div class=\"sk-serial\"><div class=\"sk-item\"><div class=\"sk-estimator sk-toggleable\"><input class=\"sk-toggleable__control sk-hidden--visually\" id=\"sk-estimator-id-6\" type=\"checkbox\" ><label for=\"sk-estimator-id-6\" class=\"sk-toggleable__label sk-toggleable__label-arrow\">Ridge</label><div class=\"sk-toggleable__content\"><pre>Ridge()</pre></div></div></div></div></div></div></div></div></div></div>"
      ],
      "text/plain": [
       "GridSearchCV(cv=5, estimator=Ridge(), n_jobs=-1,\n",
       "             param_grid={'alpha': [0.001, 0.1, 1, 10, 100, 1000]},\n",
       "             scoring='neg_mean_absolute_error')"
      ]
     },
     "execution_count": 25,
     "metadata": {},
     "output_type": "execute_result"
    }
   ],
   "source": [
    "params ={'alpha' :[0.001, 0.1, 1, 10, 100, 1000]}\n",
    "ridge_regressor =GridSearchCV(Ridge(), params ,cv =5,scoring = 'neg_mean_absolute_error', n_jobs =-1)\n",
    "ridge_regressor.fit(X_train ,y_train)"
   ]
  },
  {
   "cell_type": "code",
   "execution_count": 92,
   "id": "2c724f55",
   "metadata": {},
   "outputs": [
    {
     "data": {
      "text/plain": [
       "{'alpha': 1000}"
      ]
     },
     "execution_count": 92,
     "metadata": {},
     "output_type": "execute_result"
    }
   ],
   "source": [
    "ridge_regressor.best_params_"
   ]
  },
  {
   "cell_type": "code",
   "execution_count": 137,
   "id": "3622576d",
   "metadata": {},
   "outputs": [],
   "source": [
    "y_train_pred =ridge_regressor.predict(X_train) ##Predict train result\n",
    "y_test_pred =ridge_regressor.predict(X_test) ##Predict test result"
   ]
  },
  {
   "cell_type": "code",
   "execution_count": 138,
   "id": "892237f5",
   "metadata": {},
   "outputs": [
    {
     "name": "stdout",
     "output_type": "stream",
     "text": [
      "Train Results for Ridge Regressor Model:\n",
      "--------------------------------------------------\n",
      "Root mean squared error:  0.16\n",
      "R-squared:  0.68\n",
      "Explained Variance Score: 0.68\n"
     ]
    }
   ],
   "source": [
    "print(\"Train Results for Ridge Regressor Model:\")\n",
    "print(50 * '-')\n",
    "print(\"Root mean squared error: \", round(sqrt(mse(y_train.values, y_train_pred)),2))\n",
    "print(\"R-squared: \", round(r2_score(y_train.values, y_train_pred),2))\n",
    "print(\"Explained Variance Score:\", round(explained_variance_score(y_train.values, y_train_pred),2))"
   ]
  },
  {
   "cell_type": "code",
   "execution_count": 139,
   "id": "eda4ee38",
   "metadata": {},
   "outputs": [
    {
     "name": "stdout",
     "output_type": "stream",
     "text": [
      "Test Results for Ridge Regressor Model:\n",
      "--------------------------------------------------\n",
      "Root mean squared error:  0.16\n",
      "R-squared:  0.68\n",
      "Explained Variance Score: 0.68\n"
     ]
    }
   ],
   "source": [
    "print(\"Test Results for Ridge Regressor Model:\")\n",
    "print(50 * '-')\n",
    "print(\"Root mean squared error: \", round(sqrt(mse(y_test, y_test_pred)),2))\n",
    "print(\"R-squared: \", round(r2_score(y_test, y_test_pred),2))\n",
    "print(\"Explained Variance Score:\", round(explained_variance_score(y_test, y_test_pred),2))"
   ]
  },
  {
   "cell_type": "code",
   "execution_count": 140,
   "id": "cfbd7c93",
   "metadata": {},
   "outputs": [],
   "source": [
    "model_comparison[\"Ridge Regressor\"]=[round(sqrt(mse(y_test, y_test_pred)),2),round(r2_score(y_test, y_test_pred),2)]"
   ]
  },
  {
   "cell_type": "code",
   "execution_count": 97,
   "id": "cd34bfdc",
   "metadata": {},
   "outputs": [
    {
     "data": {
      "image/png": "[encoded data removed]",
      "text/plain": [
       "<Figure size 640x480 with 1 Axes>"
      ]
     },
     "metadata": {},
     "output_type": "display_data"
    }
   ],
   "source": [
    "plt.scatter(y_test, y_test_pred)\n",
    "plt.xlabel('Actual values')\n",
    "plt.ylabel('Predicted values')\n",
    "plt.title('R\\u00B2 = %0.2f' % r2_score(y_test, y_test_pred))\n",
    "\n",
    "plt.plot(np.unique(y_test), np.poly1d(np.polyfit(y_test, y_test_pred, 1))(np.unique(y_test)), color=\"#34495E\")\n",
    "\n",
    "plt.show()"
   ]
  },
  {
   "cell_type": "markdown",
   "id": "dc0d5f4e",
   "metadata": {},
   "source": [
    "### 3) Lasso Regressor"
   ]
  },
  {
   "cell_type": "code",
   "execution_count": 32,
   "id": "d77d9e59",
   "metadata": {},
   "outputs": [
    {
     "data": {
      "text/html": [
       "<style>#sk-container-id-3 {color: black;background-color: white;}#sk-container-id-3 pre{padding: 0;}#sk-container-id-3 div.sk-toggleable {background-color: white;}#sk-container-id-3 label.sk-toggleable__label {cursor: pointer;display: block;width: 100%;margin-bottom: 0;padding: 0.3em;box-sizing: border-box;text-align: center;}#sk-container-id-3 label.sk-toggleable__label-arrow:before {content: \"▸\";float: left;margin-right: 0.25em;color: #696969;}#sk-container-id-3 label.sk-toggleable__label-arrow:hover:before {color: black;}#sk-container-id-3 div.sk-estimator:hover label.sk-toggleable__label-arrow:before {color: black;}#sk-container-id-3 div.sk-toggleable__content {max-height: 0;max-width: 0;overflow: hidden;text-align: left;background-color: #f0f8ff;}#sk-container-id-3 div.sk-toggleable__content pre {margin: 0.2em;color: black;border-radius: 0.25em;background-color: #f0f8ff;}#sk-container-id-3 input.sk-toggleable__control:checked~div.sk-toggleable__content {max-height: 200px;max-width: 100%;overflow: auto;}#sk-container-id-3 input.sk-toggleable__control:checked~label.sk-toggleable__label-arrow:before {content: \"▾\";}#sk-container-id-3 div.sk-estimator input.sk-toggleable__control:checked~label.sk-toggleable__label {background-color: #d4ebff;}#sk-container-id-3 div.sk-label input.sk-toggleable__control:checked~label.sk-toggleable__label {background-color: #d4ebff;}#sk-container-id-3 input.sk-hidden--visually {border: 0;clip: rect(1px 1px 1px 1px);clip: rect(1px, 1px, 1px, 1px);height: 1px;margin: -1px;overflow: hidden;padding: 0;position: absolute;width: 1px;}#sk-container-id-3 div.sk-estimator {font-family: monospace;background-color: #f0f8ff;border: 1px dotted black;border-radius: 0.25em;box-sizing: border-box;margin-bottom: 0.5em;}#sk-container-id-3 div.sk-estimator:hover {background-color: #d4ebff;}#sk-container-id-3 div.sk-parallel-item::after {content: \"\";width: 100%;border-bottom: 1px solid gray;flex-grow: 1;}#sk-container-id-3 div.sk-label:hover label.sk-toggleable__label {background-color: #d4ebff;}#sk-container-id-3 div.sk-serial::before {content: \"\";position: absolute;border-left: 1px solid gray;box-sizing: border-box;top: 0;bottom: 0;left: 50%;z-index: 0;}#sk-container-id-3 div.sk-serial {display: flex;flex-direction: column;align-items: center;background-color: white;padding-right: 0.2em;padding-left: 0.2em;position: relative;}#sk-container-id-3 div.sk-item {position: relative;z-index: 1;}#sk-container-id-3 div.sk-parallel {display: flex;align-items: stretch;justify-content: center;background-color: white;position: relative;}#sk-container-id-3 div.sk-item::before, #sk-container-id-3 div.sk-parallel-item::before {content: \"\";position: absolute;border-left: 1px solid gray;box-sizing: border-box;top: 0;bottom: 0;left: 50%;z-index: -1;}#sk-container-id-3 div.sk-parallel-item {display: flex;flex-direction: column;z-index: 1;position: relative;background-color: white;}#sk-container-id-3 div.sk-parallel-item:first-child::after {align-self: flex-end;width: 50%;}#sk-container-id-3 div.sk-parallel-item:last-child::after {align-self: flex-start;width: 50%;}#sk-container-id-3 div.sk-parallel-item:only-child::after {width: 0;}#sk-container-id-3 div.sk-dashed-wrapped {border: 1px dashed gray;margin: 0 0.4em 0.5em 0.4em;box-sizing: border-box;padding-bottom: 0.4em;background-color: white;}#sk-container-id-3 div.sk-label label {font-family: monospace;font-weight: bold;display: inline-block;line-height: 1.2em;}#sk-container-id-3 div.sk-label-container {text-align: center;}#sk-container-id-3 div.sk-container {/* jupyter's `normalize.less` sets `[hidden] { display: none; }` but bootstrap.min.css set `[hidden] { display: none !important; }` so we also need the `!important` here to be able to override the default hidden behavior on the sphinx rendered scikit-learn.org. See: https://github.com/scikit-learn/scikit-learn/issues/21755 */display: inline-block !important;position: relative;}#sk-container-id-3 div.sk-text-repr-fallback {display: none;}</style><div id=\"sk-container-id-3\" class=\"sk-top-container\"><div class=\"sk-text-repr-fallback\"><pre>GridSearchCV(cv=15, estimator=Lasso(), n_jobs=-1,\n",
       "             param_grid={&#x27;alpha&#x27;: [0.001, 0.01, 1, 10, 1000]},\n",
       "             scoring=&#x27;neg_mean_absolute_error&#x27;)</pre><b>In a Jupyter environment, please rerun this cell to show the HTML representation or trust the notebook. <br />On GitHub, the HTML representation is unable to render, please try loading this page with nbviewer.org.</b></div><div class=\"sk-container\" hidden><div class=\"sk-item sk-dashed-wrapped\"><div class=\"sk-label-container\"><div class=\"sk-label sk-toggleable\"><input class=\"sk-toggleable__control sk-hidden--visually\" id=\"sk-estimator-id-7\" type=\"checkbox\" ><label for=\"sk-estimator-id-7\" class=\"sk-toggleable__label sk-toggleable__label-arrow\">GridSearchCV</label><div class=\"sk-toggleable__content\"><pre>GridSearchCV(cv=15, estimator=Lasso(), n_jobs=-1,\n",
       "             param_grid={&#x27;alpha&#x27;: [0.001, 0.01, 1, 10, 1000]},\n",
       "             scoring=&#x27;neg_mean_absolute_error&#x27;)</pre></div></div></div><div class=\"sk-parallel\"><div class=\"sk-parallel-item\"><div class=\"sk-item\"><div class=\"sk-label-container\"><div class=\"sk-label sk-toggleable\"><input class=\"sk-toggleable__control sk-hidden--visually\" id=\"sk-estimator-id-8\" type=\"checkbox\" ><label for=\"sk-estimator-id-8\" class=\"sk-toggleable__label sk-toggleable__label-arrow\">estimator: Lasso</label><div class=\"sk-toggleable__content\"><pre>Lasso()</pre></div></div></div><div class=\"sk-serial\"><div class=\"sk-item\"><div class=\"sk-estimator sk-toggleable\"><input class=\"sk-toggleable__control sk-hidden--visually\" id=\"sk-estimator-id-9\" type=\"checkbox\" ><label for=\"sk-estimator-id-9\" class=\"sk-toggleable__label sk-toggleable__label-arrow\">Lasso</label><div class=\"sk-toggleable__content\"><pre>Lasso()</pre></div></div></div></div></div></div></div></div></div></div>"
      ],
      "text/plain": [
       "GridSearchCV(cv=15, estimator=Lasso(), n_jobs=-1,\n",
       "             param_grid={'alpha': [0.001, 0.01, 1, 10, 1000]},\n",
       "             scoring='neg_mean_absolute_error')"
      ]
     },
     "execution_count": 32,
     "metadata": {},
     "output_type": "execute_result"
    }
   ],
   "source": [
    "params ={'alpha' :[0.001, 0.01, 1, 10, 1000]}\n",
    "lasso_regressor =GridSearchCV(Lasso(), params ,cv =15,scoring = 'neg_mean_absolute_error', n_jobs =-1)\n",
    "lasso_regressor.fit(X_train ,y_train)"
   ]
  },
  {
   "cell_type": "code",
   "execution_count": 98,
   "id": "df190ce7",
   "metadata": {},
   "outputs": [
    {
     "data": {
      "text/plain": [
       "{'alpha': 0.001}"
      ]
     },
     "execution_count": 98,
     "metadata": {},
     "output_type": "execute_result"
    }
   ],
   "source": [
    "lasso_regressor.best_params_"
   ]
  },
  {
   "cell_type": "code",
   "execution_count": 141,
   "id": "ee1144f9",
   "metadata": {},
   "outputs": [],
   "source": [
    "y_train_pred =lasso_regressor.predict(X_train) ##Predict train result\n",
    "y_test_pred =lasso_regressor.predict(X_test) ##Predict test result"
   ]
  },
  {
   "cell_type": "code",
   "execution_count": 142,
   "id": "70676b53",
   "metadata": {},
   "outputs": [
    {
     "name": "stdout",
     "output_type": "stream",
     "text": [
      "Train Results for Lasso Regressor Model:\n",
      "--------------------------------------------------\n",
      "Root mean squared error:  0.16\n",
      "R-squared:  0.68\n",
      "Explained Variance Score: 0.68\n"
     ]
    }
   ],
   "source": [
    "print(\"Train Results for Lasso Regressor Model:\")\n",
    "print(50 * '-')\n",
    "print(\"Root mean squared error: \", round(sqrt(mse(y_train.values, y_train_pred)),2))\n",
    "print(\"R-squared: \", round(r2_score(y_train.values, y_train_pred),2))\n",
    "print(\"Explained Variance Score:\", round(explained_variance_score(y_train.values, y_train_pred),2))"
   ]
  },
  {
   "cell_type": "code",
   "execution_count": 143,
   "id": "5ad418de",
   "metadata": {},
   "outputs": [
    {
     "name": "stdout",
     "output_type": "stream",
     "text": [
      "Test Results for Lasso Regressor Model:\n",
      "--------------------------------------------------\n",
      "Root mean squared error:  0.16\n",
      "R-squared:  0.68\n",
      "Explained Variance Score: 0.68\n"
     ]
    }
   ],
   "source": [
    "print(\"Test Results for Lasso Regressor Model:\")\n",
    "print(50 * '-')\n",
    "print(\"Root mean squared error: \", round(sqrt(mse(y_test, y_test_pred)),2))\n",
    "print(\"R-squared: \", round(r2_score(y_test, y_test_pred),2))\n",
    "print(\"Explained Variance Score:\", round(explained_variance_score(y_test, y_test_pred),2))"
   ]
  },
  {
   "cell_type": "code",
   "execution_count": 144,
   "id": "83a17dfd",
   "metadata": {},
   "outputs": [],
   "source": [
    "model_comparison[\"Lasso Regressor\"]=[round(sqrt(mse(y_test, y_test_pred)),2),round(r2_score(y_test, y_test_pred),2)]"
   ]
  },
  {
   "cell_type": "code",
   "execution_count": 104,
   "id": "0e1bd82e",
   "metadata": {},
   "outputs": [
    {
     "data": {
      "image/png": "[encoded data removed]",
      "text/plain": [
       "<Figure size 640x480 with 1 Axes>"
      ]
     },
     "metadata": {},
     "output_type": "display_data"
    }
   ],
   "source": [
    "plt.scatter(y_test, y_test_pred)\n",
    "plt.xlabel('Actual values')\n",
    "plt.ylabel('Predicted values')\n",
    "plt.title('R\\u00B2 = %0.2f' % r2_score(y_test, y_test_pred))\n",
    "\n",
    "plt.plot(np.unique(y_test), np.poly1d(np.polyfit(y_test, y_test_pred, 1))(np.unique(y_test)), color=\"#34495E\")\n",
    "\n",
    "plt.show()"
   ]
  },
  {
   "cell_type": "markdown",
   "id": "ac4a92a8",
   "metadata": {},
   "source": [
    "### 4) Decision Tree Regressor"
   ]
  },
  {
   "cell_type": "code",
   "execution_count": 39,
   "id": "8fad099a",
   "metadata": {},
   "outputs": [
    {
     "data": {
      "text/html": [
       "<style>#sk-container-id-4 {color: black;background-color: white;}#sk-container-id-4 pre{padding: 0;}#sk-container-id-4 div.sk-toggleable {background-color: white;}#sk-container-id-4 label.sk-toggleable__label {cursor: pointer;display: block;width: 100%;margin-bottom: 0;padding: 0.3em;box-sizing: border-box;text-align: center;}#sk-container-id-4 label.sk-toggleable__label-arrow:before {content: \"▸\";float: left;margin-right: 0.25em;color: #696969;}#sk-container-id-4 label.sk-toggleable__label-arrow:hover:before {color: black;}#sk-container-id-4 div.sk-estimator:hover label.sk-toggleable__label-arrow:before {color: black;}#sk-container-id-4 div.sk-toggleable__content {max-height: 0;max-width: 0;overflow: hidden;text-align: left;background-color: #f0f8ff;}#sk-container-id-4 div.sk-toggleable__content pre {margin: 0.2em;color: black;border-radius: 0.25em;background-color: #f0f8ff;}#sk-container-id-4 input.sk-toggleable__control:checked~div.sk-toggleable__content {max-height: 200px;max-width: 100%;overflow: auto;}#sk-container-id-4 input.sk-toggleable__control:checked~label.sk-toggleable__label-arrow:before {content: \"▾\";}#sk-container-id-4 div.sk-estimator input.sk-toggleable__control:checked~label.sk-toggleable__label {background-color: #d4ebff;}#sk-container-id-4 div.sk-label input.sk-toggleable__control:checked~label.sk-toggleable__label {background-color: #d4ebff;}#sk-container-id-4 input.sk-hidden--visually {border: 0;clip: rect(1px 1px 1px 1px);clip: rect(1px, 1px, 1px, 1px);height: 1px;margin: -1px;overflow: hidden;padding: 0;position: absolute;width: 1px;}#sk-container-id-4 div.sk-estimator {font-family: monospace;background-color: #f0f8ff;border: 1px dotted black;border-radius: 0.25em;box-sizing: border-box;margin-bottom: 0.5em;}#sk-container-id-4 div.sk-estimator:hover {background-color: #d4ebff;}#sk-container-id-4 div.sk-parallel-item::after {content: \"\";width: 100%;border-bottom: 1px solid gray;flex-grow: 1;}#sk-container-id-4 div.sk-label:hover label.sk-toggleable__label {background-color: #d4ebff;}#sk-container-id-4 div.sk-serial::before {content: \"\";position: absolute;border-left: 1px solid gray;box-sizing: border-box;top: 0;bottom: 0;left: 50%;z-index: 0;}#sk-container-id-4 div.sk-serial {display: flex;flex-direction: column;align-items: center;background-color: white;padding-right: 0.2em;padding-left: 0.2em;position: relative;}#sk-container-id-4 div.sk-item {position: relative;z-index: 1;}#sk-container-id-4 div.sk-parallel {display: flex;align-items: stretch;justify-content: center;background-color: white;position: relative;}#sk-container-id-4 div.sk-item::before, #sk-container-id-4 div.sk-parallel-item::before {content: \"\";position: absolute;border-left: 1px solid gray;box-sizing: border-box;top: 0;bottom: 0;left: 50%;z-index: -1;}#sk-container-id-4 div.sk-parallel-item {display: flex;flex-direction: column;z-index: 1;position: relative;background-color: white;}#sk-container-id-4 div.sk-parallel-item:first-child::after {align-self: flex-end;width: 50%;}#sk-container-id-4 div.sk-parallel-item:last-child::after {align-self: flex-start;width: 50%;}#sk-container-id-4 div.sk-parallel-item:only-child::after {width: 0;}#sk-container-id-4 div.sk-dashed-wrapped {border: 1px dashed gray;margin: 0 0.4em 0.5em 0.4em;box-sizing: border-box;padding-bottom: 0.4em;background-color: white;}#sk-container-id-4 div.sk-label label {font-family: monospace;font-weight: bold;display: inline-block;line-height: 1.2em;}#sk-container-id-4 div.sk-label-container {text-align: center;}#sk-container-id-4 div.sk-container {/* jupyter's `normalize.less` sets `[hidden] { display: none; }` but bootstrap.min.css set `[hidden] { display: none !important; }` so we also need the `!important` here to be able to override the default hidden behavior on the sphinx rendered scikit-learn.org. See: https://github.com/scikit-learn/scikit-learn/issues/21755 */display: inline-block !important;position: relative;}#sk-container-id-4 div.sk-text-repr-fallback {display: none;}</style><div id=\"sk-container-id-4\" class=\"sk-top-container\"><div class=\"sk-text-repr-fallback\"><pre>GridSearchCV(cv=10, estimator=DecisionTreeRegressor(),\n",
       "             param_grid={&#x27;max_depth&#x27;: [10, 11, 12, 13, 14, 15, 16, 17, 18, 19]})</pre><b>In a Jupyter environment, please rerun this cell to show the HTML representation or trust the notebook. <br />On GitHub, the HTML representation is unable to render, please try loading this page with nbviewer.org.</b></div><div class=\"sk-container\" hidden><div class=\"sk-item sk-dashed-wrapped\"><div class=\"sk-label-container\"><div class=\"sk-label sk-toggleable\"><input class=\"sk-toggleable__control sk-hidden--visually\" id=\"sk-estimator-id-10\" type=\"checkbox\" ><label for=\"sk-estimator-id-10\" class=\"sk-toggleable__label sk-toggleable__label-arrow\">GridSearchCV</label><div class=\"sk-toggleable__content\"><pre>GridSearchCV(cv=10, estimator=DecisionTreeRegressor(),\n",
       "             param_grid={&#x27;max_depth&#x27;: [10, 11, 12, 13, 14, 15, 16, 17, 18, 19]})</pre></div></div></div><div class=\"sk-parallel\"><div class=\"sk-parallel-item\"><div class=\"sk-item\"><div class=\"sk-label-container\"><div class=\"sk-label sk-toggleable\"><input class=\"sk-toggleable__control sk-hidden--visually\" id=\"sk-estimator-id-11\" type=\"checkbox\" ><label for=\"sk-estimator-id-11\" class=\"sk-toggleable__label sk-toggleable__label-arrow\">estimator: DecisionTreeRegressor</label><div class=\"sk-toggleable__content\"><pre>DecisionTreeRegressor()</pre></div></div></div><div class=\"sk-serial\"><div class=\"sk-item\"><div class=\"sk-estimator sk-toggleable\"><input class=\"sk-toggleable__control sk-hidden--visually\" id=\"sk-estimator-id-12\" type=\"checkbox\" ><label for=\"sk-estimator-id-12\" class=\"sk-toggleable__label sk-toggleable__label-arrow\">DecisionTreeRegressor</label><div class=\"sk-toggleable__content\"><pre>DecisionTreeRegressor()</pre></div></div></div></div></div></div></div></div></div></div>"
      ],
      "text/plain": [
       "GridSearchCV(cv=10, estimator=DecisionTreeRegressor(),\n",
       "             param_grid={'max_depth': [10, 11, 12, 13, 14, 15, 16, 17, 18, 19]})"
      ]
     },
     "execution_count": 39,
     "metadata": {},
     "output_type": "execute_result"
    }
   ],
   "source": [
    "depth = list(range(10,20))\n",
    "param_grid = dict(max_depth =depth)\n",
    "tree = GridSearchCV(DecisionTreeRegressor(),param_grid,cv =10)\n",
    "tree.fit(X_train,y_train)"
   ]
  },
  {
   "cell_type": "code",
   "execution_count": 105,
   "id": "fd78b20c",
   "metadata": {},
   "outputs": [
    {
     "data": {
      "text/plain": [
       "{'max_depth': 19}"
      ]
     },
     "execution_count": 105,
     "metadata": {},
     "output_type": "execute_result"
    }
   ],
   "source": [
    "tree.best_params_"
   ]
  },
  {
   "cell_type": "code",
   "execution_count": 145,
   "id": "05e5371f",
   "metadata": {},
   "outputs": [],
   "source": [
    "y_train_pred =tree.predict(X_train) ##Predict train result\n",
    "y_test_pred =tree.predict(X_test) ##Predict test result"
   ]
  },
  {
   "cell_type": "code",
   "execution_count": 146,
   "id": "8985bc4b",
   "metadata": {},
   "outputs": [
    {
     "name": "stdout",
     "output_type": "stream",
     "text": [
      "Train Results for Decision Tree Regressor Model:\n",
      "--------------------------------------------------\n",
      "Root mean squared error:  0.02\n",
      "R-squared:  0.99\n",
      "Explained Variance Score: 0.99\n"
     ]
    }
   ],
   "source": [
    "print(\"Train Results for Decision Tree Regressor Model:\")\n",
    "print(50 * '-')\n",
    "print(\"Root mean squared error: \", round(sqrt(mse(y_train.values, y_train_pred)),2))\n",
    "print(\"R-squared: \", round(r2_score(y_train.values, y_train_pred),2))\n",
    "print(\"Explained Variance Score:\", round(explained_variance_score(y_train.values, y_train_pred),2))"
   ]
  },
  {
   "cell_type": "code",
   "execution_count": 147,
   "id": "55924dfd",
   "metadata": {},
   "outputs": [
    {
     "name": "stdout",
     "output_type": "stream",
     "text": [
      "Test Results for Decision Tree Regressor Model:\n",
      "--------------------------------------------------\n",
      "Root mean squared error:  0.08\n",
      "R-squared:  0.93\n",
      "Explained Variance Score: 0.93\n"
     ]
    }
   ],
   "source": [
    "print(\"Test Results for Decision Tree Regressor Model:\")\n",
    "print(50 * '-')\n",
    "print(\"Root mean squared error: \", round(sqrt(mse(y_test, y_test_pred)),2))\n",
    "print(\"R-squared: \", round(r2_score(y_test, y_test_pred),2))\n",
    "print(\"Explained Variance Score:\", round(explained_variance_score(y_test, y_test_pred),2))"
   ]
  },
  {
   "cell_type": "code",
   "execution_count": 148,
   "id": "4d80b55c",
   "metadata": {},
   "outputs": [],
   "source": [
    "model_comparison[\"Desicion Tree Regressor\"]=[round(sqrt(mse(y_test, y_test_pred)),2),round(r2_score(y_test, y_test_pred),2)]"
   ]
  },
  {
   "cell_type": "markdown",
   "id": "78565aa1",
   "metadata": {},
   "source": [
    "### 5) Random Forest Regressor"
   ]
  },
  {
   "cell_type": "code",
   "execution_count": 45,
   "id": "8fbd71b6",
   "metadata": {},
   "outputs": [
    {
     "data": {
      "text/html": [
       "<style>#sk-container-id-5 {color: black;background-color: white;}#sk-container-id-5 pre{padding: 0;}#sk-container-id-5 div.sk-toggleable {background-color: white;}#sk-container-id-5 label.sk-toggleable__label {cursor: pointer;display: block;width: 100%;margin-bottom: 0;padding: 0.3em;box-sizing: border-box;text-align: center;}#sk-container-id-5 label.sk-toggleable__label-arrow:before {content: \"▸\";float: left;margin-right: 0.25em;color: #696969;}#sk-container-id-5 label.sk-toggleable__label-arrow:hover:before {color: black;}#sk-container-id-5 div.sk-estimator:hover label.sk-toggleable__label-arrow:before {color: black;}#sk-container-id-5 div.sk-toggleable__content {max-height: 0;max-width: 0;overflow: hidden;text-align: left;background-color: #f0f8ff;}#sk-container-id-5 div.sk-toggleable__content pre {margin: 0.2em;color: black;border-radius: 0.25em;background-color: #f0f8ff;}#sk-container-id-5 input.sk-toggleable__control:checked~div.sk-toggleable__content {max-height: 200px;max-width: 100%;overflow: auto;}#sk-container-id-5 input.sk-toggleable__control:checked~label.sk-toggleable__label-arrow:before {content: \"▾\";}#sk-container-id-5 div.sk-estimator input.sk-toggleable__control:checked~label.sk-toggleable__label {background-color: #d4ebff;}#sk-container-id-5 div.sk-label input.sk-toggleable__control:checked~label.sk-toggleable__label {background-color: #d4ebff;}#sk-container-id-5 input.sk-hidden--visually {border: 0;clip: rect(1px 1px 1px 1px);clip: rect(1px, 1px, 1px, 1px);height: 1px;margin: -1px;overflow: hidden;padding: 0;position: absolute;width: 1px;}#sk-container-id-5 div.sk-estimator {font-family: monospace;background-color: #f0f8ff;border: 1px dotted black;border-radius: 0.25em;box-sizing: border-box;margin-bottom: 0.5em;}#sk-container-id-5 div.sk-estimator:hover {background-color: #d4ebff;}#sk-container-id-5 div.sk-parallel-item::after {content: \"\";width: 100%;border-bottom: 1px solid gray;flex-grow: 1;}#sk-container-id-5 div.sk-label:hover label.sk-toggleable__label {background-color: #d4ebff;}#sk-container-id-5 div.sk-serial::before {content: \"\";position: absolute;border-left: 1px solid gray;box-sizing: border-box;top: 0;bottom: 0;left: 50%;z-index: 0;}#sk-container-id-5 div.sk-serial {display: flex;flex-direction: column;align-items: center;background-color: white;padding-right: 0.2em;padding-left: 0.2em;position: relative;}#sk-container-id-5 div.sk-item {position: relative;z-index: 1;}#sk-container-id-5 div.sk-parallel {display: flex;align-items: stretch;justify-content: center;background-color: white;position: relative;}#sk-container-id-5 div.sk-item::before, #sk-container-id-5 div.sk-parallel-item::before {content: \"\";position: absolute;border-left: 1px solid gray;box-sizing: border-box;top: 0;bottom: 0;left: 50%;z-index: -1;}#sk-container-id-5 div.sk-parallel-item {display: flex;flex-direction: column;z-index: 1;position: relative;background-color: white;}#sk-container-id-5 div.sk-parallel-item:first-child::after {align-self: flex-end;width: 50%;}#sk-container-id-5 div.sk-parallel-item:last-child::after {align-self: flex-start;width: 50%;}#sk-container-id-5 div.sk-parallel-item:only-child::after {width: 0;}#sk-container-id-5 div.sk-dashed-wrapped {border: 1px dashed gray;margin: 0 0.4em 0.5em 0.4em;box-sizing: border-box;padding-bottom: 0.4em;background-color: white;}#sk-container-id-5 div.sk-label label {font-family: monospace;font-weight: bold;display: inline-block;line-height: 1.2em;}#sk-container-id-5 div.sk-label-container {text-align: center;}#sk-container-id-5 div.sk-container {/* jupyter's `normalize.less` sets `[hidden] { display: none; }` but bootstrap.min.css set `[hidden] { display: none !important; }` so we also need the `!important` here to be able to override the default hidden behavior on the sphinx rendered scikit-learn.org. See: https://github.com/scikit-learn/scikit-learn/issues/21755 */display: inline-block !important;position: relative;}#sk-container-id-5 div.sk-text-repr-fallback {display: none;}</style><div id=\"sk-container-id-5\" class=\"sk-top-container\"><div class=\"sk-text-repr-fallback\"><pre>RandomizedSearchCV(cv=5, estimator=RandomForestRegressor(), n_iter=20,\n",
       "                   n_jobs=-1,\n",
       "                   param_distributions={&#x27;min_samples_leaf&#x27;: [1, 2, 4],\n",
       "                                        &#x27;min_samples_split&#x27;: [2, 5, 10],\n",
       "                                        &#x27;n_estimators&#x27;: [100, 300, 500]},\n",
       "                   scoring=&#x27;neg_mean_absolute_error&#x27;)</pre><b>In a Jupyter environment, please rerun this cell to show the HTML representation or trust the notebook. <br />On GitHub, the HTML representation is unable to render, please try loading this page with nbviewer.org.</b></div><div class=\"sk-container\" hidden><div class=\"sk-item sk-dashed-wrapped\"><div class=\"sk-label-container\"><div class=\"sk-label sk-toggleable\"><input class=\"sk-toggleable__control sk-hidden--visually\" id=\"sk-estimator-id-13\" type=\"checkbox\" ><label for=\"sk-estimator-id-13\" class=\"sk-toggleable__label sk-toggleable__label-arrow\">RandomizedSearchCV</label><div class=\"sk-toggleable__content\"><pre>RandomizedSearchCV(cv=5, estimator=RandomForestRegressor(), n_iter=20,\n",
       "                   n_jobs=-1,\n",
       "                   param_distributions={&#x27;min_samples_leaf&#x27;: [1, 2, 4],\n",
       "                                        &#x27;min_samples_split&#x27;: [2, 5, 10],\n",
       "                                        &#x27;n_estimators&#x27;: [100, 300, 500]},\n",
       "                   scoring=&#x27;neg_mean_absolute_error&#x27;)</pre></div></div></div><div class=\"sk-parallel\"><div class=\"sk-parallel-item\"><div class=\"sk-item\"><div class=\"sk-label-container\"><div class=\"sk-label sk-toggleable\"><input class=\"sk-toggleable__control sk-hidden--visually\" id=\"sk-estimator-id-14\" type=\"checkbox\" ><label for=\"sk-estimator-id-14\" class=\"sk-toggleable__label sk-toggleable__label-arrow\">estimator: RandomForestRegressor</label><div class=\"sk-toggleable__content\"><pre>RandomForestRegressor()</pre></div></div></div><div class=\"sk-serial\"><div class=\"sk-item\"><div class=\"sk-estimator sk-toggleable\"><input class=\"sk-toggleable__control sk-hidden--visually\" id=\"sk-estimator-id-15\" type=\"checkbox\" ><label for=\"sk-estimator-id-15\" class=\"sk-toggleable__label sk-toggleable__label-arrow\">RandomForestRegressor</label><div class=\"sk-toggleable__content\"><pre>RandomForestRegressor()</pre></div></div></div></div></div></div></div></div></div></div>"
      ],
      "text/plain": [
       "RandomizedSearchCV(cv=5, estimator=RandomForestRegressor(), n_iter=20,\n",
       "                   n_jobs=-1,\n",
       "                   param_distributions={'min_samples_leaf': [1, 2, 4],\n",
       "                                        'min_samples_split': [2, 5, 10],\n",
       "                                        'n_estimators': [100, 300, 500]},\n",
       "                   scoring='neg_mean_absolute_error')"
      ]
     },
     "execution_count": 45,
     "metadata": {},
     "output_type": "execute_result"
    }
   ],
   "source": [
    "tuned_params = {'n_estimators': [100,500], 'min_samples_split': [2, 5, 10], 'min_samples_leaf': [1, 2, 4]}\n",
    "random_regressor = RandomizedSearchCV(RandomForestRegressor(), tuned_params, n_iter = 20, scoring = 'neg_mean_absolute_error', cv = 5, n_jobs = -1)\n",
    "random_regressor.fit(X_train, y_train)"
   ]
  },
  {
   "cell_type": "code",
   "execution_count": 110,
   "id": "ac566339",
   "metadata": {},
   "outputs": [
    {
     "data": {
      "text/plain": [
       "{'n_estimators': 500, 'min_samples_split': 2, 'min_samples_leaf': 1}"
      ]
     },
     "execution_count": 110,
     "metadata": {},
     "output_type": "execute_result"
    }
   ],
   "source": [
    "random_regressor.best_params_"
   ]
  },
  {
   "cell_type": "code",
   "execution_count": 190,
   "id": "2366bcc8",
   "metadata": {},
   "outputs": [
    {
     "ename": "ValueError",
     "evalue": "X has 48 features, but RandomForestRegressor is expecting 28 features as input.",
     "output_type": "error",
     "traceback": [
      "\u001b[1;31m---------------------------------------------------------------------------\u001b[0m",
      "\u001b[1;31mValueError\u001b[0m                                Traceback (most recent call last)",
      "Cell \u001b[1;32mIn [190], line 1\u001b[0m\n\u001b[1;32m----> 1\u001b[0m y_train_pred \u001b[38;5;241m=\u001b[39m \u001b[43mrandom_regressor\u001b[49m\u001b[38;5;241;43m.\u001b[39;49m\u001b[43mpredict\u001b[49m\u001b[43m(\u001b[49m\u001b[43mX_train\u001b[49m\u001b[43m)\u001b[49m\n\u001b[0;32m      2\u001b[0m y_test_pred \u001b[38;5;241m=\u001b[39m random_regressor\u001b[38;5;241m.\u001b[39mpredict(X_test)\n",
      "File \u001b[1;32m~\\AppData\\Local\\Programs\\Python\\Python310\\lib\\site-packages\\sklearn\\model_selection\\_search.py:500\u001b[0m, in \u001b[0;36mBaseSearchCV.predict\u001b[1;34m(self, X)\u001b[0m\n\u001b[0;32m    482\u001b[0m \u001b[38;5;124;03m\"\"\"Call predict on the estimator with the best found parameters.\u001b[39;00m\n\u001b[0;32m    483\u001b[0m \n\u001b[0;32m    484\u001b[0m \u001b[38;5;124;03mOnly available if ``refit=True`` and the underlying estimator supports\u001b[39;00m\n\u001b[1;32m   (...)\u001b[0m\n\u001b[0;32m    497\u001b[0m \u001b[38;5;124;03m    the best found parameters.\u001b[39;00m\n\u001b[0;32m    498\u001b[0m \u001b[38;5;124;03m\"\"\"\u001b[39;00m\n\u001b[0;32m    499\u001b[0m check_is_fitted(\u001b[38;5;28mself\u001b[39m)\n\u001b[1;32m--> 500\u001b[0m \u001b[38;5;28;01mreturn\u001b[39;00m \u001b[38;5;28;43mself\u001b[39;49m\u001b[38;5;241;43m.\u001b[39;49m\u001b[43mbest_estimator_\u001b[49m\u001b[38;5;241;43m.\u001b[39;49m\u001b[43mpredict\u001b[49m\u001b[43m(\u001b[49m\u001b[43mX\u001b[49m\u001b[43m)\u001b[49m\n",
      "File \u001b[1;32m~\\AppData\\Local\\Programs\\Python\\Python310\\lib\\site-packages\\sklearn\\ensemble\\_forest.py:991\u001b[0m, in \u001b[0;36mForestRegressor.predict\u001b[1;34m(self, X)\u001b[0m\n\u001b[0;32m    989\u001b[0m check_is_fitted(\u001b[38;5;28mself\u001b[39m)\n\u001b[0;32m    990\u001b[0m \u001b[38;5;66;03m# Check data\u001b[39;00m\n\u001b[1;32m--> 991\u001b[0m X \u001b[38;5;241m=\u001b[39m \u001b[38;5;28;43mself\u001b[39;49m\u001b[38;5;241;43m.\u001b[39;49m\u001b[43m_validate_X_predict\u001b[49m\u001b[43m(\u001b[49m\u001b[43mX\u001b[49m\u001b[43m)\u001b[49m\n\u001b[0;32m    993\u001b[0m \u001b[38;5;66;03m# Assign chunk of trees to jobs\u001b[39;00m\n\u001b[0;32m    994\u001b[0m n_jobs, _, _ \u001b[38;5;241m=\u001b[39m _partition_estimators(\u001b[38;5;28mself\u001b[39m\u001b[38;5;241m.\u001b[39mn_estimators, \u001b[38;5;28mself\u001b[39m\u001b[38;5;241m.\u001b[39mn_jobs)\n",
      "File \u001b[1;32m~\\AppData\\Local\\Programs\\Python\\Python310\\lib\\site-packages\\sklearn\\ensemble\\_forest.py:605\u001b[0m, in \u001b[0;36mBaseForest._validate_X_predict\u001b[1;34m(self, X)\u001b[0m\n\u001b[0;32m    602\u001b[0m \u001b[38;5;124;03m\"\"\"\u001b[39;00m\n\u001b[0;32m    603\u001b[0m \u001b[38;5;124;03mValidate X whenever one tries to predict, apply, predict_proba.\"\"\"\u001b[39;00m\n\u001b[0;32m    604\u001b[0m check_is_fitted(\u001b[38;5;28mself\u001b[39m)\n\u001b[1;32m--> 605\u001b[0m X \u001b[38;5;241m=\u001b[39m \u001b[38;5;28;43mself\u001b[39;49m\u001b[38;5;241;43m.\u001b[39;49m\u001b[43m_validate_data\u001b[49m\u001b[43m(\u001b[49m\u001b[43mX\u001b[49m\u001b[43m,\u001b[49m\u001b[43m \u001b[49m\u001b[43mdtype\u001b[49m\u001b[38;5;241;43m=\u001b[39;49m\u001b[43mDTYPE\u001b[49m\u001b[43m,\u001b[49m\u001b[43m \u001b[49m\u001b[43maccept_sparse\u001b[49m\u001b[38;5;241;43m=\u001b[39;49m\u001b[38;5;124;43m\"\u001b[39;49m\u001b[38;5;124;43mcsr\u001b[39;49m\u001b[38;5;124;43m\"\u001b[39;49m\u001b[43m,\u001b[49m\u001b[43m \u001b[49m\u001b[43mreset\u001b[49m\u001b[38;5;241;43m=\u001b[39;49m\u001b[38;5;28;43;01mFalse\u001b[39;49;00m\u001b[43m)\u001b[49m\n\u001b[0;32m    606\u001b[0m \u001b[38;5;28;01mif\u001b[39;00m issparse(X) \u001b[38;5;129;01mand\u001b[39;00m (X\u001b[38;5;241m.\u001b[39mindices\u001b[38;5;241m.\u001b[39mdtype \u001b[38;5;241m!=\u001b[39m np\u001b[38;5;241m.\u001b[39mintc \u001b[38;5;129;01mor\u001b[39;00m X\u001b[38;5;241m.\u001b[39mindptr\u001b[38;5;241m.\u001b[39mdtype \u001b[38;5;241m!=\u001b[39m np\u001b[38;5;241m.\u001b[39mintc):\n\u001b[0;32m    607\u001b[0m     \u001b[38;5;28;01mraise\u001b[39;00m \u001b[38;5;167;01mValueError\u001b[39;00m(\u001b[38;5;124m\"\u001b[39m\u001b[38;5;124mNo support for np.int64 index based sparse matrices\u001b[39m\u001b[38;5;124m\"\u001b[39m)\n",
      "File \u001b[1;32m~\\AppData\\Local\\Programs\\Python\\Python310\\lib\\site-packages\\sklearn\\base.py:600\u001b[0m, in \u001b[0;36mBaseEstimator._validate_data\u001b[1;34m(self, X, y, reset, validate_separately, **check_params)\u001b[0m\n\u001b[0;32m    597\u001b[0m     out \u001b[38;5;241m=\u001b[39m X, y\n\u001b[0;32m    599\u001b[0m \u001b[38;5;28;01mif\u001b[39;00m \u001b[38;5;129;01mnot\u001b[39;00m no_val_X \u001b[38;5;129;01mand\u001b[39;00m check_params\u001b[38;5;241m.\u001b[39mget(\u001b[38;5;124m\"\u001b[39m\u001b[38;5;124mensure_2d\u001b[39m\u001b[38;5;124m\"\u001b[39m, \u001b[38;5;28;01mTrue\u001b[39;00m):\n\u001b[1;32m--> 600\u001b[0m     \u001b[38;5;28;43mself\u001b[39;49m\u001b[38;5;241;43m.\u001b[39;49m\u001b[43m_check_n_features\u001b[49m\u001b[43m(\u001b[49m\u001b[43mX\u001b[49m\u001b[43m,\u001b[49m\u001b[43m \u001b[49m\u001b[43mreset\u001b[49m\u001b[38;5;241;43m=\u001b[39;49m\u001b[43mreset\u001b[49m\u001b[43m)\u001b[49m\n\u001b[0;32m    602\u001b[0m \u001b[38;5;28;01mreturn\u001b[39;00m out\n",
      "File \u001b[1;32m~\\AppData\\Local\\Programs\\Python\\Python310\\lib\\site-packages\\sklearn\\base.py:400\u001b[0m, in \u001b[0;36mBaseEstimator._check_n_features\u001b[1;34m(self, X, reset)\u001b[0m\n\u001b[0;32m    397\u001b[0m     \u001b[38;5;28;01mreturn\u001b[39;00m\n\u001b[0;32m    399\u001b[0m \u001b[38;5;28;01mif\u001b[39;00m n_features \u001b[38;5;241m!=\u001b[39m \u001b[38;5;28mself\u001b[39m\u001b[38;5;241m.\u001b[39mn_features_in_:\n\u001b[1;32m--> 400\u001b[0m     \u001b[38;5;28;01mraise\u001b[39;00m \u001b[38;5;167;01mValueError\u001b[39;00m(\n\u001b[0;32m    401\u001b[0m         \u001b[38;5;124mf\u001b[39m\u001b[38;5;124m\"\u001b[39m\u001b[38;5;124mX has \u001b[39m\u001b[38;5;132;01m{\u001b[39;00mn_features\u001b[38;5;132;01m}\u001b[39;00m\u001b[38;5;124m features, but \u001b[39m\u001b[38;5;132;01m{\u001b[39;00m\u001b[38;5;28mself\u001b[39m\u001b[38;5;241m.\u001b[39m\u001b[38;5;18m__class__\u001b[39m\u001b[38;5;241m.\u001b[39m\u001b[38;5;18m__name__\u001b[39m\u001b[38;5;132;01m}\u001b[39;00m\u001b[38;5;124m \u001b[39m\u001b[38;5;124m\"\u001b[39m\n\u001b[0;32m    402\u001b[0m         \u001b[38;5;124mf\u001b[39m\u001b[38;5;124m\"\u001b[39m\u001b[38;5;124mis expecting \u001b[39m\u001b[38;5;132;01m{\u001b[39;00m\u001b[38;5;28mself\u001b[39m\u001b[38;5;241m.\u001b[39mn_features_in_\u001b[38;5;132;01m}\u001b[39;00m\u001b[38;5;124m features as input.\u001b[39m\u001b[38;5;124m\"\u001b[39m\n\u001b[0;32m    403\u001b[0m     )\n",
      "\u001b[1;31mValueError\u001b[0m: X has 48 features, but RandomForestRegressor is expecting 28 features as input."
     ]
    }
   ],
   "source": [
    "y_train_pred = random_regressor.predict(X_train)\n",
    "y_test_pred = random_regressor.predict(X_test)"
   ]
  },
  {
   "cell_type": "code",
   "execution_count": 150,
   "id": "6a6f4da6",
   "metadata": {},
   "outputs": [
    {
     "name": "stdout",
     "output_type": "stream",
     "text": [
      "Train Results for Random Forest Regressor Model:\n",
      "--------------------------------------------------\n",
      "Root mean squared error:  0.02\n",
      "R-squared:  0.99\n",
      "Explained Variance Score: 0.99\n"
     ]
    }
   ],
   "source": [
    "print(\"Train Results for Random Forest Regressor Model:\")\n",
    "print(50 * '-')\n",
    "print(\"Root mean squared error: \", round(sqrt(mse(y_train.values, y_train_pred)),2))\n",
    "print(\"R-squared: \", round(r2_score(y_train.values, y_train_pred),2))\n",
    "print(\"Explained Variance Score:\", round(explained_variance_score(y_train.values, y_train_pred),2))"
   ]
  },
  {
   "cell_type": "code",
   "execution_count": 151,
   "id": "b9218f71",
   "metadata": {},
   "outputs": [
    {
     "name": "stdout",
     "output_type": "stream",
     "text": [
      "Test Results for Random Forest Regressor Model:\n",
      "--------------------------------------------------\n",
      "Root mean squared error:  0.06\n",
      "R-squared:  0.95\n",
      "Explained Variance Score: 0.95\n"
     ]
    }
   ],
   "source": [
    "print(\"Test Results for Random Forest Regressor Model:\")\n",
    "print(50 * '-')\n",
    "print(\"Root mean squared error: \", round(sqrt(mse(y_test, y_test_pred)),2))\n",
    "print(\"R-squared: \", round(r2_score(y_test, y_test_pred),2))\n",
    "print(\"Explained Variance Score:\", round(explained_variance_score(y_test, y_test_pred),2))"
   ]
  },
  {
   "cell_type": "code",
   "execution_count": 152,
   "id": "2fe83221",
   "metadata": {},
   "outputs": [],
   "source": [
    "model_comparison[\"Random Forest Regressor\"]=[round(sqrt(mse(y_test, y_test_pred)),2),round(r2_score(y_test, y_test_pred),2)]"
   ]
  },
  {
   "cell_type": "code",
   "execution_count": null,
   "id": "229a32f3",
   "metadata": {},
   "outputs": [],
   "source": [
    "optimization_comparison[\"Random Forest Regressor\"]=[round(sqrt(mse(y_test, y_test_pred)),2),round(r2_score(y_test, y_test_pred),2)]"
   ]
  },
  {
   "cell_type": "markdown",
   "id": "2ea4af0b",
   "metadata": {},
   "source": [
    "### 6) XGBoost Regressor"
   ]
  },
  {
   "cell_type": "code",
   "execution_count": 51,
   "id": "57de7d3f",
   "metadata": {},
   "outputs": [
    {
     "data": {
      "text/html": [
       "<style>#sk-container-id-6 {color: black;background-color: white;}#sk-container-id-6 pre{padding: 0;}#sk-container-id-6 div.sk-toggleable {background-color: white;}#sk-container-id-6 label.sk-toggleable__label {cursor: pointer;display: block;width: 100%;margin-bottom: 0;padding: 0.3em;box-sizing: border-box;text-align: center;}#sk-container-id-6 label.sk-toggleable__label-arrow:before {content: \"▸\";float: left;margin-right: 0.25em;color: #696969;}#sk-container-id-6 label.sk-toggleable__label-arrow:hover:before {color: black;}#sk-container-id-6 div.sk-estimator:hover label.sk-toggleable__label-arrow:before {color: black;}#sk-container-id-6 div.sk-toggleable__content {max-height: 0;max-width: 0;overflow: hidden;text-align: left;background-color: #f0f8ff;}#sk-container-id-6 div.sk-toggleable__content pre {margin: 0.2em;color: black;border-radius: 0.25em;background-color: #f0f8ff;}#sk-container-id-6 input.sk-toggleable__control:checked~div.sk-toggleable__content {max-height: 200px;max-width: 100%;overflow: auto;}#sk-container-id-6 input.sk-toggleable__control:checked~label.sk-toggleable__label-arrow:before {content: \"▾\";}#sk-container-id-6 div.sk-estimator input.sk-toggleable__control:checked~label.sk-toggleable__label {background-color: #d4ebff;}#sk-container-id-6 div.sk-label input.sk-toggleable__control:checked~label.sk-toggleable__label {background-color: #d4ebff;}#sk-container-id-6 input.sk-hidden--visually {border: 0;clip: rect(1px 1px 1px 1px);clip: rect(1px, 1px, 1px, 1px);height: 1px;margin: -1px;overflow: hidden;padding: 0;position: absolute;width: 1px;}#sk-container-id-6 div.sk-estimator {font-family: monospace;background-color: #f0f8ff;border: 1px dotted black;border-radius: 0.25em;box-sizing: border-box;margin-bottom: 0.5em;}#sk-container-id-6 div.sk-estimator:hover {background-color: #d4ebff;}#sk-container-id-6 div.sk-parallel-item::after {content: \"\";width: 100%;border-bottom: 1px solid gray;flex-grow: 1;}#sk-container-id-6 div.sk-label:hover label.sk-toggleable__label {background-color: #d4ebff;}#sk-container-id-6 div.sk-serial::before {content: \"\";position: absolute;border-left: 1px solid gray;box-sizing: border-box;top: 0;bottom: 0;left: 50%;z-index: 0;}#sk-container-id-6 div.sk-serial {display: flex;flex-direction: column;align-items: center;background-color: white;padding-right: 0.2em;padding-left: 0.2em;position: relative;}#sk-container-id-6 div.sk-item {position: relative;z-index: 1;}#sk-container-id-6 div.sk-parallel {display: flex;align-items: stretch;justify-content: center;background-color: white;position: relative;}#sk-container-id-6 div.sk-item::before, #sk-container-id-6 div.sk-parallel-item::before {content: \"\";position: absolute;border-left: 1px solid gray;box-sizing: border-box;top: 0;bottom: 0;left: 50%;z-index: -1;}#sk-container-id-6 div.sk-parallel-item {display: flex;flex-direction: column;z-index: 1;position: relative;background-color: white;}#sk-container-id-6 div.sk-parallel-item:first-child::after {align-self: flex-end;width: 50%;}#sk-container-id-6 div.sk-parallel-item:last-child::after {align-self: flex-start;width: 50%;}#sk-container-id-6 div.sk-parallel-item:only-child::after {width: 0;}#sk-container-id-6 div.sk-dashed-wrapped {border: 1px dashed gray;margin: 0 0.4em 0.5em 0.4em;box-sizing: border-box;padding-bottom: 0.4em;background-color: white;}#sk-container-id-6 div.sk-label label {font-family: monospace;font-weight: bold;display: inline-block;line-height: 1.2em;}#sk-container-id-6 div.sk-label-container {text-align: center;}#sk-container-id-6 div.sk-container {/* jupyter's `normalize.less` sets `[hidden] { display: none; }` but bootstrap.min.css set `[hidden] { display: none !important; }` so we also need the `!important` here to be able to override the default hidden behavior on the sphinx rendered scikit-learn.org. See: https://github.com/scikit-learn/scikit-learn/issues/21755 */display: inline-block !important;position: relative;}#sk-container-id-6 div.sk-text-repr-fallback {display: none;}</style><div id=\"sk-container-id-6\" class=\"sk-top-container\"><div class=\"sk-text-repr-fallback\"><pre>RandomizedSearchCV(cv=5,\n",
       "                   estimator=XGBRegressor(base_score=None, booster=None,\n",
       "                                          callbacks=None,\n",
       "                                          colsample_bylevel=None,\n",
       "                                          colsample_bynode=None,\n",
       "                                          colsample_bytree=None,\n",
       "                                          early_stopping_rounds=None,\n",
       "                                          enable_categorical=False,\n",
       "                                          eval_metric=None, feature_types=None,\n",
       "                                          gamma=None, gpu_id=None,\n",
       "                                          grow_policy=None,\n",
       "                                          importance_type=None,\n",
       "                                          interaction_constraints=None,\n",
       "                                          learning_rate=...\n",
       "                                          min_child_weight=None, missing=nan,\n",
       "                                          monotone_constraints=None,\n",
       "                                          n_estimators=100, n_jobs=None,\n",
       "                                          num_parallel_tree=None,\n",
       "                                          predictor=None, random_state=None, ...),\n",
       "                   n_iter=20, n_jobs=-1,\n",
       "                   param_distributions={&#x27;learning_rate&#x27;: [0.01, 0.05, 0.1],\n",
       "                                        &#x27;max_depth&#x27;: [1, 2, 3, 4, 5],\n",
       "                                        &#x27;n_estimators&#x27;: [100, 200, 300, 400,\n",
       "                                                         500],\n",
       "                                        &#x27;reg_lambda&#x27;: [0.001, 0.1, 1.0, 10.0,\n",
       "                                                       100.0]},\n",
       "                   scoring=&#x27;neg_mean_absolute_error&#x27;)</pre><b>In a Jupyter environment, please rerun this cell to show the HTML representation or trust the notebook. <br />On GitHub, the HTML representation is unable to render, please try loading this page with nbviewer.org.</b></div><div class=\"sk-container\" hidden><div class=\"sk-item sk-dashed-wrapped\"><div class=\"sk-label-container\"><div class=\"sk-label sk-toggleable\"><input class=\"sk-toggleable__control sk-hidden--visually\" id=\"sk-estimator-id-16\" type=\"checkbox\" ><label for=\"sk-estimator-id-16\" class=\"sk-toggleable__label sk-toggleable__label-arrow\">RandomizedSearchCV</label><div class=\"sk-toggleable__content\"><pre>RandomizedSearchCV(cv=5,\n",
       "                   estimator=XGBRegressor(base_score=None, booster=None,\n",
       "                                          callbacks=None,\n",
       "                                          colsample_bylevel=None,\n",
       "                                          colsample_bynode=None,\n",
       "                                          colsample_bytree=None,\n",
       "                                          early_stopping_rounds=None,\n",
       "                                          enable_categorical=False,\n",
       "                                          eval_metric=None, feature_types=None,\n",
       "                                          gamma=None, gpu_id=None,\n",
       "                                          grow_policy=None,\n",
       "                                          importance_type=None,\n",
       "                                          interaction_constraints=None,\n",
       "                                          learning_rate=...\n",
       "                                          min_child_weight=None, missing=nan,\n",
       "                                          monotone_constraints=None,\n",
       "                                          n_estimators=100, n_jobs=None,\n",
       "                                          num_parallel_tree=None,\n",
       "                                          predictor=None, random_state=None, ...),\n",
       "                   n_iter=20, n_jobs=-1,\n",
       "                   param_distributions={&#x27;learning_rate&#x27;: [0.01, 0.05, 0.1],\n",
       "                                        &#x27;max_depth&#x27;: [1, 2, 3, 4, 5],\n",
       "                                        &#x27;n_estimators&#x27;: [100, 200, 300, 400,\n",
       "                                                         500],\n",
       "                                        &#x27;reg_lambda&#x27;: [0.001, 0.1, 1.0, 10.0,\n",
       "                                                       100.0]},\n",
       "                   scoring=&#x27;neg_mean_absolute_error&#x27;)</pre></div></div></div><div class=\"sk-parallel\"><div class=\"sk-parallel-item\"><div class=\"sk-item\"><div class=\"sk-label-container\"><div class=\"sk-label sk-toggleable\"><input class=\"sk-toggleable__control sk-hidden--visually\" id=\"sk-estimator-id-17\" type=\"checkbox\" ><label for=\"sk-estimator-id-17\" class=\"sk-toggleable__label sk-toggleable__label-arrow\">estimator: XGBRegressor</label><div class=\"sk-toggleable__content\"><pre>XGBRegressor(base_score=None, booster=None, callbacks=None,\n",
       "             colsample_bylevel=None, colsample_bynode=None,\n",
       "             colsample_bytree=None, early_stopping_rounds=None,\n",
       "             enable_categorical=False, eval_metric=None, feature_types=None,\n",
       "             gamma=None, gpu_id=None, grow_policy=None, importance_type=None,\n",
       "             interaction_constraints=None, learning_rate=None, max_bin=None,\n",
       "             max_cat_threshold=None, max_cat_to_onehot=None,\n",
       "             max_delta_step=None, max_depth=None, max_leaves=None,\n",
       "             min_child_weight=None, missing=nan, monotone_constraints=None,\n",
       "             n_estimators=100, n_jobs=None, num_parallel_tree=None,\n",
       "             predictor=None, random_state=None, ...)</pre></div></div></div><div class=\"sk-serial\"><div class=\"sk-item\"><div class=\"sk-estimator sk-toggleable\"><input class=\"sk-toggleable__control sk-hidden--visually\" id=\"sk-estimator-id-18\" type=\"checkbox\" ><label for=\"sk-estimator-id-18\" class=\"sk-toggleable__label sk-toggleable__label-arrow\">XGBRegressor</label><div class=\"sk-toggleable__content\"><pre>XGBRegressor(base_score=None, booster=None, callbacks=None,\n",
       "             colsample_bylevel=None, colsample_bynode=None,\n",
       "             colsample_bytree=None, early_stopping_rounds=None,\n",
       "             enable_categorical=False, eval_metric=None, feature_types=None,\n",
       "             gamma=None, gpu_id=None, grow_policy=None, importance_type=None,\n",
       "             interaction_constraints=None, learning_rate=None, max_bin=None,\n",
       "             max_cat_threshold=None, max_cat_to_onehot=None,\n",
       "             max_delta_step=None, max_depth=None, max_leaves=None,\n",
       "             min_child_weight=None, missing=nan, monotone_constraints=None,\n",
       "             n_estimators=100, n_jobs=None, num_parallel_tree=None,\n",
       "             predictor=None, random_state=None, ...)</pre></div></div></div></div></div></div></div></div></div></div>"
      ],
      "text/plain": [
       "RandomizedSearchCV(cv=5,\n",
       "                   estimator=XGBRegressor(base_score=None, booster=None,\n",
       "                                          callbacks=None,\n",
       "                                          colsample_bylevel=None,\n",
       "                                          colsample_bynode=None,\n",
       "                                          colsample_bytree=None,\n",
       "                                          early_stopping_rounds=None,\n",
       "                                          enable_categorical=False,\n",
       "                                          eval_metric=None, feature_types=None,\n",
       "                                          gamma=None, gpu_id=None,\n",
       "                                          grow_policy=None,\n",
       "                                          importance_type=None,\n",
       "                                          interaction_constraints=None,\n",
       "                                          learning_rate=...\n",
       "                                          min_child_weight=None, missing=nan,\n",
       "                                          monotone_constraints=None,\n",
       "                                          n_estimators=100, n_jobs=None,\n",
       "                                          num_parallel_tree=None,\n",
       "                                          predictor=None, random_state=None, ...),\n",
       "                   n_iter=20, n_jobs=-1,\n",
       "                   param_distributions={'learning_rate': [0.01, 0.05, 0.1],\n",
       "                                        'max_depth': [1, 2, 3, 4, 5],\n",
       "                                        'n_estimators': [100, 200, 300, 400,\n",
       "                                                         500],\n",
       "                                        'reg_lambda': [0.001, 0.1, 1.0, 10.0,\n",
       "                                                       100.0]},\n",
       "                   scoring='neg_mean_absolute_error')"
      ]
     },
     "execution_count": 51,
     "metadata": {},
     "output_type": "execute_result"
    }
   ],
   "source": [
    "tuned_params = {'max_depth': [1, 2, 3, 4, 5], 'learning_rate': [0.01, 0.05, 0.1], 'n_estimators': [100, 200, 300, 400, 500], 'reg_lambda': [0.001, 0.1, 1.0, 10.0, 100.0]}\n",
    "model = RandomizedSearchCV(XGBRegressor(), tuned_params, n_iter=20, scoring = 'neg_mean_absolute_error', cv=5, n_jobs=-1)\n",
    "model.fit(X_train, y_train)"
   ]
  },
  {
   "cell_type": "code",
   "execution_count": 115,
   "id": "6200d507",
   "metadata": {},
   "outputs": [
    {
     "data": {
      "text/plain": [
       "{'reg_lambda': 1.0, 'n_estimators': 400, 'max_depth': 5, 'learning_rate': 0.1}"
      ]
     },
     "execution_count": 115,
     "metadata": {},
     "output_type": "execute_result"
    }
   ],
   "source": [
    "model.best_params_"
   ]
  },
  {
   "cell_type": "code",
   "execution_count": 153,
   "id": "443acf6e",
   "metadata": {},
   "outputs": [],
   "source": [
    "y_train_pred = model.predict(X_train)\n",
    "y_test_pred = model.predict(X_test)"
   ]
  },
  {
   "cell_type": "code",
   "execution_count": 154,
   "id": "8387bf4d",
   "metadata": {},
   "outputs": [
    {
     "name": "stdout",
     "output_type": "stream",
     "text": [
      "Train Results for XGBoost Regressor Model:\n",
      "--------------------------------------------------\n",
      "Root mean squared error:  0.09\n",
      "R-squared:  0.9\n",
      "Explained Variance Score: 0.9\n"
     ]
    }
   ],
   "source": [
    "print(\"Train Results for XGBoost Regressor Model:\")\n",
    "print(50 * '-')\n",
    "print(\"Root mean squared error: \", round(sqrt(mse(y_train.values, y_train_pred)),2))\n",
    "print(\"R-squared: \", round(r2_score(y_train.values, y_train_pred),2))\n",
    "print(\"Explained Variance Score:\", round(explained_variance_score(y_train.values, y_train_pred),2))"
   ]
  },
  {
   "cell_type": "code",
   "execution_count": 155,
   "id": "f1f8da19",
   "metadata": {},
   "outputs": [
    {
     "name": "stdout",
     "output_type": "stream",
     "text": [
      "Test Results for XGBoost Regressor Model:\n",
      "--------------------------------------------------\n",
      "Root mean squared error:  0.1\n",
      "R-squared:  0.89\n",
      "Explained Variance Score: 0.89\n"
     ]
    }
   ],
   "source": [
    "print(\"Test Results for XGBoost Regressor Model:\")\n",
    "print(50 * '-')\n",
    "print(\"Root mean squared error: \", round(sqrt(mse(y_test, y_test_pred)),2))\n",
    "print(\"R-squared: \", round(r2_score(y_test, y_test_pred),2))\n",
    "print(\"Explained Variance Score:\", round(explained_variance_score(y_test, y_test_pred),2))"
   ]
  },
  {
   "cell_type": "code",
   "execution_count": 156,
   "id": "4d3fb307",
   "metadata": {},
   "outputs": [],
   "source": [
    "model_comparison[\"XGBoost Regressor\"]=[round(sqrt(mse(y_test, y_test_pred)),2),round(r2_score(y_test, y_test_pred),2)]"
   ]
  },
  {
   "cell_type": "markdown",
   "id": "902f7503",
   "metadata": {},
   "source": [
    "### 7) SVR"
   ]
  },
  {
   "cell_type": "code",
   "execution_count": 120,
   "id": "8b5df6d5",
   "metadata": {},
   "outputs": [],
   "source": [
    "svr = SVR(C=1.0, epsilon=0.2)\n",
    "svr.fit(X_train, y_train)"
   ]
  },
  {
   "cell_type": "code",
   "execution_count": 157,
   "id": "49071b3c",
   "metadata": {},
   "outputs": [],
   "source": [
    "y_train_pred = svr.predict(X_train)\n",
    "y_test_pred = svr.predict(X_test)"
   ]
  },
  {
   "cell_type": "code",
   "execution_count": 158,
   "id": "4ce0fd0a",
   "metadata": {},
   "outputs": [
    {
     "name": "stdout",
     "output_type": "stream",
     "text": [
      "Train Results for XGBoost Regressor Model:\n",
      "--------------------------------------------------\n",
      "Root mean squared error:  0.12\n",
      "R-squared:  0.82\n",
      "Explained Variance Score: 0.82\n"
     ]
    }
   ],
   "source": [
    "print(\"Train Results for XGBoost Regressor Model:\")\n",
    "print(50 * '-')\n",
    "print(\"Root mean squared error: \", round(sqrt(mse(y_train.values, y_train_pred)),2))\n",
    "print(\"R-squared: \", round(r2_score(y_train.values, y_train_pred),2))\n",
    "print(\"Explained Variance Score:\", round(explained_variance_score(y_train.values, y_train_pred),2))"
   ]
  },
  {
   "cell_type": "code",
   "execution_count": 159,
   "id": "1a397d73",
   "metadata": {},
   "outputs": [
    {
     "name": "stdout",
     "output_type": "stream",
     "text": [
      "Test Results for XGBoost Regressor Model:\n",
      "--------------------------------------------------\n",
      "Root mean squared error:  0.12\n",
      "R-squared:  0.82\n",
      "Explained Variance Score: 0.82\n"
     ]
    }
   ],
   "source": [
    "print(\"Test Results for XGBoost Regressor Model:\")\n",
    "print(50 * '-')\n",
    "print(\"Root mean squared error: \", round(sqrt(mse(y_test, y_test_pred)),2))\n",
    "print(\"R-squared: \", round(r2_score(y_test, y_test_pred),2))\n",
    "print(\"Explained Variance Score:\", round(explained_variance_score(y_test, y_test_pred),2))"
   ]
  },
  {
   "cell_type": "code",
   "execution_count": 160,
   "id": "28db4d00",
   "metadata": {},
   "outputs": [],
   "source": [
    "model_comparison[\"SVR\"]=[round(sqrt(mse(y_test, y_test_pred)),2),round(r2_score(y_test, y_test_pred),2)]"
   ]
  },
  {
   "cell_type": "markdown",
   "id": "67dfa0e3",
   "metadata": {},
   "source": [
    "## ML Algorithm Comparison"
   ]
  },
  {
   "cell_type": "code",
   "execution_count": 161,
   "id": "aff6abdc",
   "metadata": {},
   "outputs": [
    {
     "data": {
      "text/html": [
       "<style type=\"text/css\">\n",
       "#T_12dbb_row0_col0, #T_12dbb_row5_col1, #T_12dbb_row6_col1 {\n",
       "  background-color: #f7fbff;\n",
       "  color: #000000;\n",
       "}\n",
       "#T_12dbb_row0_col1, #T_12dbb_row5_col0, #T_12dbb_row6_col0 {\n",
       "  background-color: #08306b;\n",
       "  color: #f1f1f1;\n",
       "}\n",
       "#T_12dbb_row1_col0 {\n",
       "  background-color: #d0e1f2;\n",
       "  color: #000000;\n",
       "}\n",
       "#T_12dbb_row1_col1 {\n",
       "  background-color: #084387;\n",
       "  color: #f1f1f1;\n",
       "}\n",
       "#T_12dbb_row2_col0 {\n",
       "  background-color: #94c4df;\n",
       "  color: #000000;\n",
       "}\n",
       "#T_12dbb_row2_col1 {\n",
       "  background-color: #1b69af;\n",
       "  color: #f1f1f1;\n",
       "}\n",
       "#T_12dbb_row3_col0 {\n",
       "  background-color: #6aaed6;\n",
       "  color: #f1f1f1;\n",
       "}\n",
       "#T_12dbb_row3_col1 {\n",
       "  background-color: #4d99ca;\n",
       "  color: #f1f1f1;\n",
       "}\n",
       "#T_12dbb_row4_col0 {\n",
       "  background-color: #4a98c9;\n",
       "  color: #f1f1f1;\n",
       "}\n",
       "#T_12dbb_row4_col1 {\n",
       "  background-color: #65aad4;\n",
       "  color: #f1f1f1;\n",
       "}\n",
       "</style>\n",
       "<table id=\"T_12dbb\">\n",
       "  <thead>\n",
       "    <tr>\n",
       "      <th class=\"blank level0\" >&nbsp;</th>\n",
       "      <th id=\"T_12dbb_level0_col0\" class=\"col_heading level0 col0\" >MSE</th>\n",
       "      <th id=\"T_12dbb_level0_col1\" class=\"col_heading level0 col1\" >R2 Score</th>\n",
       "    </tr>\n",
       "  </thead>\n",
       "  <tbody>\n",
       "    <tr>\n",
       "      <th id=\"T_12dbb_level0_row0\" class=\"row_heading level0 row0\" >Random Forest Regressor</th>\n",
       "      <td id=\"T_12dbb_row0_col0\" class=\"data row0 col0\" >0.060000</td>\n",
       "      <td id=\"T_12dbb_row0_col1\" class=\"data row0 col1\" >0.950000</td>\n",
       "    </tr>\n",
       "    <tr>\n",
       "      <th id=\"T_12dbb_level0_row1\" class=\"row_heading level0 row1\" >Desicion Tree Regressor</th>\n",
       "      <td id=\"T_12dbb_row1_col0\" class=\"data row1 col0\" >0.080000</td>\n",
       "      <td id=\"T_12dbb_row1_col1\" class=\"data row1 col1\" >0.930000</td>\n",
       "    </tr>\n",
       "    <tr>\n",
       "      <th id=\"T_12dbb_level0_row2\" class=\"row_heading level0 row2\" >XGBoost Regressor</th>\n",
       "      <td id=\"T_12dbb_row2_col0\" class=\"data row2 col0\" >0.100000</td>\n",
       "      <td id=\"T_12dbb_row2_col1\" class=\"data row2 col1\" >0.890000</td>\n",
       "    </tr>\n",
       "    <tr>\n",
       "      <th id=\"T_12dbb_level0_row3\" class=\"row_heading level0 row3\" >KNN Regressor</th>\n",
       "      <td id=\"T_12dbb_row3_col0\" class=\"data row3 col0\" >0.110000</td>\n",
       "      <td id=\"T_12dbb_row3_col1\" class=\"data row3 col1\" >0.840000</td>\n",
       "    </tr>\n",
       "    <tr>\n",
       "      <th id=\"T_12dbb_level0_row4\" class=\"row_heading level0 row4\" >SVR</th>\n",
       "      <td id=\"T_12dbb_row4_col0\" class=\"data row4 col0\" >0.120000</td>\n",
       "      <td id=\"T_12dbb_row4_col1\" class=\"data row4 col1\" >0.820000</td>\n",
       "    </tr>\n",
       "    <tr>\n",
       "      <th id=\"T_12dbb_level0_row5\" class=\"row_heading level0 row5\" >Ridge Regressor</th>\n",
       "      <td id=\"T_12dbb_row5_col0\" class=\"data row5 col0\" >0.160000</td>\n",
       "      <td id=\"T_12dbb_row5_col1\" class=\"data row5 col1\" >0.680000</td>\n",
       "    </tr>\n",
       "    <tr>\n",
       "      <th id=\"T_12dbb_level0_row6\" class=\"row_heading level0 row6\" >Lasso Regressor</th>\n",
       "      <td id=\"T_12dbb_row6_col0\" class=\"data row6 col0\" >0.160000</td>\n",
       "      <td id=\"T_12dbb_row6_col1\" class=\"data row6 col1\" >0.680000</td>\n",
       "    </tr>\n",
       "  </tbody>\n",
       "</table>\n"
      ],
      "text/plain": [
       "<pandas.io.formats.style.Styler at 0x216cbb4bdc0>"
      ]
     },
     "execution_count": 161,
     "metadata": {},
     "output_type": "execute_result"
    }
   ],
   "source": [
    "df_comparison = pd.DataFrame.from_dict(model_comparison).T\n",
    "df_comparison.columns = ['MSE', 'R2 Score']\n",
    "df_comparison = df_comparison.sort_values('R2 Score', ascending=False)\n",
    "df_comparison.style.background_gradient(cmap='Blues')"
   ]
  },
  {
   "cell_type": "markdown",
   "id": "c8a67b35",
   "metadata": {},
   "source": [
    "### OPTIMAZING RANDOM FOREST REGRESSOR"
   ]
  },
  {
   "cell_type": "code",
   "execution_count": 164,
   "id": "7da575c4",
   "metadata": {},
   "outputs": [],
   "source": [
    "df_opt = df.drop([\"is_weekend\",\"departure_month\",\"part_of_month\",\"checked_week_day\",\"departure_week_day\"], axis=1)"
   ]
  },
  {
   "cell_type": "code",
   "execution_count": 165,
   "id": "78aeca33",
   "metadata": {},
   "outputs": [],
   "source": [
    "categorical_cols_opt = df_opt.select_dtypes(include=['category']).columns.to_list()"
   ]
  },
  {
   "cell_type": "code",
   "execution_count": 169,
   "id": "129c30bd",
   "metadata": {},
   "outputs": [],
   "source": [
    "dummies_data = pd.get_dummies(df_opt[categorical_cols_opt])\n",
    "df_updated_opt = pd.concat([df_opt.drop(categorical_cols_opt, axis=1), dummies_data], axis=1)"
   ]
  },
  {
   "cell_type": "code",
   "execution_count": 170,
   "id": "ca64a8a1",
   "metadata": {},
   "outputs": [],
   "source": [
    "X_opt = df_updated_opt.drop(['price_try'], axis=1)\n",
    "\n",
    "y_opt = df_updated_opt['price_try']"
   ]
  },
  {
   "cell_type": "code",
   "execution_count": 171,
   "id": "7aa881b9",
   "metadata": {},
   "outputs": [],
   "source": [
    "X_opt_scled = scaler.fit_transform(X_opt)"
   ]
  },
  {
   "cell_type": "code",
   "execution_count": 172,
   "id": "0bcaf762",
   "metadata": {},
   "outputs": [],
   "source": [
    "y_opt_log = np.log(y_opt)"
   ]
  },
  {
   "cell_type": "code",
   "execution_count": 173,
   "id": "19e687c9",
   "metadata": {},
   "outputs": [],
   "source": [
    "X_train_opt, X_test_opt, y_train_opt, y_test_opt = train_test_split(X_opt_scled, y_opt_log, test_size = 0.2, random_state = 0)"
   ]
  },
  {
   "cell_type": "code",
   "execution_count": 174,
   "id": "e9f2a83d",
   "metadata": {},
   "outputs": [
    {
     "data": {
      "text/html": [
       "<style>#sk-container-id-7 {color: black;background-color: white;}#sk-container-id-7 pre{padding: 0;}#sk-container-id-7 div.sk-toggleable {background-color: white;}#sk-container-id-7 label.sk-toggleable__label {cursor: pointer;display: block;width: 100%;margin-bottom: 0;padding: 0.3em;box-sizing: border-box;text-align: center;}#sk-container-id-7 label.sk-toggleable__label-arrow:before {content: \"▸\";float: left;margin-right: 0.25em;color: #696969;}#sk-container-id-7 label.sk-toggleable__label-arrow:hover:before {color: black;}#sk-container-id-7 div.sk-estimator:hover label.sk-toggleable__label-arrow:before {color: black;}#sk-container-id-7 div.sk-toggleable__content {max-height: 0;max-width: 0;overflow: hidden;text-align: left;background-color: #f0f8ff;}#sk-container-id-7 div.sk-toggleable__content pre {margin: 0.2em;color: black;border-radius: 0.25em;background-color: #f0f8ff;}#sk-container-id-7 input.sk-toggleable__control:checked~div.sk-toggleable__content {max-height: 200px;max-width: 100%;overflow: auto;}#sk-container-id-7 input.sk-toggleable__control:checked~label.sk-toggleable__label-arrow:before {content: \"▾\";}#sk-container-id-7 div.sk-estimator input.sk-toggleable__control:checked~label.sk-toggleable__label {background-color: #d4ebff;}#sk-container-id-7 div.sk-label input.sk-toggleable__control:checked~label.sk-toggleable__label {background-color: #d4ebff;}#sk-container-id-7 input.sk-hidden--visually {border: 0;clip: rect(1px 1px 1px 1px);clip: rect(1px, 1px, 1px, 1px);height: 1px;margin: -1px;overflow: hidden;padding: 0;position: absolute;width: 1px;}#sk-container-id-7 div.sk-estimator {font-family: monospace;background-color: #f0f8ff;border: 1px dotted black;border-radius: 0.25em;box-sizing: border-box;margin-bottom: 0.5em;}#sk-container-id-7 div.sk-estimator:hover {background-color: #d4ebff;}#sk-container-id-7 div.sk-parallel-item::after {content: \"\";width: 100%;border-bottom: 1px solid gray;flex-grow: 1;}#sk-container-id-7 div.sk-label:hover label.sk-toggleable__label {background-color: #d4ebff;}#sk-container-id-7 div.sk-serial::before {content: \"\";position: absolute;border-left: 1px solid gray;box-sizing: border-box;top: 0;bottom: 0;left: 50%;z-index: 0;}#sk-container-id-7 div.sk-serial {display: flex;flex-direction: column;align-items: center;background-color: white;padding-right: 0.2em;padding-left: 0.2em;position: relative;}#sk-container-id-7 div.sk-item {position: relative;z-index: 1;}#sk-container-id-7 div.sk-parallel {display: flex;align-items: stretch;justify-content: center;background-color: white;position: relative;}#sk-container-id-7 div.sk-item::before, #sk-container-id-7 div.sk-parallel-item::before {content: \"\";position: absolute;border-left: 1px solid gray;box-sizing: border-box;top: 0;bottom: 0;left: 50%;z-index: -1;}#sk-container-id-7 div.sk-parallel-item {display: flex;flex-direction: column;z-index: 1;position: relative;background-color: white;}#sk-container-id-7 div.sk-parallel-item:first-child::after {align-self: flex-end;width: 50%;}#sk-container-id-7 div.sk-parallel-item:last-child::after {align-self: flex-start;width: 50%;}#sk-container-id-7 div.sk-parallel-item:only-child::after {width: 0;}#sk-container-id-7 div.sk-dashed-wrapped {border: 1px dashed gray;margin: 0 0.4em 0.5em 0.4em;box-sizing: border-box;padding-bottom: 0.4em;background-color: white;}#sk-container-id-7 div.sk-label label {font-family: monospace;font-weight: bold;display: inline-block;line-height: 1.2em;}#sk-container-id-7 div.sk-label-container {text-align: center;}#sk-container-id-7 div.sk-container {/* jupyter's `normalize.less` sets `[hidden] { display: none; }` but bootstrap.min.css set `[hidden] { display: none !important; }` so we also need the `!important` here to be able to override the default hidden behavior on the sphinx rendered scikit-learn.org. See: https://github.com/scikit-learn/scikit-learn/issues/21755 */display: inline-block !important;position: relative;}#sk-container-id-7 div.sk-text-repr-fallback {display: none;}</style><div id=\"sk-container-id-7\" class=\"sk-top-container\"><div class=\"sk-text-repr-fallback\"><pre>RandomizedSearchCV(cv=5, estimator=RandomForestRegressor(), n_iter=20,\n",
       "                   n_jobs=-1,\n",
       "                   param_distributions={&#x27;min_samples_leaf&#x27;: [1, 2, 4],\n",
       "                                        &#x27;min_samples_split&#x27;: [2, 5, 10],\n",
       "                                        &#x27;n_estimators&#x27;: [100, 300, 500]},\n",
       "                   scoring=&#x27;neg_mean_absolute_error&#x27;)</pre><b>In a Jupyter environment, please rerun this cell to show the HTML representation or trust the notebook. <br />On GitHub, the HTML representation is unable to render, please try loading this page with nbviewer.org.</b></div><div class=\"sk-container\" hidden><div class=\"sk-item sk-dashed-wrapped\"><div class=\"sk-label-container\"><div class=\"sk-label sk-toggleable\"><input class=\"sk-toggleable__control sk-hidden--visually\" id=\"sk-estimator-id-19\" type=\"checkbox\" ><label for=\"sk-estimator-id-19\" class=\"sk-toggleable__label sk-toggleable__label-arrow\">RandomizedSearchCV</label><div class=\"sk-toggleable__content\"><pre>RandomizedSearchCV(cv=5, estimator=RandomForestRegressor(), n_iter=20,\n",
       "                   n_jobs=-1,\n",
       "                   param_distributions={&#x27;min_samples_leaf&#x27;: [1, 2, 4],\n",
       "                                        &#x27;min_samples_split&#x27;: [2, 5, 10],\n",
       "                                        &#x27;n_estimators&#x27;: [100, 300, 500]},\n",
       "                   scoring=&#x27;neg_mean_absolute_error&#x27;)</pre></div></div></div><div class=\"sk-parallel\"><div class=\"sk-parallel-item\"><div class=\"sk-item\"><div class=\"sk-label-container\"><div class=\"sk-label sk-toggleable\"><input class=\"sk-toggleable__control sk-hidden--visually\" id=\"sk-estimator-id-20\" type=\"checkbox\" ><label for=\"sk-estimator-id-20\" class=\"sk-toggleable__label sk-toggleable__label-arrow\">estimator: RandomForestRegressor</label><div class=\"sk-toggleable__content\"><pre>RandomForestRegressor()</pre></div></div></div><div class=\"sk-serial\"><div class=\"sk-item\"><div class=\"sk-estimator sk-toggleable\"><input class=\"sk-toggleable__control sk-hidden--visually\" id=\"sk-estimator-id-21\" type=\"checkbox\" ><label for=\"sk-estimator-id-21\" class=\"sk-toggleable__label sk-toggleable__label-arrow\">RandomForestRegressor</label><div class=\"sk-toggleable__content\"><pre>RandomForestRegressor()</pre></div></div></div></div></div></div></div></div></div></div>"
      ],
      "text/plain": [
       "RandomizedSearchCV(cv=5, estimator=RandomForestRegressor(), n_iter=20,\n",
       "                   n_jobs=-1,\n",
       "                   param_distributions={'min_samples_leaf': [1, 2, 4],\n",
       "                                        'min_samples_split': [2, 5, 10],\n",
       "                                        'n_estimators': [100, 300, 500]},\n",
       "                   scoring='neg_mean_absolute_error')"
      ]
     },
     "execution_count": 174,
     "metadata": {},
     "output_type": "execute_result"
    }
   ],
   "source": [
    "random_regressor.fit(X_train_opt, y_train_opt)"
   ]
  },
  {
   "cell_type": "code",
   "execution_count": 176,
   "id": "cb2c6ea9",
   "metadata": {},
   "outputs": [],
   "source": [
    "y_train_pred_opt = random_regressor.predict(X_train_opt)\n",
    "y_test_pred_opt = random_regressor.predict(X_test_opt)"
   ]
  },
  {
   "cell_type": "code",
   "execution_count": 177,
   "id": "e797e7c9",
   "metadata": {},
   "outputs": [
    {
     "name": "stdout",
     "output_type": "stream",
     "text": [
      "Train Results for Optimized Random Forest Regressor Model:\n",
      "--------------------------------------------------\n",
      "Root mean squared error:  0.02\n",
      "R-squared:  0.99\n",
      "Explained Variance Score: 0.99\n"
     ]
    }
   ],
   "source": [
    "print(\"Train Results for Optimized Random Forest Regressor Model:\")\n",
    "print(50 * '-')\n",
    "print(\"Root mean squared error: \", round(sqrt(mse(y_train_opt.values, y_train_pred_opt)),2))\n",
    "print(\"R-squared: \", round(r2_score(y_train_opt.values, y_train_pred_opt),2))\n",
    "print(\"Explained Variance Score:\", round(explained_variance_score(y_train_opt.values, y_train_pred_opt),2))"
   ]
  },
  {
   "cell_type": "code",
   "execution_count": 178,
   "id": "10a14624",
   "metadata": {},
   "outputs": [
    {
     "name": "stdout",
     "output_type": "stream",
     "text": [
      "Test Results for XGBoost Regressor Model:\n",
      "--------------------------------------------------\n",
      "Root mean squared error:  0.06\n",
      "R-squared:  0.96\n",
      "Explained Variance Score: 0.96\n"
     ]
    }
   ],
   "source": [
    "print(\"Test Results for XGBoost Regressor Model:\")\n",
    "print(50 * '-')\n",
    "print(\"Root mean squared error: \", round(sqrt(mse(y_test_opt, y_test_pred_opt)),2))\n",
    "print(\"R-squared: \", round(r2_score(y_test_opt, y_test_pred_opt),2))\n",
    "print(\"Explained Variance Score:\", round(explained_variance_score(y_test_opt, y_test_pred_opt),2))"
   ]
  },
  {
   "cell_type": "code",
   "execution_count": 192,
   "id": "9f4d03c8",
   "metadata": {},
   "outputs": [],
   "source": [
    "optimization_comparison[\"(Drop Least Imp Features)Random Forest Regressor\"]=[round(sqrt(mse(y_test_opt, y_test_pred_opt)),2), round(r2_score(y_test_opt, y_test_pred_opt),2)]"
   ]
  },
  {
   "cell_type": "code",
   "execution_count": 195,
   "id": "ecd4389b",
   "metadata": {},
   "outputs": [
    {
     "data": {
      "text/html": [
       "<style type=\"text/css\">\n",
       "#T_7218e_row0_col0, #T_7218e_row5_col1, #T_7218e_row6_col1 {\n",
       "  background-color: #f7fbff;\n",
       "  color: #000000;\n",
       "}\n",
       "#T_7218e_row0_col1, #T_7218e_row5_col0, #T_7218e_row6_col0 {\n",
       "  background-color: #08306b;\n",
       "  color: #f1f1f1;\n",
       "}\n",
       "#T_7218e_row1_col0 {\n",
       "  background-color: #d0e1f2;\n",
       "  color: #000000;\n",
       "}\n",
       "#T_7218e_row1_col1 {\n",
       "  background-color: #084387;\n",
       "  color: #f1f1f1;\n",
       "}\n",
       "#T_7218e_row2_col0 {\n",
       "  background-color: #94c4df;\n",
       "  color: #000000;\n",
       "}\n",
       "#T_7218e_row2_col1 {\n",
       "  background-color: #1b69af;\n",
       "  color: #f1f1f1;\n",
       "}\n",
       "#T_7218e_row3_col0 {\n",
       "  background-color: #6aaed6;\n",
       "  color: #f1f1f1;\n",
       "}\n",
       "#T_7218e_row3_col1 {\n",
       "  background-color: #4d99ca;\n",
       "  color: #f1f1f1;\n",
       "}\n",
       "#T_7218e_row4_col0 {\n",
       "  background-color: #4a98c9;\n",
       "  color: #f1f1f1;\n",
       "}\n",
       "#T_7218e_row4_col1 {\n",
       "  background-color: #65aad4;\n",
       "  color: #f1f1f1;\n",
       "}\n",
       "</style>\n",
       "<table id=\"T_7218e\">\n",
       "  <thead>\n",
       "    <tr>\n",
       "      <th class=\"blank level0\" >&nbsp;</th>\n",
       "      <th id=\"T_7218e_level0_col0\" class=\"col_heading level0 col0\" >MSE</th>\n",
       "      <th id=\"T_7218e_level0_col1\" class=\"col_heading level0 col1\" >R2 Score</th>\n",
       "    </tr>\n",
       "  </thead>\n",
       "  <tbody>\n",
       "    <tr>\n",
       "      <th id=\"T_7218e_level0_row0\" class=\"row_heading level0 row0\" >Random Forest Regressor</th>\n",
       "      <td id=\"T_7218e_row0_col0\" class=\"data row0 col0\" >0.060000</td>\n",
       "      <td id=\"T_7218e_row0_col1\" class=\"data row0 col1\" >0.950000</td>\n",
       "    </tr>\n",
       "    <tr>\n",
       "      <th id=\"T_7218e_level0_row1\" class=\"row_heading level0 row1\" >Desicion Tree Regressor</th>\n",
       "      <td id=\"T_7218e_row1_col0\" class=\"data row1 col0\" >0.080000</td>\n",
       "      <td id=\"T_7218e_row1_col1\" class=\"data row1 col1\" >0.930000</td>\n",
       "    </tr>\n",
       "    <tr>\n",
       "      <th id=\"T_7218e_level0_row2\" class=\"row_heading level0 row2\" >XGBoost Regressor</th>\n",
       "      <td id=\"T_7218e_row2_col0\" class=\"data row2 col0\" >0.100000</td>\n",
       "      <td id=\"T_7218e_row2_col1\" class=\"data row2 col1\" >0.890000</td>\n",
       "    </tr>\n",
       "    <tr>\n",
       "      <th id=\"T_7218e_level0_row3\" class=\"row_heading level0 row3\" >KNN Regressor</th>\n",
       "      <td id=\"T_7218e_row3_col0\" class=\"data row3 col0\" >0.110000</td>\n",
       "      <td id=\"T_7218e_row3_col1\" class=\"data row3 col1\" >0.840000</td>\n",
       "    </tr>\n",
       "    <tr>\n",
       "      <th id=\"T_7218e_level0_row4\" class=\"row_heading level0 row4\" >SVR</th>\n",
       "      <td id=\"T_7218e_row4_col0\" class=\"data row4 col0\" >0.120000</td>\n",
       "      <td id=\"T_7218e_row4_col1\" class=\"data row4 col1\" >0.820000</td>\n",
       "    </tr>\n",
       "    <tr>\n",
       "      <th id=\"T_7218e_level0_row5\" class=\"row_heading level0 row5\" >Ridge Regressor</th>\n",
       "      <td id=\"T_7218e_row5_col0\" class=\"data row5 col0\" >0.160000</td>\n",
       "      <td id=\"T_7218e_row5_col1\" class=\"data row5 col1\" >0.680000</td>\n",
       "    </tr>\n",
       "    <tr>\n",
       "      <th id=\"T_7218e_level0_row6\" class=\"row_heading level0 row6\" >Lasso Regressor</th>\n",
       "      <td id=\"T_7218e_row6_col0\" class=\"data row6 col0\" >0.160000</td>\n",
       "      <td id=\"T_7218e_row6_col1\" class=\"data row6 col1\" >0.680000</td>\n",
       "    </tr>\n",
       "  </tbody>\n",
       "</table>\n"
      ],
      "text/plain": [
       "<pandas.io.formats.style.Styler at 0x2165f828100>"
      ]
     },
     "execution_count": 195,
     "metadata": {},
     "output_type": "execute_result"
    }
   ],
   "source": [
    "optimization_comparison = pd.DataFrame.from_dict(optimization_comparison).T\n",
    "optimization_comparison.columns = ['MSE', 'R2 Score']\n",
    "optimization_comparison = optimization_comparison.sort_values('R2 Score', ascending=False)\n",
    "optimization_comparison.style.background_gradient(cmap='Blues')"
   ]
  },
  {
   "cell_type": "code",
   "execution_count": null,
   "id": "d0dd3654",
   "metadata": {},
   "outputs": [],
   "source": []
  }
 ],
 "metadata": {
  "kernelspec": {
   "display_name": "Python 3 (ipykernel)",
   "language": "python",
   "name": "python3"
  },
  "language_info": {
   "codemirror_mode": {
    "name": "ipython",
    "version": 3
   },
   "file_extension": ".py",
   "mimetype": "text/x-python",
   "name": "python",
   "nbconvert_exporter": "python",
   "pygments_lexer": "ipython3",
   "version": "3.10.7"
  }
 },
 "nbformat": 4,
 "nbformat_minor": 5
}
