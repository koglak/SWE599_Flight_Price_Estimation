{
 "cells": [
  {
   "cell_type": "code",
   "execution_count": 1,
   "id": "fb2839d0",
   "metadata": {},
   "outputs": [],
   "source": [
    "from selenium import webdriver\n",
    "from selenium.webdriver.common.by import By\n",
    "from selenium.webdriver.common.keys import Keys\n",
    "import selenium.common.exceptions as selexcept\n",
    "from selenium.webdriver.chrome.service import Service\n",
    "from webdriver_manager.chrome import ChromeDriverManager\n",
    "import logging\n",
    "\n",
    "import pandas as pd\n",
    "from datetime import datetime\n",
    "import os.path\n",
    "import re\n",
    "import sys\n",
    "import glob\n",
    "import time\n"
   ]
  },
  {
   "cell_type": "code",
   "execution_count": 2,
   "id": "786965dd",
   "metadata": {},
   "outputs": [
    {
     "name": "stderr",
     "output_type": "stream",
     "text": [
      "C:\\Users\\kogla\\AppData\\Local\\Temp\\ipykernel_32024\\6087466.py:1: UserWarning: Parsing dates in DD/MM/YYYY format when dayfirst=False (the default) was specified. This may lead to inconsistently parsed dates! Specify a format to ensure consistent parsing.\n",
      "  date_list = pd.date_range(start='14.11.2022',end='15.11.2022').strftime('%d.%m.%Y').tolist()\n"
     ]
    }
   ],
   "source": [
    "date_list = pd.date_range(start='14.11.2022',end='14.12.2022').strftime('%d.%m.%Y').tolist()"
   ]
  },
  {
   "cell_type": "code",
   "execution_count": 3,
   "id": "835af622",
   "metadata": {},
   "outputs": [],
   "source": [
    "airports=[[\"izmir\", \"adnan-menderes-havalimani\",\"adb\"],\n",
    "          [\"ankara\", \"esenboga-havalimani\",\"esb\"],\n",
    "          [\"antalya\",\"havalimani\",\"ayt\"],\n",
    "          [\"adana\",\"sakir-pasa-havalimani\",\"ada\"],\n",
    "          [\"bodrum\",\"milas-havalimani\",\"bjv\"],\n",
    "          [\"dalaman\",\"havalimani\",\"dlm\"],\n",
    "          [\"trabzon\",\"havalimani\",\"tzx\"],\n",
    "          [\"gaziantep\",\"oguzeli-havalimani\",\"gzt\"],\n",
    "          [\"diyarbakir\",\"havalimani\",\"diy\"],\n",
    "          [\"hatay\",\"havalimani\",\"hty\"],\n",
    "          [\"kars\",\"havalimani\",\"ksy\"],\n",
    "          [\"erzurum\",\"havalimani\",\"erz\"],\n",
    "          [\"mardin\",\"havalimani\",\"mqm\"],\n",
    "]"
   ]
  },
  {
   "cell_type": "code",
   "execution_count": 4,
   "id": "b48830b0",
   "metadata": {},
   "outputs": [],
   "source": [
    "URLs=[]\n",
    "for date_len in range(0,len(date_list)):\n",
    "    for dep in range(0,len(airports)):\n",
    "        url= \"https://www.enuygun.com/ucak-bileti/istanbul-\"+ airports[dep][0]+\"-\"+airports[dep][1]+\"-ista-\"+airports[dep][2]+\"/?gidis=\"+date_list[date_len]+\"&yetiskin=1&sinif=ekonomi&aktarmasiz=1&save=1&geotrip=domestic&trip=domestic\"\n",
    "        URLs.append(url)\n"
   ]
  },
  {
   "cell_type": "code",
   "execution_count": 5,
   "id": "43aca948",
   "metadata": {},
   "outputs": [],
   "source": [
    "from selenium.webdriver.chrome.options import Options\n",
    "#create empty dataframe\n",
    "df=pd.DataFrame()\n",
    "\n",
    "options = Options()\n",
    "options.headless = True\n",
    "#driver = webdriver.Chrome(service=Service(ChromeDriverManager().install()))\n",
    "\n",
    "try:\n",
    "    for num in range(0,len(URLs)):\n",
    "        #run driver on Chrome\n",
    "        with webdriver.Chrome(service=Service(ChromeDriverManager().install()), options= options) as driver:\n",
    "            driver.get(URLs[num])\n",
    "            time.sleep(2)\n",
    "        \n",
    "            #get flights\n",
    "            flights= driver.find_elements(By.CLASS_NAME, \"flight-summary-infos\")\n",
    "            flights_list=[]\n",
    "\n",
    "            #push each flight info to flights_list\n",
    "            for flight in flights: \n",
    "                checked_date=datetime.now().strftime(\"%d/%m/%Y %H:%M\")\n",
    "                company= flight.find_elements(By.CLASS_NAME, \"summary-marketing-airlines\")[0].text\n",
    "                departure_airport= flight.find_elements(By.CLASS_NAME, \"itemAirport\")[0].text\n",
    "                arrival_airport= flight.find_elements(By.CLASS_NAME, \"itemAirport\")[2].text\n",
    "                departure_time= flight.find_elements(By.CLASS_NAME, \"flight-departure-time\")[0].text\n",
    "                arrival_time= flight.find_elements(By.CLASS_NAME, \"flight-arrival-time\")[0].text\n",
    "                departure_date= flight.find_elements(By.XPATH, \"//*[@id='SearchRoot']/div/div[1]/div/div[1]/div\")[0].text.split('|')[1]\n",
    "                duration= flight.find_elements(By.XPATH, \"//*[@id='SearchRoot']/div/div[2]/div[2]/div/div[2]/div[1]/div/div[2]/div[1]/div/div[1]/div[2]/div/div[3]/div[2]/span\")[0].text\n",
    "                price= flight.find_elements(By.CLASS_NAME, \"money-int\")[0].text + flight.find_elements(By.CLASS_NAME, \"money-decimal\")[0].text\n",
    "\n",
    "                flight_item={\n",
    "                    'checked_date':checked_date,\n",
    "                    'company':company,\n",
    "                    'departure_airport':departure_airport,\n",
    "                    'arrival_airport': arrival_airport,\n",
    "                    'departure_time': departure_time,\n",
    "                    'arrival_time': arrival_time,\n",
    "                    'departure_date':departure_date,\n",
    "                    'duration': duration,\n",
    "                    'price':price,\n",
    "                }\n",
    "\n",
    "                flights_list.append(flight_item)\n",
    "\n",
    "                \n",
    "            #append dataframe\n",
    "            df = pd.concat([df, pd.DataFrame(flights_list)])\n",
    "\n",
    "    #save to local directory\n",
    "    df.to_csv(r'C:\\Users\\kogla\\OneDrive\\Masaüstü\\SWE599\\dataset\\{}.csv'.format(datetime.now().strftime(\"%d-%m-%Y\")), index = True, header=True)\n",
    "\n",
    "            \n",
    "except Exception as e:\n",
    "    logging.error(e, exc_info=True)\n",
    "    pass\n",
    "    "
   ]
  },
  {
   "cell_type": "code",
   "execution_count": null,
   "id": "72328e5d",
   "metadata": {},
   "outputs": [],
   "source": []
  }
 ],
 "metadata": {
  "kernelspec": {
   "display_name": "Python 3 (ipykernel)",
   "language": "python",
   "name": "python3"
  },
  "language_info": {
   "codemirror_mode": {
    "name": "ipython",
    "version": 3
   },
   "file_extension": ".py",
   "mimetype": "text/x-python",
   "name": "python",
   "nbconvert_exporter": "python",
   "pygments_lexer": "ipython3",
   "version": "3.10.7"
  }
 },
 "nbformat": 4,
 "nbformat_minor": 5
}
