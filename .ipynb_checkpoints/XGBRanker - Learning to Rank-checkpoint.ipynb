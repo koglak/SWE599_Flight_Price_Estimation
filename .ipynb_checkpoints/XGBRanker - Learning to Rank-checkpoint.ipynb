{
 "cells": [
  {
   "cell_type": "code",
   "execution_count": 1,
   "id": "0a6c8d74",
   "metadata": {},
   "outputs": [],
   "source": [
    "import pandas as pd\n",
    "import numpy as np\n",
    "\n",
    "import matplotlib.pyplot as plt\n",
    "import seaborn as sns\n",
    "\n",
    "from sklearn.model_selection import RandomizedSearchCV\n",
    "from sklearn.model_selection import GroupKFold\n",
    "from sklearn.model_selection import GridSearchCV\n",
    "from sklearn.metrics import ndcg_score\n",
    "from sklearn.metrics import fbeta_score, make_scorer\n",
    "from sklearn.model_selection import ShuffleSplit  \n",
    "\n",
    "from scipy import stats\n",
    "\n",
    "import xgboost as xgb\n",
    "\n",
    "from tqdm import tqdm"
   ]
  },
  {
   "cell_type": "code",
   "execution_count": 2,
   "id": "f0076f05",
   "metadata": {},
   "outputs": [
    {
     "data": {
      "text/html": [
       "<div>\n",
       "<style scoped>\n",
       "    .dataframe tbody tr th:only-of-type {\n",
       "        vertical-align: middle;\n",
       "    }\n",
       "\n",
       "    .dataframe tbody tr th {\n",
       "        vertical-align: top;\n",
       "    }\n",
       "\n",
       "    .dataframe thead th {\n",
       "        text-align: right;\n",
       "    }\n",
       "</style>\n",
       "<table border=\"1\" class=\"dataframe\">\n",
       "  <thead>\n",
       "    <tr style=\"text-align: right;\">\n",
       "      <th></th>\n",
       "      <th>company</th>\n",
       "      <th>departure_airport</th>\n",
       "      <th>arrival_airport</th>\n",
       "      <th>departure_time</th>\n",
       "      <th>arrival_time</th>\n",
       "      <th>departure_date</th>\n",
       "      <th>price_try</th>\n",
       "      <th>departure_week_day</th>\n",
       "      <th>checked_week_day</th>\n",
       "      <th>departure_day</th>\n",
       "      <th>departure_month</th>\n",
       "      <th>remaining_day_to_flight</th>\n",
       "      <th>arrival_city</th>\n",
       "      <th>departure_airport_name</th>\n",
       "      <th>departure_hour</th>\n",
       "      <th>part_of_day</th>\n",
       "      <th>is_weekend</th>\n",
       "      <th>part_of_month</th>\n",
       "      <th>duration(min)</th>\n",
       "    </tr>\n",
       "  </thead>\n",
       "  <tbody>\n",
       "    <tr>\n",
       "      <th>0</th>\n",
       "      <td>AnadoluJet</td>\n",
       "      <td>SAW</td>\n",
       "      <td>ADB</td>\n",
       "      <td>07:30:00</td>\n",
       "      <td>08:40:00</td>\n",
       "      <td>2022-11-14</td>\n",
       "      <td>506.99</td>\n",
       "      <td>Monday</td>\n",
       "      <td>Tuesday</td>\n",
       "      <td>14</td>\n",
       "      <td>11</td>\n",
       "      <td>13</td>\n",
       "      <td>Izmir</td>\n",
       "      <td>Sabiha Gökçen Airport</td>\n",
       "      <td>7</td>\n",
       "      <td>Early Morning</td>\n",
       "      <td>Weekday</td>\n",
       "      <td>Middle</td>\n",
       "      <td>70</td>\n",
       "    </tr>\n",
       "    <tr>\n",
       "      <th>1</th>\n",
       "      <td>AnadoluJet</td>\n",
       "      <td>SAW</td>\n",
       "      <td>ADB</td>\n",
       "      <td>09:20:00</td>\n",
       "      <td>10:30:00</td>\n",
       "      <td>2022-11-14</td>\n",
       "      <td>506.99</td>\n",
       "      <td>Monday</td>\n",
       "      <td>Tuesday</td>\n",
       "      <td>14</td>\n",
       "      <td>11</td>\n",
       "      <td>13</td>\n",
       "      <td>Izmir</td>\n",
       "      <td>Sabiha Gökçen Airport</td>\n",
       "      <td>9</td>\n",
       "      <td>Morning</td>\n",
       "      <td>Weekday</td>\n",
       "      <td>Middle</td>\n",
       "      <td>70</td>\n",
       "    </tr>\n",
       "    <tr>\n",
       "      <th>2</th>\n",
       "      <td>AnadoluJet</td>\n",
       "      <td>SAW</td>\n",
       "      <td>ADB</td>\n",
       "      <td>20:55:00</td>\n",
       "      <td>22:05:00</td>\n",
       "      <td>2022-11-14</td>\n",
       "      <td>506.99</td>\n",
       "      <td>Monday</td>\n",
       "      <td>Tuesday</td>\n",
       "      <td>14</td>\n",
       "      <td>11</td>\n",
       "      <td>13</td>\n",
       "      <td>Izmir</td>\n",
       "      <td>Sabiha Gökçen Airport</td>\n",
       "      <td>20</td>\n",
       "      <td>Evening</td>\n",
       "      <td>Weekday</td>\n",
       "      <td>Middle</td>\n",
       "      <td>70</td>\n",
       "    </tr>\n",
       "    <tr>\n",
       "      <th>3</th>\n",
       "      <td>Pegasus</td>\n",
       "      <td>SAW</td>\n",
       "      <td>ADB</td>\n",
       "      <td>23:35:00</td>\n",
       "      <td>00:45:00</td>\n",
       "      <td>2022-11-14</td>\n",
       "      <td>539.99</td>\n",
       "      <td>Monday</td>\n",
       "      <td>Tuesday</td>\n",
       "      <td>14</td>\n",
       "      <td>11</td>\n",
       "      <td>13</td>\n",
       "      <td>Izmir</td>\n",
       "      <td>Sabiha Gökçen Airport</td>\n",
       "      <td>23</td>\n",
       "      <td>Night</td>\n",
       "      <td>Weekday</td>\n",
       "      <td>Middle</td>\n",
       "      <td>70</td>\n",
       "    </tr>\n",
       "    <tr>\n",
       "      <th>4</th>\n",
       "      <td>Pegasus</td>\n",
       "      <td>SAW</td>\n",
       "      <td>ADB</td>\n",
       "      <td>09:10:00</td>\n",
       "      <td>10:20:00</td>\n",
       "      <td>2022-11-14</td>\n",
       "      <td>542.99</td>\n",
       "      <td>Monday</td>\n",
       "      <td>Tuesday</td>\n",
       "      <td>14</td>\n",
       "      <td>11</td>\n",
       "      <td>13</td>\n",
       "      <td>Izmir</td>\n",
       "      <td>Sabiha Gökçen Airport</td>\n",
       "      <td>9</td>\n",
       "      <td>Morning</td>\n",
       "      <td>Weekday</td>\n",
       "      <td>Middle</td>\n",
       "      <td>70</td>\n",
       "    </tr>\n",
       "  </tbody>\n",
       "</table>\n",
       "</div>"
      ],
      "text/plain": [
       "      company departure_airport arrival_airport departure_time arrival_time  \\\n",
       "0  AnadoluJet               SAW             ADB       07:30:00     08:40:00   \n",
       "1  AnadoluJet               SAW             ADB       09:20:00     10:30:00   \n",
       "2  AnadoluJet               SAW             ADB       20:55:00     22:05:00   \n",
       "3     Pegasus               SAW             ADB       23:35:00     00:45:00   \n",
       "4     Pegasus               SAW             ADB       09:10:00     10:20:00   \n",
       "\n",
       "  departure_date  price_try departure_week_day checked_week_day  \\\n",
       "0     2022-11-14     506.99             Monday          Tuesday   \n",
       "1     2022-11-14     506.99             Monday          Tuesday   \n",
       "2     2022-11-14     506.99             Monday          Tuesday   \n",
       "3     2022-11-14     539.99             Monday          Tuesday   \n",
       "4     2022-11-14     542.99             Monday          Tuesday   \n",
       "\n",
       "   departure_day  departure_month  remaining_day_to_flight arrival_city  \\\n",
       "0             14               11                       13        Izmir   \n",
       "1             14               11                       13        Izmir   \n",
       "2             14               11                       13        Izmir   \n",
       "3             14               11                       13        Izmir   \n",
       "4             14               11                       13        Izmir   \n",
       "\n",
       "  departure_airport_name  departure_hour    part_of_day is_weekend  \\\n",
       "0  Sabiha Gökçen Airport               7  Early Morning    Weekday   \n",
       "1  Sabiha Gökçen Airport               9        Morning    Weekday   \n",
       "2  Sabiha Gökçen Airport              20        Evening    Weekday   \n",
       "3  Sabiha Gökçen Airport              23          Night    Weekday   \n",
       "4  Sabiha Gökçen Airport               9        Morning    Weekday   \n",
       "\n",
       "  part_of_month  duration(min)  \n",
       "0        Middle             70  \n",
       "1        Middle             70  \n",
       "2        Middle             70  \n",
       "3        Middle             70  \n",
       "4        Middle             70  "
      ]
     },
     "execution_count": 2,
     "metadata": {},
     "output_type": "execute_result"
    }
   ],
   "source": [
    "df=pd.read_csv(r'C:\\Users\\kogla\\OneDrive\\SWE599-Flight-Ticket-Price-Estimation-Project\\merged.csv').drop(\"Unnamed: 0\", axis=1)\n",
    "df.head()"
   ]
  },
  {
   "cell_type": "code",
   "execution_count": 3,
   "id": "b0f5ad6d",
   "metadata": {},
   "outputs": [],
   "source": [
    "df_copy = df.copy()"
   ]
  },
  {
   "cell_type": "code",
   "execution_count": 4,
   "id": "1a9b8cba",
   "metadata": {},
   "outputs": [],
   "source": [
    "# departure_date, departure_day, departure_month info are held as is_weekend, departure_week_day and part_of_month. \n",
    "# departure_airport and departure_airport_name columns include same info. \n",
    "# arrival_airport and arrival_city columns include same info. Drop arrival_airport.\n",
    "# departure_time and departure_hour info are  held as part_of_day.\n",
    "# arrival_time info is not neccessary\n",
    "# checked_week_day is held as remaining_day_to_flight\n",
    "\n",
    "df_copy=df_copy.drop(['departure_date', 'departure_day', 'departure_month', 'departure_airport', 'arrival_airport','departure_time', 'departure_hour', 'arrival_time', 'checked_week_day',   ], axis=1)"
   ]
  },
  {
   "cell_type": "code",
   "execution_count": 5,
   "id": "9fa41af0",
   "metadata": {},
   "outputs": [
    {
     "name": "stdout",
     "output_type": "stream",
     "text": [
      "<class 'pandas.core.frame.DataFrame'>\n",
      "RangeIndex: 129513 entries, 0 to 129512\n",
      "Data columns (total 10 columns):\n",
      " #   Column                   Non-Null Count   Dtype   \n",
      "---  ------                   --------------   -----   \n",
      " 0   company                  129513 non-null  category\n",
      " 1   price_try                129513 non-null  int64   \n",
      " 2   departure_week_day       129513 non-null  category\n",
      " 3   remaining_day_to_flight  129513 non-null  int64   \n",
      " 4   arrival_city             129513 non-null  category\n",
      " 5   departure_airport_name   129513 non-null  category\n",
      " 6   part_of_day              129513 non-null  category\n",
      " 7   is_weekend               129513 non-null  category\n",
      " 8   part_of_month            129513 non-null  category\n",
      " 9   duration(min)            129513 non-null  int64   \n",
      "dtypes: category(7), int64(3)\n",
      "memory usage: 3.8 MB\n"
     ]
    }
   ],
   "source": [
    "# asign types to columns\n",
    "df_copy['company'] = df_copy.company.astype('category')\n",
    "df_copy['departure_airport_name'] = df_copy.departure_airport_name.astype('category')\n",
    "df_copy['arrival_city'] = df_copy.arrival_city.astype('category')\n",
    "df_copy['part_of_day'] = df_copy.part_of_day.astype('category')\n",
    "df_copy['departure_week_day'] = df_copy.departure_week_day.astype('category')\n",
    "df_copy['part_of_month'] = df_copy.part_of_month.astype('category')\n",
    "df_copy['is_weekend'] = df_copy.is_weekend.astype('category')\n",
    "df_copy[\"price_try\"] = df_copy[\"price_try\"].astype(\"int64\")\n",
    "\n",
    "df_copy.info()"
   ]
  },
  {
   "cell_type": "code",
   "execution_count": 6,
   "id": "b070edb1",
   "metadata": {},
   "outputs": [],
   "source": [
    "# change column order to increase readibility\n",
    "df_copy = df_copy[['company', 'departure_airport_name', 'arrival_city','part_of_day', 'departure_week_day', \n",
    "                   'part_of_month','is_weekend', 'duration(min)','price_try', 'remaining_day_to_flight' ]]"
   ]
  },
  {
   "cell_type": "code",
   "execution_count": 7,
   "id": "cc9ca310",
   "metadata": {},
   "outputs": [
    {
     "data": {
      "text/plain": [
       "['company',\n",
       " 'departure_airport_name',\n",
       " 'part_of_day',\n",
       " 'departure_week_day',\n",
       " 'part_of_month',\n",
       " 'is_weekend']"
      ]
     },
     "execution_count": 7,
     "metadata": {},
     "output_type": "execute_result"
    }
   ],
   "source": [
    "# get list of categorical columns except arrival_city\n",
    "categorical_cols = df_copy.select_dtypes(include=['category']).columns.to_list()\n",
    "categorical_cols.remove(\"arrival_city\")\n",
    "categorical_cols"
   ]
  },
  {
   "cell_type": "code",
   "execution_count": 8,
   "id": "196ecd2b",
   "metadata": {},
   "outputs": [],
   "source": [
    "# convert categorical columns to numbers except arrival_city\n",
    "dummies_data = pd.get_dummies(df_copy[categorical_cols])\n",
    "df_copy = pd.concat([df_copy.drop(categorical_cols, axis=1), dummies_data], axis=1)"
   ]
  },
  {
   "cell_type": "code",
   "execution_count": 9,
   "id": "1172200c",
   "metadata": {},
   "outputs": [],
   "source": [
    "# rename columns\n",
    "df_copy.rename(columns = {'company_Türk Hava Yolları':'TurkishAirlines', \n",
    "                          'company_AnadoluJet':'AnadoluJet',\n",
    "                          'company_Pegasus': 'Pegasus',\n",
    "                          'departure_airport_name_Istanbul Airport': 'Istanbul_Airport',\n",
    "                          'departure_airport_name_Sabiha Gökçen Airport': 'Sabiha_Gokcen',\n",
    "                          'part_of_day_Early Morning': 'Early_Morning_Flights',\n",
    "                          'part_of_day_Morning': 'Morning_Flights',\n",
    "                          'part_of_day_Noon': 'Noon_Flights',\n",
    "                          'part_of_day_Evening': 'Evening_Flights',\n",
    "                          'part_of_day_Night': 'Night_Flights',\n",
    "                          'part_of_day_Late Night': 'Late_Night_Flights',\n",
    "                          'departure_week_day_Monday': 'Monday_Flights',\n",
    "                          'departure_week_day_Tuesday': 'Tuesday_Flights',\n",
    "                          'departure_week_day_Wednesday': 'Wednesday_Flights',\n",
    "                          'departure_week_day_Thursday': 'Thursday_Flights',\n",
    "                          'departure_week_day_Friday': 'Friday_Flights',\n",
    "                          'departure_week_day_Saturday': 'Saturday_Flights',\n",
    "                          'departure_week_day_Sunday': 'Sunday_Flights',\n",
    "                          'part_of_month_Beginning': 'Beginning_of_Month',\n",
    "                          'part_of_month_Middle': 'Middle_of_Month',\n",
    "                          'part_of_month_End': 'End_of_Month',\n",
    "                          'is_weekend_Weekday': 'Weekday_Flight',\n",
    "                          'is_weekend_Weekend': 'Weekend_Flights'}, inplace = True)\n"
   ]
  },
  {
   "cell_type": "code",
   "execution_count": 10,
   "id": "f5d1e5cb",
   "metadata": {},
   "outputs": [
    {
     "name": "stderr",
     "output_type": "stream",
     "text": [
      "C:\\Users\\kogla\\AppData\\Local\\Temp\\ipykernel_9792\\3914392864.py:23: SettingWithCopyWarning: \n",
      "A value is trying to be set on a copy of a slice from a DataFrame.\n",
      "Try using .loc[row_indexer,col_indexer] = value instead\n",
      "\n",
      "See the caveats in the documentation: https://pandas.pydata.org/pandas-docs/stable/user_guide/indexing.html#returning-a-view-versus-a-copy\n",
      "  group['Rank'] = np.select(conditions, values)\n",
      "C:\\Users\\kogla\\AppData\\Local\\Temp\\ipykernel_9792\\3914392864.py:24: FutureWarning: The frame.append method is deprecated and will be removed from pandas in a future version. Use pandas.concat instead.\n",
      "  group.append(df_rank, ignore_index=True)\n",
      "C:\\Users\\kogla\\AppData\\Local\\Temp\\ipykernel_9792\\3914392864.py:23: SettingWithCopyWarning: \n",
      "A value is trying to be set on a copy of a slice from a DataFrame.\n",
      "Try using .loc[row_indexer,col_indexer] = value instead\n",
      "\n",
      "See the caveats in the documentation: https://pandas.pydata.org/pandas-docs/stable/user_guide/indexing.html#returning-a-view-versus-a-copy\n",
      "  group['Rank'] = np.select(conditions, values)\n",
      "C:\\Users\\kogla\\AppData\\Local\\Temp\\ipykernel_9792\\3914392864.py:24: FutureWarning: The frame.append method is deprecated and will be removed from pandas in a future version. Use pandas.concat instead.\n",
      "  group.append(df_rank, ignore_index=True)\n",
      "C:\\Users\\kogla\\AppData\\Local\\Temp\\ipykernel_9792\\3914392864.py:23: SettingWithCopyWarning: \n",
      "A value is trying to be set on a copy of a slice from a DataFrame.\n",
      "Try using .loc[row_indexer,col_indexer] = value instead\n",
      "\n",
      "See the caveats in the documentation: https://pandas.pydata.org/pandas-docs/stable/user_guide/indexing.html#returning-a-view-versus-a-copy\n",
      "  group['Rank'] = np.select(conditions, values)\n",
      "C:\\Users\\kogla\\AppData\\Local\\Temp\\ipykernel_9792\\3914392864.py:24: FutureWarning: The frame.append method is deprecated and will be removed from pandas in a future version. Use pandas.concat instead.\n",
      "  group.append(df_rank, ignore_index=True)\n",
      "C:\\Users\\kogla\\AppData\\Local\\Temp\\ipykernel_9792\\3914392864.py:23: SettingWithCopyWarning: \n",
      "A value is trying to be set on a copy of a slice from a DataFrame.\n",
      "Try using .loc[row_indexer,col_indexer] = value instead\n",
      "\n",
      "See the caveats in the documentation: https://pandas.pydata.org/pandas-docs/stable/user_guide/indexing.html#returning-a-view-versus-a-copy\n",
      "  group['Rank'] = np.select(conditions, values)\n",
      "C:\\Users\\kogla\\AppData\\Local\\Temp\\ipykernel_9792\\3914392864.py:24: FutureWarning: The frame.append method is deprecated and will be removed from pandas in a future version. Use pandas.concat instead.\n",
      "  group.append(df_rank, ignore_index=True)\n",
      "C:\\Users\\kogla\\AppData\\Local\\Temp\\ipykernel_9792\\3914392864.py:23: SettingWithCopyWarning: \n",
      "A value is trying to be set on a copy of a slice from a DataFrame.\n",
      "Try using .loc[row_indexer,col_indexer] = value instead\n",
      "\n",
      "See the caveats in the documentation: https://pandas.pydata.org/pandas-docs/stable/user_guide/indexing.html#returning-a-view-versus-a-copy\n",
      "  group['Rank'] = np.select(conditions, values)\n",
      "C:\\Users\\kogla\\AppData\\Local\\Temp\\ipykernel_9792\\3914392864.py:24: FutureWarning: The frame.append method is deprecated and will be removed from pandas in a future version. Use pandas.concat instead.\n",
      "  group.append(df_rank, ignore_index=True)\n",
      "C:\\Users\\kogla\\AppData\\Local\\Temp\\ipykernel_9792\\3914392864.py:23: SettingWithCopyWarning: \n",
      "A value is trying to be set on a copy of a slice from a DataFrame.\n",
      "Try using .loc[row_indexer,col_indexer] = value instead\n",
      "\n",
      "See the caveats in the documentation: https://pandas.pydata.org/pandas-docs/stable/user_guide/indexing.html#returning-a-view-versus-a-copy\n",
      "  group['Rank'] = np.select(conditions, values)\n",
      "C:\\Users\\kogla\\AppData\\Local\\Temp\\ipykernel_9792\\3914392864.py:24: FutureWarning: The frame.append method is deprecated and will be removed from pandas in a future version. Use pandas.concat instead.\n",
      "  group.append(df_rank, ignore_index=True)\n",
      "C:\\Users\\kogla\\AppData\\Local\\Temp\\ipykernel_9792\\3914392864.py:23: SettingWithCopyWarning: \n",
      "A value is trying to be set on a copy of a slice from a DataFrame.\n",
      "Try using .loc[row_indexer,col_indexer] = value instead\n",
      "\n",
      "See the caveats in the documentation: https://pandas.pydata.org/pandas-docs/stable/user_guide/indexing.html#returning-a-view-versus-a-copy\n",
      "  group['Rank'] = np.select(conditions, values)\n",
      "C:\\Users\\kogla\\AppData\\Local\\Temp\\ipykernel_9792\\3914392864.py:24: FutureWarning: The frame.append method is deprecated and will be removed from pandas in a future version. Use pandas.concat instead.\n",
      "  group.append(df_rank, ignore_index=True)\n",
      "C:\\Users\\kogla\\AppData\\Local\\Temp\\ipykernel_9792\\3914392864.py:23: SettingWithCopyWarning: \n",
      "A value is trying to be set on a copy of a slice from a DataFrame.\n",
      "Try using .loc[row_indexer,col_indexer] = value instead\n",
      "\n",
      "See the caveats in the documentation: https://pandas.pydata.org/pandas-docs/stable/user_guide/indexing.html#returning-a-view-versus-a-copy\n",
      "  group['Rank'] = np.select(conditions, values)\n",
      "C:\\Users\\kogla\\AppData\\Local\\Temp\\ipykernel_9792\\3914392864.py:24: FutureWarning: The frame.append method is deprecated and will be removed from pandas in a future version. Use pandas.concat instead.\n",
      "  group.append(df_rank, ignore_index=True)\n",
      "C:\\Users\\kogla\\AppData\\Local\\Temp\\ipykernel_9792\\3914392864.py:23: SettingWithCopyWarning: \n",
      "A value is trying to be set on a copy of a slice from a DataFrame.\n",
      "Try using .loc[row_indexer,col_indexer] = value instead\n",
      "\n",
      "See the caveats in the documentation: https://pandas.pydata.org/pandas-docs/stable/user_guide/indexing.html#returning-a-view-versus-a-copy\n",
      "  group['Rank'] = np.select(conditions, values)\n",
      "C:\\Users\\kogla\\AppData\\Local\\Temp\\ipykernel_9792\\3914392864.py:24: FutureWarning: The frame.append method is deprecated and will be removed from pandas in a future version. Use pandas.concat instead.\n",
      "  group.append(df_rank, ignore_index=True)\n",
      "C:\\Users\\kogla\\AppData\\Local\\Temp\\ipykernel_9792\\3914392864.py:23: SettingWithCopyWarning: \n",
      "A value is trying to be set on a copy of a slice from a DataFrame.\n",
      "Try using .loc[row_indexer,col_indexer] = value instead\n",
      "\n",
      "See the caveats in the documentation: https://pandas.pydata.org/pandas-docs/stable/user_guide/indexing.html#returning-a-view-versus-a-copy\n",
      "  group['Rank'] = np.select(conditions, values)\n",
      "C:\\Users\\kogla\\AppData\\Local\\Temp\\ipykernel_9792\\3914392864.py:24: FutureWarning: The frame.append method is deprecated and will be removed from pandas in a future version. Use pandas.concat instead.\n",
      "  group.append(df_rank, ignore_index=True)\n",
      "C:\\Users\\kogla\\AppData\\Local\\Temp\\ipykernel_9792\\3914392864.py:23: SettingWithCopyWarning: \n",
      "A value is trying to be set on a copy of a slice from a DataFrame.\n",
      "Try using .loc[row_indexer,col_indexer] = value instead\n",
      "\n",
      "See the caveats in the documentation: https://pandas.pydata.org/pandas-docs/stable/user_guide/indexing.html#returning-a-view-versus-a-copy\n",
      "  group['Rank'] = np.select(conditions, values)\n",
      "C:\\Users\\kogla\\AppData\\Local\\Temp\\ipykernel_9792\\3914392864.py:24: FutureWarning: The frame.append method is deprecated and will be removed from pandas in a future version. Use pandas.concat instead.\n",
      "  group.append(df_rank, ignore_index=True)\n",
      "C:\\Users\\kogla\\AppData\\Local\\Temp\\ipykernel_9792\\3914392864.py:23: SettingWithCopyWarning: \n",
      "A value is trying to be set on a copy of a slice from a DataFrame.\n",
      "Try using .loc[row_indexer,col_indexer] = value instead\n",
      "\n",
      "See the caveats in the documentation: https://pandas.pydata.org/pandas-docs/stable/user_guide/indexing.html#returning-a-view-versus-a-copy\n",
      "  group['Rank'] = np.select(conditions, values)\n",
      "C:\\Users\\kogla\\AppData\\Local\\Temp\\ipykernel_9792\\3914392864.py:24: FutureWarning: The frame.append method is deprecated and will be removed from pandas in a future version. Use pandas.concat instead.\n",
      "  group.append(df_rank, ignore_index=True)\n",
      "C:\\Users\\kogla\\AppData\\Local\\Temp\\ipykernel_9792\\3914392864.py:23: SettingWithCopyWarning: \n",
      "A value is trying to be set on a copy of a slice from a DataFrame.\n",
      "Try using .loc[row_indexer,col_indexer] = value instead\n",
      "\n",
      "See the caveats in the documentation: https://pandas.pydata.org/pandas-docs/stable/user_guide/indexing.html#returning-a-view-versus-a-copy\n",
      "  group['Rank'] = np.select(conditions, values)\n",
      "C:\\Users\\kogla\\AppData\\Local\\Temp\\ipykernel_9792\\3914392864.py:24: FutureWarning: The frame.append method is deprecated and will be removed from pandas in a future version. Use pandas.concat instead.\n",
      "  group.append(df_rank, ignore_index=True)\n"
     ]
    }
   ],
   "source": [
    "# create rank column for price lower price has 1 rank, higher price has 5 rank\n",
    "\n",
    "cities=['Izmir','Ankara','Antalya','Adana','Bodrum Milas','Dalaman','Trabzon','Gaziantep','Diyarbakir','Hatay','Kars', 'Erzurum', 'Mardin']\n",
    "\n",
    "df_rank = pd.DataFrame()\n",
    "\n",
    "for city in cities:\n",
    "    group=df_copy[df_copy['arrival_city']==city]\n",
    "    ranges=group['price_try'].dropna().quantile([0.0, .10, .02, .03, .40, .05, .60, .07, .80, .09, 1]).tolist()\n",
    "    conditions = [\n",
    "    (group['price_try'] < ranges[1]),\n",
    "    (group['price_try'] >= ranges[1]) & (group['price_try'] < ranges[2]),\n",
    "    (group['price_try'] >= ranges[2]) & (group['price_try'] < ranges[3]),\n",
    "    (group['price_try'] >= ranges[3]) & (group['price_try'] < ranges[4]),\n",
    "    (group['price_try'] >= ranges[4]) & (group['price_try'] < ranges[5]),\n",
    "    (group['price_try'] >= ranges[5]) & (group['price_try'] < ranges[6]),\n",
    "    (group['price_try'] >= ranges[6]) & (group['price_try'] < ranges[7]),\n",
    "    (group['price_try'] >= ranges[7]) & (group['price_try'] < ranges[8]),\n",
    "    (group['price_try'] >= ranges[8]) & (group['price_try'] < ranges[9]),\n",
    "    (group['price_try'] >= ranges[9])\n",
    "    ]\n",
    "    values = [1, 2, 3, 4, 5, 6, 7, 8, 9, 10]\n",
    "    group['Rank'] = np.select(conditions, values)\n",
    "    group.append(df_rank, ignore_index=True)\n",
    "    df_rank = pd.concat([df_rank, group], ignore_index=True, sort=False)\n"
   ]
  },
  {
   "cell_type": "code",
   "execution_count": 11,
   "id": "55ed4239",
   "metadata": {},
   "outputs": [],
   "source": [
    "df_rank=df_rank.drop(\"price_try\",axis=1)"
   ]
  },
  {
   "cell_type": "code",
   "execution_count": 12,
   "id": "3ea64d48",
   "metadata": {},
   "outputs": [],
   "source": [
    "# split dataset\n",
    "shufflesplit = ShuffleSplit(n_splits=1, test_size=0.2, random_state=0) \n",
    "for train_index, test_index in shufflesplit.split(df_rank):\n",
    "    train_data, test_data = df_rank.iloc[train_index], df_rank.iloc[test_index]"
   ]
  },
  {
   "cell_type": "code",
   "execution_count": 13,
   "id": "fb5db7fa",
   "metadata": {},
   "outputs": [],
   "source": [
    "X_train = train_data.loc[:, ~train_data.columns.isin(['arrival_city','Rank'])]\n",
    "y_train = train_data.loc[:, train_data.columns.isin(['Rank'])]\n",
    "\n",
    "train_groups = train_data.groupby('arrival_city').size().to_frame('size')['size'].to_numpy()\n",
    "\n",
    "X_test = test_data.loc[:, ~test_data.columns.isin(['Rank'])]\n",
    "y_test = test_data.loc[:, test_data.columns.isin(['Rank'])]\n",
    "\n",
    "test_groups = test_data.groupby('arrival_city').size().to_frame('size')['size'].to_numpy()"
   ]
  },
  {
   "cell_type": "code",
   "execution_count": 14,
   "id": "c5636493",
   "metadata": {},
   "outputs": [
    {
     "data": {
      "text/plain": [
       "XGBRanker(base_score=0.5, booster='gbtree', callbacks=None, colsample_bylevel=1,\n",
       "          colsample_bynode=1, colsample_bytree=0.9, early_stopping_rounds=None,\n",
       "          enable_categorical=False, eta=0.05, eval_metric=None,\n",
       "          feature_types=None, gamma=0, gpu_id=-1, grow_policy='depthwise',\n",
       "          importance_type=None, interaction_constraints='', learning_rate=0.01,\n",
       "          max_bin=256, max_cat_threshold=64, max_cat_to_onehot=4,\n",
       "          max_delta_step=0, max_depth=6, max_leaves=0, min_child_weight=1,\n",
       "          missing=nan, monotone_constraints='()', n_estimators=110, n_jobs=-1,\n",
       "          num_parallel_tree=1, predictor='auto', ...)"
      ]
     },
     "execution_count": 14,
     "metadata": {},
     "output_type": "execute_result"
    }
   ],
   "source": [
    "model = xgb.XGBRanker(  \n",
    "    tree_method='hist',\n",
    "    booster='gbtree',\n",
    "    objective='rank:pairwise',\n",
    "    random_state=42, \n",
    "    learning_rate=0.01,\n",
    "    colsample_bytree=0.9, \n",
    "    eta=0.05, \n",
    "    max_depth=6, \n",
    "    n_estimators=110, \n",
    "    subsample=0.75,\n",
    "    n_jobs=-1\n",
    "    )\n",
    "\n",
    "model.fit(X_train, y_train, group=train_groups,verbose =True)"
   ]
  },
  {
   "cell_type": "code",
   "execution_count": 15,
   "id": "2cbabb04",
   "metadata": {},
   "outputs": [],
   "source": [
    "def predict(model, df):\n",
    "    return model.predict(df.loc[:, ~df.columns.isin(['arrival_city'])])\n",
    "  \n",
    "predictions = (X_test.groupby('arrival_city')\n",
    "               .apply(lambda x: predict(model, x)))"
   ]
  },
  {
   "cell_type": "code",
   "execution_count": 16,
   "id": "5aed7003",
   "metadata": {},
   "outputs": [
    {
     "data": {
      "text/plain": [
       "arrival_city\n",
       "Adana           [-0.11709097, 1.1395819, 1.0526363, 0.38866544...\n",
       "Ankara          [0.92612547, 0.89524597, -0.12034319, 0.976638...\n",
       "Antalya         [0.8260321, -0.05909036, 0.44269678, 0.9340899...\n",
       "Bodrum Milas    [1.0146289, 1.0164938, -0.029647062, 0.0887942...\n",
       "Dalaman         [0.685314, 1.0744288, 0.34581766, -0.12966713,...\n",
       "Diyarbakir      [0.31774002, 0.020756977, -0.09007273, 1.31948...\n",
       "Erzurum         [1.0349948, -0.11033684, 1.1388913, 0.06942023...\n",
       "Gaziantep       [0.7299784, 0.5338904, 0.22510853, -0.08266398...\n",
       "Hatay           [0.48270857, 1.0229379, -0.112122156, 1.008464...\n",
       "Izmir           [0.011397993, 0.06948578, 0.18973659, 0.029395...\n",
       "Kars            [1.2285287, -0.028343996, 0.068277225, -0.0921...\n",
       "Mardin          [0.25274906, 1.1636025, 1.1623865, 1.0158474, ...\n",
       "Trabzon         [-0.08911417, 0.9902932, -0.09238201, -0.14710...\n",
       "dtype: object"
      ]
     },
     "execution_count": 16,
     "metadata": {},
     "output_type": "execute_result"
    }
   ],
   "source": [
    "predictions"
   ]
  },
  {
   "cell_type": "code",
   "execution_count": 17,
   "id": "1b0f1612",
   "metadata": {},
   "outputs": [
    {
     "data": {
      "text/plain": [
       "arrival_city\n",
       "Adana           [2181, 1590, 2055, 1824, 1072, 696, 847, 1721,...\n",
       "Ankara          [1022, 1340, 1023, 3646, 2989, 7, 77, 3775, 15...\n",
       "Antalya         [324, 3139, 1015, 2614, 3253, 1119, 3324, 2986...\n",
       "Bodrum Milas    [1353, 326, 961, 251, 100, 1159, 451, 978, 107...\n",
       "Dalaman         [416, 650, 130, 31, 161, 536, 832, 418, 182, 5...\n",
       "Diyarbakir      [447, 246, 1135, 34, 1098, 532, 1074, 1086, 92...\n",
       "Erzurum         [605, 483, 266, 230, 686, 204, 495, 381, 417, ...\n",
       "Gaziantep       [877, 972, 1884, 856, 546, 1675, 1747, 1077, 5...\n",
       "Hatay           [337, 504, 495, 989, 512, 647, 715, 527, 157, ...\n",
       "Izmir           [3101, 2234, 462, 2230, 4240, 1375, 1292, 1520...\n",
       "Kars            [317, 71, 223, 295, 456, 204, 357, 253, 227, 4...\n",
       "Mardin          [224, 4, 241, 448, 264, 427, 379, 399, 160, 42...\n",
       "Trabzon         [340, 424, 1190, 1278, 2160, 1418, 1865, 2156,...\n",
       "dtype: object"
      ]
     },
     "execution_count": 17,
     "metadata": {},
     "output_type": "execute_result"
    }
   ],
   "source": [
    "predictions.apply(lambda pred: np.argsort(pred)[:-5])"
   ]
  },
  {
   "cell_type": "markdown",
   "id": "86539d93",
   "metadata": {},
   "source": [
    "## ADANA"
   ]
  },
  {
   "cell_type": "code",
   "execution_count": 26,
   "id": "50b99e8f",
   "metadata": {},
   "outputs": [
    {
     "data": {
      "text/html": [
       "<div>\n",
       "<style scoped>\n",
       "    .dataframe tbody tr th:only-of-type {\n",
       "        vertical-align: middle;\n",
       "    }\n",
       "\n",
       "    .dataframe tbody tr th {\n",
       "        vertical-align: top;\n",
       "    }\n",
       "\n",
       "    .dataframe thead th {\n",
       "        text-align: right;\n",
       "    }\n",
       "</style>\n",
       "<table border=\"1\" class=\"dataframe\">\n",
       "  <thead>\n",
       "    <tr style=\"text-align: right;\">\n",
       "      <th></th>\n",
       "      <th>arrival_city</th>\n",
       "      <th>Rank</th>\n",
       "    </tr>\n",
       "  </thead>\n",
       "  <tbody>\n",
       "    <tr>\n",
       "      <th>66385</th>\n",
       "      <td>Adana</td>\n",
       "      <td>1</td>\n",
       "    </tr>\n",
       "  </tbody>\n",
       "</table>\n",
       "</div>"
      ],
      "text/plain": [
       "      arrival_city  Rank\n",
       "66385        Adana     1"
      ]
     },
     "execution_count": 26,
     "metadata": {},
     "output_type": "execute_result"
    }
   ],
   "source": [
    "test_data[test_data[\"arrival_city\"]==\"Adana\"].iloc[[2055]][[\"arrival_city\",\"Rank\"]]"
   ]
  },
  {
   "cell_type": "code",
   "execution_count": 29,
   "id": "49b39227",
   "metadata": {},
   "outputs": [
    {
     "data": {
      "text/html": [
       "<div>\n",
       "<style scoped>\n",
       "    .dataframe tbody tr th:only-of-type {\n",
       "        vertical-align: middle;\n",
       "    }\n",
       "\n",
       "    .dataframe tbody tr th {\n",
       "        vertical-align: top;\n",
       "    }\n",
       "\n",
       "    .dataframe thead th {\n",
       "        text-align: right;\n",
       "    }\n",
       "</style>\n",
       "<table border=\"1\" class=\"dataframe\">\n",
       "  <thead>\n",
       "    <tr style=\"text-align: right;\">\n",
       "      <th></th>\n",
       "      <th>arrival_city</th>\n",
       "      <th>Rank</th>\n",
       "    </tr>\n",
       "  </thead>\n",
       "  <tbody>\n",
       "    <tr>\n",
       "      <th>64522</th>\n",
       "      <td>Adana</td>\n",
       "      <td>4</td>\n",
       "    </tr>\n",
       "  </tbody>\n",
       "</table>\n",
       "</div>"
      ],
      "text/plain": [
       "      arrival_city  Rank\n",
       "64522        Adana     4"
      ]
     },
     "execution_count": 29,
     "metadata": {},
     "output_type": "execute_result"
    }
   ],
   "source": [
    "test_data[test_data[\"arrival_city\"]==\"Adana\"].iloc[[1072]][[\"arrival_city\",\"Rank\"]]"
   ]
  },
  {
   "cell_type": "markdown",
   "id": "69a1af61",
   "metadata": {},
   "source": [
    "## ANKARA"
   ]
  },
  {
   "cell_type": "code",
   "execution_count": 34,
   "id": "3ea2dc1c",
   "metadata": {},
   "outputs": [
    {
     "data": {
      "text/html": [
       "<div>\n",
       "<style scoped>\n",
       "    .dataframe tbody tr th:only-of-type {\n",
       "        vertical-align: middle;\n",
       "    }\n",
       "\n",
       "    .dataframe tbody tr th {\n",
       "        vertical-align: top;\n",
       "    }\n",
       "\n",
       "    .dataframe thead th {\n",
       "        text-align: right;\n",
       "    }\n",
       "</style>\n",
       "<table border=\"1\" class=\"dataframe\">\n",
       "  <thead>\n",
       "    <tr style=\"text-align: right;\">\n",
       "      <th></th>\n",
       "      <th>arrival_city</th>\n",
       "      <th>Rank</th>\n",
       "    </tr>\n",
       "  </thead>\n",
       "  <tbody>\n",
       "    <tr>\n",
       "      <th>21978</th>\n",
       "      <td>Ankara</td>\n",
       "      <td>4</td>\n",
       "    </tr>\n",
       "  </tbody>\n",
       "</table>\n",
       "</div>"
      ],
      "text/plain": [
       "      arrival_city  Rank\n",
       "21978       Ankara     4"
      ]
     },
     "execution_count": 34,
     "metadata": {},
     "output_type": "execute_result"
    }
   ],
   "source": [
    "test_data[test_data[\"arrival_city\"]==\"Ankara\"].iloc[[1340]][[\"arrival_city\",\"Rank\"]]"
   ]
  },
  {
   "cell_type": "code",
   "execution_count": 35,
   "id": "2d2668f9",
   "metadata": {},
   "outputs": [
    {
     "data": {
      "text/html": [
       "<div>\n",
       "<style scoped>\n",
       "    .dataframe tbody tr th:only-of-type {\n",
       "        vertical-align: middle;\n",
       "    }\n",
       "\n",
       "    .dataframe tbody tr th {\n",
       "        vertical-align: top;\n",
       "    }\n",
       "\n",
       "    .dataframe thead th {\n",
       "        text-align: right;\n",
       "    }\n",
       "</style>\n",
       "<table border=\"1\" class=\"dataframe\">\n",
       "  <thead>\n",
       "    <tr style=\"text-align: right;\">\n",
       "      <th></th>\n",
       "      <th>arrival_city</th>\n",
       "      <th>Rank</th>\n",
       "    </tr>\n",
       "  </thead>\n",
       "  <tbody>\n",
       "    <tr>\n",
       "      <th>27360</th>\n",
       "      <td>Ankara</td>\n",
       "      <td>1</td>\n",
       "    </tr>\n",
       "  </tbody>\n",
       "</table>\n",
       "</div>"
      ],
      "text/plain": [
       "      arrival_city  Rank\n",
       "27360       Ankara     1"
      ]
     },
     "execution_count": 35,
     "metadata": {},
     "output_type": "execute_result"
    }
   ],
   "source": [
    "test_data[test_data[\"arrival_city\"]==\"Ankara\"].iloc[[1022]][[\"arrival_city\",\"Rank\"]]"
   ]
  },
  {
   "cell_type": "markdown",
   "id": "33356387",
   "metadata": {},
   "source": [
    "## ANTALYA"
   ]
  },
  {
   "cell_type": "code",
   "execution_count": 44,
   "id": "7f631093",
   "metadata": {},
   "outputs": [
    {
     "data": {
      "text/html": [
       "<div>\n",
       "<style scoped>\n",
       "    .dataframe tbody tr th:only-of-type {\n",
       "        vertical-align: middle;\n",
       "    }\n",
       "\n",
       "    .dataframe tbody tr th {\n",
       "        vertical-align: top;\n",
       "    }\n",
       "\n",
       "    .dataframe thead th {\n",
       "        text-align: right;\n",
       "    }\n",
       "</style>\n",
       "<table border=\"1\" class=\"dataframe\">\n",
       "  <thead>\n",
       "    <tr style=\"text-align: right;\">\n",
       "      <th></th>\n",
       "      <th>arrival_city</th>\n",
       "      <th>Rank</th>\n",
       "    </tr>\n",
       "  </thead>\n",
       "  <tbody>\n",
       "    <tr>\n",
       "      <th>45814</th>\n",
       "      <td>Antalya</td>\n",
       "      <td>1</td>\n",
       "    </tr>\n",
       "  </tbody>\n",
       "</table>\n",
       "</div>"
      ],
      "text/plain": [
       "      arrival_city  Rank\n",
       "45814      Antalya     1"
      ]
     },
     "execution_count": 44,
     "metadata": {},
     "output_type": "execute_result"
    }
   ],
   "source": [
    "test_data[test_data[\"arrival_city\"]==\"Antalya\"].iloc[[2986]][[\"arrival_city\",\"Rank\"]]"
   ]
  },
  {
   "cell_type": "markdown",
   "id": "fc121883",
   "metadata": {},
   "source": [
    "## BODRUM MİLAS"
   ]
  },
  {
   "cell_type": "code",
   "execution_count": 45,
   "id": "4c34ea48",
   "metadata": {},
   "outputs": [
    {
     "data": {
      "text/html": [
       "<div>\n",
       "<style scoped>\n",
       "    .dataframe tbody tr th:only-of-type {\n",
       "        vertical-align: middle;\n",
       "    }\n",
       "\n",
       "    .dataframe tbody tr th {\n",
       "        vertical-align: top;\n",
       "    }\n",
       "\n",
       "    .dataframe thead th {\n",
       "        text-align: right;\n",
       "    }\n",
       "</style>\n",
       "<table border=\"1\" class=\"dataframe\">\n",
       "  <thead>\n",
       "    <tr style=\"text-align: right;\">\n",
       "      <th></th>\n",
       "      <th>arrival_city</th>\n",
       "      <th>Rank</th>\n",
       "    </tr>\n",
       "  </thead>\n",
       "  <tbody>\n",
       "    <tr>\n",
       "      <th>75998</th>\n",
       "      <td>Bodrum Milas</td>\n",
       "      <td>1</td>\n",
       "    </tr>\n",
       "  </tbody>\n",
       "</table>\n",
       "</div>"
      ],
      "text/plain": [
       "       arrival_city  Rank\n",
       "75998  Bodrum Milas     1"
      ]
     },
     "execution_count": 45,
     "metadata": {},
     "output_type": "execute_result"
    }
   ],
   "source": [
    "test_data[test_data[\"arrival_city\"]==\"Bodrum Milas\"].iloc[[1353]][[\"arrival_city\",\"Rank\"]]"
   ]
  },
  {
   "cell_type": "code",
   "execution_count": 50,
   "id": "2be7ce9f",
   "metadata": {},
   "outputs": [
    {
     "data": {
      "text/html": [
       "<div>\n",
       "<style scoped>\n",
       "    .dataframe tbody tr th:only-of-type {\n",
       "        vertical-align: middle;\n",
       "    }\n",
       "\n",
       "    .dataframe tbody tr th {\n",
       "        vertical-align: top;\n",
       "    }\n",
       "\n",
       "    .dataframe thead th {\n",
       "        text-align: right;\n",
       "    }\n",
       "</style>\n",
       "<table border=\"1\" class=\"dataframe\">\n",
       "  <thead>\n",
       "    <tr style=\"text-align: right;\">\n",
       "      <th></th>\n",
       "      <th>arrival_city</th>\n",
       "      <th>Rank</th>\n",
       "    </tr>\n",
       "  </thead>\n",
       "  <tbody>\n",
       "    <tr>\n",
       "      <th>77741</th>\n",
       "      <td>Bodrum Milas</td>\n",
       "      <td>4</td>\n",
       "    </tr>\n",
       "  </tbody>\n",
       "</table>\n",
       "</div>"
      ],
      "text/plain": [
       "       arrival_city  Rank\n",
       "77741  Bodrum Milas     4"
      ]
     },
     "execution_count": 50,
     "metadata": {},
     "output_type": "execute_result"
    }
   ],
   "source": [
    "test_data[test_data[\"arrival_city\"]==\"Bodrum Milas\"].iloc[[1159]][[\"arrival_city\",\"Rank\"]]"
   ]
  },
  {
   "cell_type": "markdown",
   "id": "769ffac9",
   "metadata": {},
   "source": [
    "## DALAMAN"
   ]
  },
  {
   "cell_type": "code",
   "execution_count": 51,
   "id": "3240310b",
   "metadata": {},
   "outputs": [
    {
     "data": {
      "text/html": [
       "<div>\n",
       "<style scoped>\n",
       "    .dataframe tbody tr th:only-of-type {\n",
       "        vertical-align: middle;\n",
       "    }\n",
       "\n",
       "    .dataframe tbody tr th {\n",
       "        vertical-align: top;\n",
       "    }\n",
       "\n",
       "    .dataframe thead th {\n",
       "        text-align: right;\n",
       "    }\n",
       "</style>\n",
       "<table border=\"1\" class=\"dataframe\">\n",
       "  <thead>\n",
       "    <tr style=\"text-align: right;\">\n",
       "      <th></th>\n",
       "      <th>arrival_city</th>\n",
       "      <th>Rank</th>\n",
       "    </tr>\n",
       "  </thead>\n",
       "  <tbody>\n",
       "    <tr>\n",
       "      <th>84510</th>\n",
       "      <td>Dalaman</td>\n",
       "      <td>1</td>\n",
       "    </tr>\n",
       "  </tbody>\n",
       "</table>\n",
       "</div>"
      ],
      "text/plain": [
       "      arrival_city  Rank\n",
       "84510      Dalaman     1"
      ]
     },
     "execution_count": 51,
     "metadata": {},
     "output_type": "execute_result"
    }
   ],
   "source": [
    "test_data[test_data[\"arrival_city\"]==\"Dalaman\"].iloc[[416]][[\"arrival_city\",\"Rank\"]]"
   ]
  },
  {
   "cell_type": "code",
   "execution_count": 58,
   "id": "70d604c9",
   "metadata": {},
   "outputs": [
    {
     "data": {
      "text/html": [
       "<div>\n",
       "<style scoped>\n",
       "    .dataframe tbody tr th:only-of-type {\n",
       "        vertical-align: middle;\n",
       "    }\n",
       "\n",
       "    .dataframe tbody tr th {\n",
       "        vertical-align: top;\n",
       "    }\n",
       "\n",
       "    .dataframe thead th {\n",
       "        text-align: right;\n",
       "    }\n",
       "</style>\n",
       "<table border=\"1\" class=\"dataframe\">\n",
       "  <thead>\n",
       "    <tr style=\"text-align: right;\">\n",
       "      <th></th>\n",
       "      <th>arrival_city</th>\n",
       "      <th>Rank</th>\n",
       "    </tr>\n",
       "  </thead>\n",
       "  <tbody>\n",
       "    <tr>\n",
       "      <th>86340</th>\n",
       "      <td>Dalaman</td>\n",
       "      <td>6</td>\n",
       "    </tr>\n",
       "  </tbody>\n",
       "</table>\n",
       "</div>"
      ],
      "text/plain": [
       "      arrival_city  Rank\n",
       "86340      Dalaman     6"
      ]
     },
     "execution_count": 58,
     "metadata": {},
     "output_type": "execute_result"
    }
   ],
   "source": [
    "test_data[test_data[\"arrival_city\"]==\"Dalaman\"].iloc[[5]][[\"arrival_city\",\"Rank\"]]"
   ]
  },
  {
   "cell_type": "markdown",
   "id": "3a9c8be5",
   "metadata": {},
   "source": [
    "## DİYARBAKIR"
   ]
  },
  {
   "cell_type": "code",
   "execution_count": 59,
   "id": "d4e2771d",
   "metadata": {},
   "outputs": [
    {
     "data": {
      "text/html": [
       "<div>\n",
       "<style scoped>\n",
       "    .dataframe tbody tr th:only-of-type {\n",
       "        vertical-align: middle;\n",
       "    }\n",
       "\n",
       "    .dataframe tbody tr th {\n",
       "        vertical-align: top;\n",
       "    }\n",
       "\n",
       "    .dataframe thead th {\n",
       "        text-align: right;\n",
       "    }\n",
       "</style>\n",
       "<table border=\"1\" class=\"dataframe\">\n",
       "  <thead>\n",
       "    <tr style=\"text-align: right;\">\n",
       "      <th></th>\n",
       "      <th>arrival_city</th>\n",
       "      <th>Rank</th>\n",
       "    </tr>\n",
       "  </thead>\n",
       "  <tbody>\n",
       "    <tr>\n",
       "      <th>111347</th>\n",
       "      <td>Diyarbakir</td>\n",
       "      <td>1</td>\n",
       "    </tr>\n",
       "  </tbody>\n",
       "</table>\n",
       "</div>"
      ],
      "text/plain": [
       "       arrival_city  Rank\n",
       "111347   Diyarbakir     1"
      ]
     },
     "execution_count": 59,
     "metadata": {},
     "output_type": "execute_result"
    }
   ],
   "source": [
    "test_data[test_data[\"arrival_city\"]==\"Diyarbakir\"].iloc[[447]][[\"arrival_city\",\"Rank\"]]"
   ]
  },
  {
   "cell_type": "code",
   "execution_count": 62,
   "id": "928ea5ea",
   "metadata": {},
   "outputs": [
    {
     "data": {
      "text/html": [
       "<div>\n",
       "<style scoped>\n",
       "    .dataframe tbody tr th:only-of-type {\n",
       "        vertical-align: middle;\n",
       "    }\n",
       "\n",
       "    .dataframe tbody tr th {\n",
       "        vertical-align: top;\n",
       "    }\n",
       "\n",
       "    .dataframe thead th {\n",
       "        text-align: right;\n",
       "    }\n",
       "</style>\n",
       "<table border=\"1\" class=\"dataframe\">\n",
       "  <thead>\n",
       "    <tr style=\"text-align: right;\">\n",
       "      <th></th>\n",
       "      <th>arrival_city</th>\n",
       "      <th>Rank</th>\n",
       "    </tr>\n",
       "  </thead>\n",
       "  <tbody>\n",
       "    <tr>\n",
       "      <th>113194</th>\n",
       "      <td>Diyarbakir</td>\n",
       "      <td>4</td>\n",
       "    </tr>\n",
       "  </tbody>\n",
       "</table>\n",
       "</div>"
      ],
      "text/plain": [
       "       arrival_city  Rank\n",
       "113194   Diyarbakir     4"
      ]
     },
     "execution_count": 62,
     "metadata": {},
     "output_type": "execute_result"
    }
   ],
   "source": [
    "test_data[test_data[\"arrival_city\"]==\"Diyarbakir\"].iloc[[92]][[\"arrival_city\",\"Rank\"]]"
   ]
  },
  {
   "cell_type": "markdown",
   "id": "22b46f46",
   "metadata": {},
   "source": [
    "## ERZURUM"
   ]
  },
  {
   "cell_type": "code",
   "execution_count": 69,
   "id": "3ab46598",
   "metadata": {
    "collapsed": true
   },
   "outputs": [
    {
     "data": {
      "text/html": [
       "<div>\n",
       "<style scoped>\n",
       "    .dataframe tbody tr th:only-of-type {\n",
       "        vertical-align: middle;\n",
       "    }\n",
       "\n",
       "    .dataframe tbody tr th {\n",
       "        vertical-align: top;\n",
       "    }\n",
       "\n",
       "    .dataframe thead th {\n",
       "        text-align: right;\n",
       "    }\n",
       "</style>\n",
       "<table border=\"1\" class=\"dataframe\">\n",
       "  <thead>\n",
       "    <tr style=\"text-align: right;\">\n",
       "      <th></th>\n",
       "      <th>arrival_city</th>\n",
       "      <th>Rank</th>\n",
       "    </tr>\n",
       "  </thead>\n",
       "  <tbody>\n",
       "    <tr>\n",
       "      <th>123424</th>\n",
       "      <td>Erzurum</td>\n",
       "      <td>1</td>\n",
       "    </tr>\n",
       "  </tbody>\n",
       "</table>\n",
       "</div>"
      ],
      "text/plain": [
       "       arrival_city  Rank\n",
       "123424      Erzurum     1"
      ]
     },
     "execution_count": 69,
     "metadata": {},
     "output_type": "execute_result"
    }
   ],
   "source": [
    "test_data[test_data[\"arrival_city\"]==\"Erzurum\"].iloc[[417]][[\"arrival_city\",\"Rank\"]]"
   ]
  },
  {
   "cell_type": "markdown",
   "id": "d6763f86",
   "metadata": {},
   "source": [
    "## GAZİANTEP"
   ]
  },
  {
   "cell_type": "code",
   "execution_count": 68,
   "id": "18b97170",
   "metadata": {},
   "outputs": [
    {
     "data": {
      "text/html": [
       "<div>\n",
       "<style scoped>\n",
       "    .dataframe tbody tr th:only-of-type {\n",
       "        vertical-align: middle;\n",
       "    }\n",
       "\n",
       "    .dataframe tbody tr th {\n",
       "        vertical-align: top;\n",
       "    }\n",
       "\n",
       "    .dataframe thead th {\n",
       "        text-align: right;\n",
       "    }\n",
       "</style>\n",
       "<table border=\"1\" class=\"dataframe\">\n",
       "  <thead>\n",
       "    <tr style=\"text-align: right;\">\n",
       "      <th></th>\n",
       "      <th>arrival_city</th>\n",
       "      <th>Rank</th>\n",
       "    </tr>\n",
       "  </thead>\n",
       "  <tbody>\n",
       "    <tr>\n",
       "      <th>102928</th>\n",
       "      <td>Gaziantep</td>\n",
       "      <td>1</td>\n",
       "    </tr>\n",
       "  </tbody>\n",
       "</table>\n",
       "</div>"
      ],
      "text/plain": [
       "       arrival_city  Rank\n",
       "102928    Gaziantep     1"
      ]
     },
     "execution_count": 68,
     "metadata": {},
     "output_type": "execute_result"
    }
   ],
   "source": [
    "test_data[test_data[\"arrival_city\"]==\"Gaziantep\"].iloc[[1077]][[\"arrival_city\",\"Rank\"]]"
   ]
  },
  {
   "cell_type": "markdown",
   "id": "bbe74d9f",
   "metadata": {},
   "source": [
    "## HATAY"
   ]
  },
  {
   "cell_type": "code",
   "execution_count": 73,
   "id": "3e3f1a79",
   "metadata": {},
   "outputs": [
    {
     "data": {
      "text/html": [
       "<div>\n",
       "<style scoped>\n",
       "    .dataframe tbody tr th:only-of-type {\n",
       "        vertical-align: middle;\n",
       "    }\n",
       "\n",
       "    .dataframe tbody tr th {\n",
       "        vertical-align: top;\n",
       "    }\n",
       "\n",
       "    .dataframe thead th {\n",
       "        text-align: right;\n",
       "    }\n",
       "</style>\n",
       "<table border=\"1\" class=\"dataframe\">\n",
       "  <thead>\n",
       "    <tr style=\"text-align: right;\">\n",
       "      <th></th>\n",
       "      <th>arrival_city</th>\n",
       "      <th>Rank</th>\n",
       "    </tr>\n",
       "  </thead>\n",
       "  <tbody>\n",
       "    <tr>\n",
       "      <th>116816</th>\n",
       "      <td>Hatay</td>\n",
       "      <td>1</td>\n",
       "    </tr>\n",
       "  </tbody>\n",
       "</table>\n",
       "</div>"
      ],
      "text/plain": [
       "       arrival_city  Rank\n",
       "116816        Hatay     1"
      ]
     },
     "execution_count": 73,
     "metadata": {},
     "output_type": "execute_result"
    }
   ],
   "source": [
    "test_data[test_data[\"arrival_city\"]==\"Hatay\"].iloc[[337]][[\"arrival_city\",\"Rank\"]]"
   ]
  },
  {
   "cell_type": "code",
   "execution_count": 72,
   "id": "bc3a340c",
   "metadata": {},
   "outputs": [
    {
     "data": {
      "text/html": [
       "<div>\n",
       "<style scoped>\n",
       "    .dataframe tbody tr th:only-of-type {\n",
       "        vertical-align: middle;\n",
       "    }\n",
       "\n",
       "    .dataframe tbody tr th {\n",
       "        vertical-align: top;\n",
       "    }\n",
       "\n",
       "    .dataframe thead th {\n",
       "        text-align: right;\n",
       "    }\n",
       "</style>\n",
       "<table border=\"1\" class=\"dataframe\">\n",
       "  <thead>\n",
       "    <tr style=\"text-align: right;\">\n",
       "      <th></th>\n",
       "      <th>arrival_city</th>\n",
       "      <th>Rank</th>\n",
       "    </tr>\n",
       "  </thead>\n",
       "  <tbody>\n",
       "    <tr>\n",
       "      <th>115232</th>\n",
       "      <td>Hatay</td>\n",
       "      <td>4</td>\n",
       "    </tr>\n",
       "  </tbody>\n",
       "</table>\n",
       "</div>"
      ],
      "text/plain": [
       "       arrival_city  Rank\n",
       "115232        Hatay     4"
      ]
     },
     "execution_count": 72,
     "metadata": {},
     "output_type": "execute_result"
    }
   ],
   "source": [
    "test_data[test_data[\"arrival_city\"]==\"Hatay\"].iloc[[157]][[\"arrival_city\",\"Rank\"]]"
   ]
  },
  {
   "cell_type": "markdown",
   "id": "1642903f",
   "metadata": {},
   "source": [
    "## İZMİR"
   ]
  },
  {
   "cell_type": "code",
   "execution_count": 76,
   "id": "d8b14983",
   "metadata": {},
   "outputs": [
    {
     "data": {
      "text/html": [
       "<div>\n",
       "<style scoped>\n",
       "    .dataframe tbody tr th:only-of-type {\n",
       "        vertical-align: middle;\n",
       "    }\n",
       "\n",
       "    .dataframe tbody tr th {\n",
       "        vertical-align: top;\n",
       "    }\n",
       "\n",
       "    .dataframe thead th {\n",
       "        text-align: right;\n",
       "    }\n",
       "</style>\n",
       "<table border=\"1\" class=\"dataframe\">\n",
       "  <thead>\n",
       "    <tr style=\"text-align: right;\">\n",
       "      <th></th>\n",
       "      <th>arrival_city</th>\n",
       "      <th>Rank</th>\n",
       "    </tr>\n",
       "  </thead>\n",
       "  <tbody>\n",
       "    <tr>\n",
       "      <th>8245</th>\n",
       "      <td>Izmir</td>\n",
       "      <td>1</td>\n",
       "    </tr>\n",
       "  </tbody>\n",
       "</table>\n",
       "</div>"
      ],
      "text/plain": [
       "     arrival_city  Rank\n",
       "8245        Izmir     1"
      ]
     },
     "execution_count": 76,
     "metadata": {},
     "output_type": "execute_result"
    }
   ],
   "source": [
    "test_data[test_data[\"arrival_city\"]==\"Izmir\"].iloc[[3101]][[\"arrival_city\",\"Rank\"]]"
   ]
  },
  {
   "cell_type": "code",
   "execution_count": 77,
   "id": "efff39d0",
   "metadata": {},
   "outputs": [
    {
     "data": {
      "text/html": [
       "<div>\n",
       "<style scoped>\n",
       "    .dataframe tbody tr th:only-of-type {\n",
       "        vertical-align: middle;\n",
       "    }\n",
       "\n",
       "    .dataframe tbody tr th {\n",
       "        vertical-align: top;\n",
       "    }\n",
       "\n",
       "    .dataframe thead th {\n",
       "        text-align: right;\n",
       "    }\n",
       "</style>\n",
       "<table border=\"1\" class=\"dataframe\">\n",
       "  <thead>\n",
       "    <tr style=\"text-align: right;\">\n",
       "      <th></th>\n",
       "      <th>arrival_city</th>\n",
       "      <th>Rank</th>\n",
       "    </tr>\n",
       "  </thead>\n",
       "  <tbody>\n",
       "    <tr>\n",
       "      <th>7468</th>\n",
       "      <td>Izmir</td>\n",
       "      <td>4</td>\n",
       "    </tr>\n",
       "  </tbody>\n",
       "</table>\n",
       "</div>"
      ],
      "text/plain": [
       "     arrival_city  Rank\n",
       "7468        Izmir     4"
      ]
     },
     "execution_count": 77,
     "metadata": {},
     "output_type": "execute_result"
    }
   ],
   "source": [
    "test_data[test_data[\"arrival_city\"]==\"Izmir\"].iloc[[1520]][[\"arrival_city\",\"Rank\"]]"
   ]
  },
  {
   "cell_type": "markdown",
   "id": "bea064c8",
   "metadata": {},
   "source": [
    "## KARS"
   ]
  },
  {
   "cell_type": "code",
   "execution_count": 78,
   "id": "25cd4c17",
   "metadata": {},
   "outputs": [
    {
     "data": {
      "text/html": [
       "<div>\n",
       "<style scoped>\n",
       "    .dataframe tbody tr th:only-of-type {\n",
       "        vertical-align: middle;\n",
       "    }\n",
       "\n",
       "    .dataframe tbody tr th {\n",
       "        vertical-align: top;\n",
       "    }\n",
       "\n",
       "    .dataframe thead th {\n",
       "        text-align: right;\n",
       "    }\n",
       "</style>\n",
       "<table border=\"1\" class=\"dataframe\">\n",
       "  <thead>\n",
       "    <tr style=\"text-align: right;\">\n",
       "      <th></th>\n",
       "      <th>arrival_city</th>\n",
       "      <th>Rank</th>\n",
       "    </tr>\n",
       "  </thead>\n",
       "  <tbody>\n",
       "    <tr>\n",
       "      <th>120519</th>\n",
       "      <td>Kars</td>\n",
       "      <td>1</td>\n",
       "    </tr>\n",
       "  </tbody>\n",
       "</table>\n",
       "</div>"
      ],
      "text/plain": [
       "       arrival_city  Rank\n",
       "120519         Kars     1"
      ]
     },
     "execution_count": 78,
     "metadata": {},
     "output_type": "execute_result"
    }
   ],
   "source": [
    "test_data[test_data[\"arrival_city\"]==\"Kars\"].iloc[[227]][[\"arrival_city\",\"Rank\"]]"
   ]
  },
  {
   "cell_type": "markdown",
   "id": "bf3c9f07",
   "metadata": {},
   "source": [
    "## MARDİN"
   ]
  },
  {
   "cell_type": "code",
   "execution_count": 87,
   "id": "024ffa32",
   "metadata": {},
   "outputs": [
    {
     "data": {
      "text/html": [
       "<div>\n",
       "<style scoped>\n",
       "    .dataframe tbody tr th:only-of-type {\n",
       "        vertical-align: middle;\n",
       "    }\n",
       "\n",
       "    .dataframe tbody tr th {\n",
       "        vertical-align: top;\n",
       "    }\n",
       "\n",
       "    .dataframe thead th {\n",
       "        text-align: right;\n",
       "    }\n",
       "</style>\n",
       "<table border=\"1\" class=\"dataframe\">\n",
       "  <thead>\n",
       "    <tr style=\"text-align: right;\">\n",
       "      <th></th>\n",
       "      <th>arrival_city</th>\n",
       "      <th>Rank</th>\n",
       "    </tr>\n",
       "  </thead>\n",
       "  <tbody>\n",
       "    <tr>\n",
       "      <th>127590</th>\n",
       "      <td>Mardin</td>\n",
       "      <td>4</td>\n",
       "    </tr>\n",
       "  </tbody>\n",
       "</table>\n",
       "</div>"
      ],
      "text/plain": [
       "       arrival_city  Rank\n",
       "127590       Mardin     4"
      ]
     },
     "execution_count": 87,
     "metadata": {},
     "output_type": "execute_result"
    }
   ],
   "source": [
    "test_data[test_data[\"arrival_city\"]==\"Mardin\"].iloc[[224]][[\"arrival_city\",\"Rank\"]]"
   ]
  },
  {
   "cell_type": "code",
   "execution_count": 88,
   "id": "1bbd8eb5",
   "metadata": {},
   "outputs": [
    {
     "data": {
      "text/html": [
       "<div>\n",
       "<style scoped>\n",
       "    .dataframe tbody tr th:only-of-type {\n",
       "        vertical-align: middle;\n",
       "    }\n",
       "\n",
       "    .dataframe tbody tr th {\n",
       "        vertical-align: top;\n",
       "    }\n",
       "\n",
       "    .dataframe thead th {\n",
       "        text-align: right;\n",
       "    }\n",
       "</style>\n",
       "<table border=\"1\" class=\"dataframe\">\n",
       "  <thead>\n",
       "    <tr style=\"text-align: right;\">\n",
       "      <th></th>\n",
       "      <th>arrival_city</th>\n",
       "      <th>Rank</th>\n",
       "    </tr>\n",
       "  </thead>\n",
       "  <tbody>\n",
       "    <tr>\n",
       "      <th>128075</th>\n",
       "      <td>Mardin</td>\n",
       "      <td>1</td>\n",
       "    </tr>\n",
       "  </tbody>\n",
       "</table>\n",
       "</div>"
      ],
      "text/plain": [
       "       arrival_city  Rank\n",
       "128075       Mardin     1"
      ]
     },
     "execution_count": 88,
     "metadata": {},
     "output_type": "execute_result"
    }
   ],
   "source": [
    "test_data[test_data[\"arrival_city\"]==\"Mardin\"].iloc[[4]][[\"arrival_city\",\"Rank\"]]"
   ]
  },
  {
   "cell_type": "code",
   "execution_count": 89,
   "id": "5782cdb4",
   "metadata": {},
   "outputs": [
    {
     "data": {
      "text/html": [
       "<div>\n",
       "<style scoped>\n",
       "    .dataframe tbody tr th:only-of-type {\n",
       "        vertical-align: middle;\n",
       "    }\n",
       "\n",
       "    .dataframe tbody tr th {\n",
       "        vertical-align: top;\n",
       "    }\n",
       "\n",
       "    .dataframe thead th {\n",
       "        text-align: right;\n",
       "    }\n",
       "</style>\n",
       "<table border=\"1\" class=\"dataframe\">\n",
       "  <thead>\n",
       "    <tr style=\"text-align: right;\">\n",
       "      <th></th>\n",
       "      <th>arrival_city</th>\n",
       "      <th>Rank</th>\n",
       "    </tr>\n",
       "  </thead>\n",
       "  <tbody>\n",
       "    <tr>\n",
       "      <th>127909</th>\n",
       "      <td>Mardin</td>\n",
       "      <td>4</td>\n",
       "    </tr>\n",
       "  </tbody>\n",
       "</table>\n",
       "</div>"
      ],
      "text/plain": [
       "       arrival_city  Rank\n",
       "127909       Mardin     4"
      ]
     },
     "execution_count": 89,
     "metadata": {},
     "output_type": "execute_result"
    }
   ],
   "source": [
    "test_data[test_data[\"arrival_city\"]==\"Mardin\"].iloc[[379]][[\"arrival_city\",\"Rank\"]]"
   ]
  },
  {
   "cell_type": "markdown",
   "id": "8f4663d3",
   "metadata": {},
   "source": [
    "## TRABZON"
   ]
  },
  {
   "cell_type": "code",
   "execution_count": 90,
   "id": "cdbebab2",
   "metadata": {},
   "outputs": [
    {
     "data": {
      "text/html": [
       "<div>\n",
       "<style scoped>\n",
       "    .dataframe tbody tr th:only-of-type {\n",
       "        vertical-align: middle;\n",
       "    }\n",
       "\n",
       "    .dataframe tbody tr th {\n",
       "        vertical-align: top;\n",
       "    }\n",
       "\n",
       "    .dataframe thead th {\n",
       "        text-align: right;\n",
       "    }\n",
       "</style>\n",
       "<table border=\"1\" class=\"dataframe\">\n",
       "  <thead>\n",
       "    <tr style=\"text-align: right;\">\n",
       "      <th></th>\n",
       "      <th>arrival_city</th>\n",
       "      <th>Rank</th>\n",
       "    </tr>\n",
       "  </thead>\n",
       "  <tbody>\n",
       "    <tr>\n",
       "      <th>92408</th>\n",
       "      <td>Trabzon</td>\n",
       "      <td>1</td>\n",
       "    </tr>\n",
       "  </tbody>\n",
       "</table>\n",
       "</div>"
      ],
      "text/plain": [
       "      arrival_city  Rank\n",
       "92408      Trabzon     1"
      ]
     },
     "execution_count": 90,
     "metadata": {},
     "output_type": "execute_result"
    }
   ],
   "source": [
    "test_data[test_data[\"arrival_city\"]==\"Trabzon\"].iloc[[340]][[\"arrival_city\",\"Rank\"]]"
   ]
  },
  {
   "cell_type": "code",
   "execution_count": 96,
   "id": "0630b27b",
   "metadata": {},
   "outputs": [
    {
     "data": {
      "text/html": [
       "<div>\n",
       "<style scoped>\n",
       "    .dataframe tbody tr th:only-of-type {\n",
       "        vertical-align: middle;\n",
       "    }\n",
       "\n",
       "    .dataframe tbody tr th {\n",
       "        vertical-align: top;\n",
       "    }\n",
       "\n",
       "    .dataframe thead th {\n",
       "        text-align: right;\n",
       "    }\n",
       "</style>\n",
       "<table border=\"1\" class=\"dataframe\">\n",
       "  <thead>\n",
       "    <tr style=\"text-align: right;\">\n",
       "      <th></th>\n",
       "      <th>arrival_city</th>\n",
       "      <th>Rank</th>\n",
       "    </tr>\n",
       "  </thead>\n",
       "  <tbody>\n",
       "    <tr>\n",
       "      <th>91387</th>\n",
       "      <td>Trabzon</td>\n",
       "      <td>4</td>\n",
       "    </tr>\n",
       "  </tbody>\n",
       "</table>\n",
       "</div>"
      ],
      "text/plain": [
       "      arrival_city  Rank\n",
       "91387      Trabzon     4"
      ]
     },
     "execution_count": 96,
     "metadata": {},
     "output_type": "execute_result"
    }
   ],
   "source": [
    "test_data[test_data[\"arrival_city\"]==\"Trabzon\"].iloc[[2156]][[\"arrival_city\",\"Rank\"]]"
   ]
  },
  {
   "cell_type": "markdown",
   "id": "c4b7c4a4",
   "metadata": {},
   "source": [
    "## FEATURE IMPORTANCE"
   ]
  },
  {
   "cell_type": "code",
   "execution_count": 97,
   "id": "00e0eb41",
   "metadata": {},
   "outputs": [
    {
     "data": {
      "image/png": "[encoded data removed]",
      "text/plain": [
       "<Figure size 1200x600 with 1 Axes>"
      ]
     },
     "metadata": {},
     "output_type": "display_data"
    }
   ],
   "source": [
    "plt.figure(figsize=(12, 6))\n",
    "df_plt = pd.DataFrame({'feature_name': X_train.columns, 'feature_importance': model.feature_importances_})\n",
    "df_plt.sort_values('feature_importance', ascending=False, inplace=True)\n",
    "sns.barplot(x=\"feature_importance\", y=\"feature_name\", data=df_plt, color=\"#34495E\")\n",
    "plt.title('Feature Importance', fontSize= \"14px\")\n",
    "plt.show()"
   ]
  }
 ],
 "metadata": {
  "kernelspec": {
   "display_name": "Python 3 (ipykernel)",
   "language": "python",
   "name": "python3"
  },
  "language_info": {
   "codemirror_mode": {
    "name": "ipython",
    "version": 3
   },
   "file_extension": ".py",
   "mimetype": "text/x-python",
   "name": "python",
   "nbconvert_exporter": "python",
   "pygments_lexer": "ipython3",
   "version": "3.9.13"
  }
 },
 "nbformat": 4,
 "nbformat_minor": 5
}
